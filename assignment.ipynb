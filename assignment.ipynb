{
  "cells": [
    {
      "cell_type": "markdown",
      "metadata": {
        "id": "7SXpaKwwGe5x"
      },
      "source": [
        "# TM10007 Assignment template"
      ]
    },
    {
      "cell_type": "code",
      "execution_count": 186,
      "metadata": {
        "colab": {
          "base_uri": "https://localhost:8080/"
        },
        "id": "CiDn2Sk-VWqE",
        "outputId": "57a73c43-34ca-4d70-8b48-02b60c458f22"
      },
      "outputs": [
        {
          "output_type": "stream",
          "name": "stdout",
          "text": [
            "fatal: destination path 'TM10007_ML_g9' already exists and is not an empty directory.\n"
          ]
        }
      ],
      "source": [
        "# Run this to use from colab environment\n",
        "!git clone https://github.com/Doesjka/TM10007_ML_g9.git"
      ]
    },
    {
      "cell_type": "markdown",
      "metadata": {
        "id": "KEUJUe8plrxC"
      },
      "source": [
        "## Data loading and cleaning\n",
        "\n",
        "Below are functions to load the dataset of your choice. After that, it is all up to you to create and evaluate a classification method. Beware, there may be missing values in these datasets. Good luck!"
      ]
    },
    {
      "cell_type": "code",
      "execution_count": 187,
      "metadata": {
        "colab": {
          "base_uri": "https://localhost:8080/"
        },
        "id": "-NE_fTbKGe5z",
        "outputId": "3d8a69ae-d30d-43b1-fd9d-53cdfc7ab0b8"
      },
      "outputs": [
        {
          "output_type": "stream",
          "name": "stdout",
          "text": [
            "The number of samples: 115\n",
            "The number of columns: 494\n"
          ]
        }
      ],
      "source": [
        "import os\n",
        "import pandas as pd\n",
        "import numpy as np\n",
        "from sklearn import preprocessing\n",
        "from sklearn import model_selection\n",
        "from sklearn import decomposition\n",
        "import seaborn\n",
        "import matplotlib.pyplot as plt\n",
        "\n",
        "data = pd.read_csv('/content/TM10007_ML_g9/worclipo/Lipo_radiomicFeatures.csv', index_col=0)\n",
        "print(f'The number of samples: {len(data.index)}')\n",
        "print(f'The number of columns: {len(data.columns)}')\n"
      ]
    },
    {
      "cell_type": "markdown",
      "source": [
        "## Splitting data in train and test set\n"
      ],
      "metadata": {
        "id": "LHslq_ZZZbW7"
      }
    },
    {
      "cell_type": "code",
      "source": [
        "X_train, X_test, y_train, y_test = model_selection.train_test_split(data, data.index, test_size=0.25, random_state=42)\n",
        "labels_train = X_train['label']\n",
        "X_train = X_train.drop(columns='label')"
      ],
      "metadata": {
        "id": "P8f1SNKeZaB7"
      },
      "execution_count": 188,
      "outputs": []
    },
    {
      "cell_type": "markdown",
      "source": [
        "## Handling missing data \n",
        "### Throwing out features\n",
        "All features that exist of at least 50% zeros are deleted from the data. \n"
      ],
      "metadata": {
        "id": "gJLsBPlTZwAd"
      }
    },
    {
      "cell_type": "code",
      "source": [
        "zeros = (X_train == 0).sum()\n",
        "threshold = 0.5 * len(y_train)\n",
        "print('Threshold = ', threshold)\n",
        "feature_del = zeros[zeros > threshold]\n",
        "\n",
        "X_train = X_train.drop(columns=feature_del.index)\n",
        "print(f'{len(data.columns)-len(X_train.columns)} features were deleted')"
      ],
      "metadata": {
        "colab": {
          "base_uri": "https://localhost:8080/"
        },
        "id": "vWcI7Y3g7eDk",
        "outputId": "6df07762-e1df-4097-837c-d8ae7e1750f2"
      },
      "execution_count": 189,
      "outputs": [
        {
          "output_type": "stream",
          "name": "stdout",
          "text": [
            "Threshold =  43.0\n",
            "24 features were deleted\n"
          ]
        }
      ]
    },
    {
      "cell_type": "code",
      "source": [
        "more_zeros = (X_train == 0).sum()\n",
        "columns_zeros = more_zeros[more_zeros > 0].index\n",
        "print(f'Of the remaining features, {len(columns_zeros)} features have at least one zero')\n",
        "print(f'There is a total of {more_zeros.sum()} zeros left in the data')\n"
      ],
      "metadata": {
        "colab": {
          "base_uri": "https://localhost:8080/"
        },
        "id": "iuoOrHuMAsFY",
        "outputId": "b3b6c1b1-1ab4-48a3-e7b9-e842f5a7f5fe"
      },
      "execution_count": 190,
      "outputs": [
        {
          "output_type": "stream",
          "name": "stdout",
          "text": [
            "Of the remaining features, 13 features have at least one zero\n",
            "There is a total of 81 zeros left in the data\n"
          ]
        }
      ]
    },
    {
      "cell_type": "markdown",
      "source": [
        "## Calculate number of missing values per sample"
      ],
      "metadata": {
        "id": "pkM1c0vkq1YB"
      }
    },
    {
      "cell_type": "code",
      "source": [
        "zeros_r = (X_train == 0).sum(axis=1)\n",
        "threshold = 0.005 * X_train.size / len(y_train)\n",
        "print('Threshold = ', threshold)\n",
        "feature_del = zeros_r[zeros_r > threshold]\n",
        "print(feature_del)"
      ],
      "metadata": {
        "id": "4gHFgkGMm3Nm",
        "outputId": "1291a3c6-43e1-4ee3-89ba-0957e0303c96",
        "colab": {
          "base_uri": "https://localhost:8080/"
        }
      },
      "execution_count": 191,
      "outputs": [
        {
          "output_type": "stream",
          "name": "stdout",
          "text": [
            "Threshold =  2.35\n",
            "ID\n",
            "Lipo-069_0    3\n",
            "Lipo-051_0    3\n",
            "Lipo-090_0    5\n",
            "Lipo-076_0    3\n",
            "Lipo-003_0    3\n",
            "Lipo-088_0    3\n",
            "dtype: int64\n"
          ]
        }
      ]
    },
    {
      "cell_type": "code",
      "source": [
        "from scipy.stats import shapiro\n",
        "\n",
        "aantal_normaal = 0\n",
        "\n",
        "for column in X_train.columns:\n",
        "    result = shapiro(X_train[column])\n",
        "    # print(result.pvalue)\n",
        "    normaal = result.pvalue > 0.05\n",
        "    aantal_normaal += normaal\n",
        "    \n",
        "print(aantal_normaal)\n",
        "\n"
      ],
      "metadata": {
        "id": "XKxZ6YRnm3Xr",
        "outputId": "8ade3310-b135-4e2a-a401-60fee1e27a69",
        "colab": {
          "base_uri": "https://localhost:8080/"
        }
      },
      "execution_count": 216,
      "outputs": [
        {
          "output_type": "stream",
          "name": "stdout",
          "text": [
            "76\n"
          ]
        }
      ]
    },
    {
      "cell_type": "markdown",
      "source": [
        "### Filling remaining zeros\n",
        "All remaining zeros are replaced by the mean of that feature. "
      ],
      "metadata": {
        "id": "KwXkbuDYqhoJ"
      }
    },
    {
      "cell_type": "code",
      "source": [
        "X_train_mean = X_train\n",
        "X_train_median = X_train\n",
        "\n",
        "for column in columns_zeros[:]:\n",
        "    print('Kolom: ', column)\n",
        "    column_mean = X_train.loc[X_train[column]!=0, column].mean()\n",
        "    column_median = X_train.loc[X_train[column]!=0, column].median()\n",
        "    print('mean = ', column_mean)\n",
        "    print('median = ', column_median)\n",
        "\n",
        "    verschil2_percolumn = column_mean - column_median\n",
        "    print('Verschil tussen mean en median = ',verschil2_percolumn)\n",
        "\n",
        "    # result = shapiro(X_train[column])\n",
        "    # result.pvalue\n",
        "    print('p-waarde normaalverdeling = ', shapiro(X_train.loc[X_train[column]!=0, column]).pvalue)\n",
        "\n",
        "    X_train_mean[column].replace(0, column_mean)\n",
        "    X_train_median[column].replace(0, column_median)\n",
        "\n",
        "    print(' ')\n",
        "\n",
        "verschil = abs(X_train_mean - X_train_median)\n",
        "print('Totaal verschil = ', verschil.sum().sum())\n",
        "\n",
        "# X_train.head()\n",
        "# pd.set_option('display.max_rows', None)\n",
        "# print(X_train[columns_zeros[0]])\n",
        "# pd.set_option('display.max_rows', 10)\n"
      ],
      "metadata": {
        "id": "EQudKLJth0sz",
        "outputId": "5ed6bdc9-c74c-4e2b-de29-970d997884bd",
        "colab": {
          "base_uri": "https://localhost:8080/"
        }
      },
      "execution_count": 217,
      "outputs": [
        {
          "output_type": "stream",
          "name": "stdout",
          "text": [
            "Kolom:  PREDICT_original_sf_area_min_2.5D\n",
            "mean =  537.084274435431\n",
            "median =  245.599365234375\n",
            "Verschil tussen mean en median =  291.484909201056\n",
            "p-waarde normaalverdeling =  1.262648704125277e-13\n",
            " \n",
            "Kolom:  PREDICT_original_tf_LBP_quartile_range_R8_P24\n",
            "mean =  9.349397590361447\n",
            "median =  12.0\n",
            "Verschil tussen mean en median =  -2.6506024096385534\n",
            "p-waarde normaalverdeling =  3.746887159650214e-06\n",
            " \n",
            "Kolom:  PREDICT_original_tf_LBP_peak_R15_P36\n",
            "mean =  36.26000000000001\n",
            "median =  36.26\n",
            "Verschil tussen mean en median =  1.4210854715202004e-14\n",
            "p-waarde normaalverdeling =  1.0\n",
            " \n",
            "Kolom:  PREDICT_original_tf_LBP_peak_position_R15_P36\n",
            "mean =  49.0\n",
            "median =  49.0\n",
            "Verschil tussen mean en median =  0.0\n",
            "p-waarde normaalverdeling =  1.0\n",
            " \n",
            "Kolom:  PREDICT_original_tf_LBP_quartile_range_R15_P36\n",
            "mean =  16.444444444444443\n",
            "median =  19.0\n",
            "Verschil tussen mean en median =  -2.555555555555557\n",
            "p-waarde normaalverdeling =  0.052347369492053986\n",
            " \n",
            "Kolom:  PREDICT_original_vf_Frangi_full_quartile_range_SR(1.0, 10.0)_SS2.0\n",
            "mean =  2.747003047636076e-07\n",
            "median =  5.231391779513952e-10\n",
            "Verschil tussen mean en median =  2.741771655856562e-07\n",
            "p-waarde normaalverdeling =  7.510082641294043e-20\n",
            " \n",
            "Kolom:  PREDICT_original_vf_Frangi_edge_quartile_range_SR(1.0, 10.0)_SS2.0\n",
            "mean =  2.747003047636076e-07\n",
            "median =  5.231391779513952e-10\n",
            "Verschil tussen mean en median =  2.741771655856562e-07\n",
            "p-waarde normaalverdeling =  7.510082641294043e-20\n",
            " \n",
            "Kolom:  PREDICT_original_vf_Frangi_inner_quartile_range_SR(1.0, 10.0)_SS2.0\n",
            "mean =  8.611875493173947e-08\n",
            "median =  3.7415051903319335e-10\n",
            "Verschil tussen mean en median =  8.574460441270628e-08\n",
            "p-waarde normaalverdeling =  9.643910061178511e-20\n",
            " \n",
            "Kolom:  PREDICT_original_phasef_monogenic_min_WL3_N5\n",
            "mean =  3.9376190476190476\n",
            "median =  3.5\n",
            "Verschil tussen mean en median =  0.4376190476190476\n",
            "p-waarde normaalverdeling =  1.520253367637281e-11\n",
            " \n",
            "Kolom:  PREDICT_original_phasef_monogenic_peak_WL3_N5\n",
            "mean =  86.09253012048192\n",
            "median =  85.92\n",
            "Verschil tussen mean en median =  0.17253012048192318\n",
            "p-waarde normaalverdeling =  0.0007170478929765522\n",
            " \n",
            "Kolom:  PREDICT_original_phasef_monogenic_peak_position_WL3_N5\n",
            "mean =  24.048192771084338\n",
            "median =  24.0\n",
            "Verschil tussen mean en median =  0.04819277108433795\n",
            "p-waarde normaalverdeling =  0.0007170490571297705\n",
            " \n",
            "Kolom:  PREDICT_original_phasef_phasecong_quartile_range_WL3_N5\n",
            "mean =  0.02964690034502337\n",
            "median =  0.0184941139266057\n",
            "Verschil tussen mean en median =  0.01115278641841767\n",
            "p-waarde normaalverdeling =  1.0479871094190574e-12\n",
            " \n",
            "Kolom:  PREDICT_original_phasef_phasesym_quartile_range_WL3_N5\n",
            "mean =  0.21017852887841654\n",
            "median =  0.2252066410046462\n",
            "Verschil tussen mean en median =  -0.015028112126229676\n",
            "p-waarde normaalverdeling =  0.28513801097869873\n",
            " \n",
            "Totaal verschil =  0.0\n"
          ]
        },
        {
          "output_type": "stream",
          "name": "stderr",
          "text": [
            "/usr/local/lib/python3.9/dist-packages/scipy/stats/_morestats.py:1813: UserWarning: Input data for shapiro has range zero. The results may not be accurate.\n",
            "  warnings.warn(\"Input data for shapiro has range zero. The results \"\n",
            "/usr/local/lib/python3.9/dist-packages/scipy/stats/_morestats.py:1813: UserWarning: Input data for shapiro has range zero. The results may not be accurate.\n",
            "  warnings.warn(\"Input data for shapiro has range zero. The results \"\n"
          ]
        }
      ]
    },
    {
      "cell_type": "markdown",
      "source": [
        "## Scaling"
      ],
      "metadata": {
        "id": "YQtVjjF2dX77"
      }
    },
    {
      "cell_type": "code",
      "source": [
        "# scaler = preprocessing.StandardScaler().fit(X_train_median)\n",
        "# X_train_scaled = scaler.transform(X_train_median)\n",
        "# X_train_scaled_df = pd.DataFrame(X_train_scaled, columns=X_train_median.columns)\n",
        "\n",
        "scaler = preprocessing.RobustScaler().fit(X_train_median)\n",
        "X_train_scaled = scaler.transform(X_train_median)\n",
        "X_train_scaled_df = pd.DataFrame(X_train_scaled, columns=X_train_median.columns)\n",
        "\n",
        "# scaler = preprocessing.MinMaxScaler().fit(X_train_median)\n",
        "# X_train_scaled = scaler.transform(X_train_median)\n",
        "# X_train_scaled_df = pd.DataFrame(X_train_scaled, columns=X_train_median.columns)"
      ],
      "metadata": {
        "id": "iXgA9qGcc2eH"
      },
      "execution_count": 199,
      "outputs": []
    },
    {
      "cell_type": "markdown",
      "source": [
        "## PCA"
      ],
      "metadata": {
        "id": "xOOLNJnlfLbj"
      }
    },
    {
      "cell_type": "code",
      "source": [
        "pca = decomposition.PCA(n_components=5)\n",
        "pca.fit(X_train_scaled_df)\n",
        "X_pca = pca.transform(X_train_scaled_df)\n",
        "seaborn.scatterplot(x=X_pca[:, 0], y=X_pca[:, 3], hue=labels_train)\n",
        "# plt.xscale('log')\n",
        "# plt.yscale('log')\n",
        "print(pca.explained_variance_ratio_)\n",
        "# print(pca.singular_values_)\n",
        "\n",
        "pca_df = pd.DataFrame(pca.components_,columns=X_train_scaled_df.columns,index = ['PC-1','PC-2','PC-3','PC-4','PC-5'])\n",
        "max_feature = pca_df.idxmax(axis=1)\n",
        "# print(X_train_scaled_df[max_feature.iloc[1]])\n",
        "# seaborn.scatterplot(x=X_train_scaled_df[max_feature.iloc[0]], y=X_train_scaled_df[max_feature.iloc[1]], hue=labels_train)\n",
        "# print(max_feature)"
      ],
      "metadata": {
        "id": "dU9UMzbtfNTE",
        "outputId": "e1f9ace0-52fc-469d-8ca8-5dc694c56485",
        "colab": {
          "base_uri": "https://localhost:8080/",
          "height": 483
        }
      },
      "execution_count": 205,
      "outputs": [
        {
          "output_type": "stream",
          "name": "stdout",
          "text": [
            "[9.96222084e-01 3.77785060e-03 5.28891404e-08 1.06125368e-08\n",
            " 1.41946426e-09]\n"
          ]
        },
        {
          "output_type": "display_data",
          "data": {
            "text/plain": [
              "<Figure size 640x480 with 1 Axes>"
            ],
            "image/png": "[encoded data removed]"
          },
          "metadata": {}
        }
      ]
    }
  ],
  "metadata": {
    "colab": {
      "name": "assignment.ipynb",
      "provenance": []
    },
    "kernelspec": {
      "display_name": "Python 3",
      "language": "python",
      "name": "python3"
    },
    "language_info": {
      "codemirror_mode": {
        "name": "ipython",
        "version": 3
      },
      "file_extension": ".py",
      "mimetype": "text/x-python",
      "name": "python",
      "nbconvert_exporter": "python",
      "pygments_lexer": "ipython3",
      "version": "3.8.5"
    }
  },
  "nbformat": 4,
  "nbformat_minor": 0
}