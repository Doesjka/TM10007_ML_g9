{
  "cells": [
    {
      "cell_type": "markdown",
      "metadata": {
        "id": "7SXpaKwwGe5x"
      },
      "source": [
        "# TM10007 Assignment template"
      ]
    },
    {
      "cell_type": "code",
      "execution_count": 6,
      "metadata": {
        "colab": {
          "base_uri": "https://localhost:8080/"
        },
        "id": "CiDn2Sk-VWqE",
        "outputId": "0643395a-ea53-4b67-c154-afb00fff57d2"
      },
      "outputs": [
        {
          "output_type": "stream",
          "name": "stdout",
          "text": [
            "fatal: destination path 'TM10007_ML_g9' already exists and is not an empty directory.\n"
          ]
        }
      ],
      "source": [
        "# Run this to use from colab environment\n",
        "!git clone https://github.com/Doesjka/TM10007_ML_g9.git"
      ]
    },
    {
      "cell_type": "markdown",
      "metadata": {
        "id": "KEUJUe8plrxC"
      },
      "source": [
        "## Data loading and cleaning\n",
        "\n",
        "Below are functions to load the dataset of your choice. After that, it is all up to you to create and evaluate a classification method. Beware, there may be missing values in these datasets. Good luck!"
      ]
    },
    {
      "cell_type": "code",
      "execution_count": 44,
      "metadata": {
        "colab": {
          "base_uri": "https://localhost:8080/"
        },
        "id": "-NE_fTbKGe5z",
        "outputId": "181d8e49-75f5-482b-f973-0d86d490d92e"
      },
      "outputs": [
        {
          "output_type": "stream",
          "name": "stdout",
          "text": [
            "The number of samples: 115\n",
            "The number of columns: 494\n"
          ]
        }
      ],
      "source": [
        "import os\n",
        "import pandas as pd\n",
        "import numpy as np\n",
        "\n",
        "data = pd.read_csv('/content/TM10007_ML_g9/worclipo/Lipo_radiomicFeatures.csv', index_col=0)\n",
        "print(f'The number of samples: {len(data.index)}')\n",
        "print(f'The number of columns: {len(data.columns)}')\n"
      ]
    },
    {
      "cell_type": "code",
      "source": [
        "from sklearn import model_selection\n",
        "\n",
        "X_train, X_test, y_train, y_test = model_selection.train_test_split(data, data.index, test_size=0.20, random_state=42)\n"
      ],
      "metadata": {
        "id": "dJ3SPNCNUy1Z"
      },
      "execution_count": 56,
      "outputs": []
    },
    {
      "cell_type": "code",
      "source": [
        "X_test.head()\n",
        "\n",
        "print('Test set')\n",
        "X_test.head()\n",
        "print(f'The number of samples: {len(X_test.index)}')\n",
        "print(f'The number of columns: {len(X_test.columns)}')"
      ],
      "metadata": {
        "id": "TD58SOTLWFjV",
        "outputId": "116492f8-1529-423b-944b-63c09601ad07",
        "colab": {
          "base_uri": "https://localhost:8080/"
        }
      },
      "execution_count": 60,
      "outputs": [
        {
          "output_type": "stream",
          "name": "stdout",
          "text": [
            "Test set\n",
            "The number of samples: 23\n",
            "The number of columns: 494\n"
          ]
        }
      ]
    },
    {
      "cell_type": "code",
      "source": [
        "print('Training set')\n",
        "X_train.head()\n",
        "print(f'The number of samples: {len(X_train.index)}')\n",
        "print(f'The number of columns: {len(X_train.columns)}')"
      ],
      "metadata": {
        "id": "VK1lwWxZWE05",
        "outputId": "c44d6505-4fee-470e-9cfe-2b2982c39dba",
        "colab": {
          "base_uri": "https://localhost:8080/"
        }
      },
      "execution_count": 59,
      "outputs": [
        {
          "output_type": "stream",
          "name": "stdout",
          "text": [
            "Training set\n",
            "The number of samples: 92\n",
            "The number of columns: 494\n"
          ]
        }
      ]
    },
    {
      "cell_type": "code",
      "execution_count": 62,
      "metadata": {
        "id": "kZFiNU5MlrxD",
        "outputId": "baa3df89-b578-40c6-f532-4d5787fb05f5",
        "colab": {
          "base_uri": "https://localhost:8080/",
          "height": 680
        }
      },
      "outputs": [
        {
          "output_type": "execute_result",
          "data": {
            "text/plain": [
              "                  label  PREDICT_original_sf_compactness_avg_2.5D  \\\n",
              "ID                                                                  \n",
              "Lipo-001_0  liposarcoma                                  0.368434   \n",
              "Lipo-002_0  liposarcoma                                  0.660571   \n",
              "Lipo-003_0       lipoma                                  0.365191   \n",
              "Lipo-004_0  liposarcoma                                  0.372210   \n",
              "Lipo-005_0       lipoma                                  0.369120   \n",
              "\n",
              "            PREDICT_original_sf_compactness_std_2.5D  \\\n",
              "ID                                                     \n",
              "Lipo-001_0                                  0.262371   \n",
              "Lipo-002_0                                  0.179013   \n",
              "Lipo-003_0                                  0.157712   \n",
              "Lipo-004_0                                  0.169761   \n",
              "Lipo-005_0                                  0.167485   \n",
              "\n",
              "            PREDICT_original_sf_rad_dist_avg_2.5D  \\\n",
              "ID                                                  \n",
              "Lipo-001_0                              26.200395   \n",
              "Lipo-002_0                              55.155046   \n",
              "Lipo-003_0                              30.577026   \n",
              "Lipo-004_0                              94.006805   \n",
              "Lipo-005_0                              94.612701   \n",
              "\n",
              "            PREDICT_original_sf_rad_dist_std_2.5D  \\\n",
              "ID                                                  \n",
              "Lipo-001_0                               8.174390   \n",
              "Lipo-002_0                               9.318741   \n",
              "Lipo-003_0                               8.963647   \n",
              "Lipo-004_0                              33.512409   \n",
              "Lipo-005_0                              31.250821   \n",
              "\n",
              "            PREDICT_original_sf_roughness_avg_2.5D  \\\n",
              "ID                                                   \n",
              "Lipo-001_0                               20.940000   \n",
              "Lipo-002_0                                9.546044   \n",
              "Lipo-003_0                               17.695139   \n",
              "Lipo-004_0                               21.049148   \n",
              "Lipo-005_0                               17.059573   \n",
              "\n",
              "            PREDICT_original_sf_roughness_std_2.5D  \\\n",
              "ID                                                   \n",
              "Lipo-001_0                               13.551937   \n",
              "Lipo-002_0                                7.051937   \n",
              "Lipo-003_0                               10.772365   \n",
              "Lipo-004_0                               15.928362   \n",
              "Lipo-005_0                               15.239905   \n",
              "\n",
              "            PREDICT_original_sf_convexity_avg_2.5D  \\\n",
              "ID                                                   \n",
              "Lipo-001_0                                0.694139   \n",
              "Lipo-002_0                                0.871182   \n",
              "Lipo-003_0                                0.704710   \n",
              "Lipo-004_0                                0.754497   \n",
              "Lipo-005_0                                0.774545   \n",
              "\n",
              "            PREDICT_original_sf_convexity_std_2.5D  \\\n",
              "ID                                                   \n",
              "Lipo-001_0                                0.227848   \n",
              "Lipo-002_0                                0.125279   \n",
              "Lipo-003_0                                0.137529   \n",
              "Lipo-004_0                                0.186559   \n",
              "Lipo-005_0                                0.192922   \n",
              "\n",
              "            PREDICT_original_sf_cvar_avg_2.5D  ...  \\\n",
              "ID                                             ...   \n",
              "Lipo-001_0                           0.096312  ...   \n",
              "Lipo-002_0                           0.030465  ...   \n",
              "Lipo-003_0                           0.088020  ...   \n",
              "Lipo-004_0                           0.123775  ...   \n",
              "Lipo-005_0                           0.119364  ...   \n",
              "\n",
              "            PREDICT_original_phasef_phasesym_median_WL3_N5  \\\n",
              "ID                                                           \n",
              "Lipo-001_0                                        0.049726   \n",
              "Lipo-002_0                                        0.036186   \n",
              "Lipo-003_0                                        0.128167   \n",
              "Lipo-004_0                                        0.000000   \n",
              "Lipo-005_0                                        0.000000   \n",
              "\n",
              "            PREDICT_original_phasef_phasesym_std_WL3_N5  \\\n",
              "ID                                                        \n",
              "Lipo-001_0                                     0.196019   \n",
              "Lipo-002_0                                     0.167471   \n",
              "Lipo-003_0                                     0.220546   \n",
              "Lipo-004_0                                     0.107987   \n",
              "Lipo-005_0                                     0.087662   \n",
              "\n",
              "            PREDICT_original_phasef_phasesym_skewness_WL3_N5  \\\n",
              "ID                                                             \n",
              "Lipo-001_0                                          0.927821   \n",
              "Lipo-002_0                                          1.137972   \n",
              "Lipo-003_0                                          0.829650   \n",
              "Lipo-004_0                                          3.130011   \n",
              "Lipo-005_0                                          3.284943   \n",
              "\n",
              "            PREDICT_original_phasef_phasesym_kurtosis_WL3_N5  \\\n",
              "ID                                                             \n",
              "Lipo-001_0                                         -0.407270   \n",
              "Lipo-002_0                                          0.411968   \n",
              "Lipo-003_0                                         -0.520344   \n",
              "Lipo-004_0                                         10.399652   \n",
              "Lipo-005_0                                         11.840826   \n",
              "\n",
              "            PREDICT_original_phasef_phasesym_peak_WL3_N5  \\\n",
              "ID                                                         \n",
              "Lipo-001_0                                           0.0   \n",
              "Lipo-002_0                                           0.0   \n",
              "Lipo-003_0                                           0.0   \n",
              "Lipo-004_0                                           0.0   \n",
              "Lipo-005_0                                           0.0   \n",
              "\n",
              "            PREDICT_original_phasef_phasesym_peak_position_WL3_N5  \\\n",
              "ID                                                                  \n",
              "Lipo-001_0                                                  0       \n",
              "Lipo-002_0                                                  0       \n",
              "Lipo-003_0                                                  0       \n",
              "Lipo-004_0                                                  0       \n",
              "Lipo-005_0                                                  0       \n",
              "\n",
              "            PREDICT_original_phasef_phasesym_range_WL3_N5  \\\n",
              "ID                                                          \n",
              "Lipo-001_0                                       0.625304   \n",
              "Lipo-002_0                                       0.563659   \n",
              "Lipo-003_0                                       0.705679   \n",
              "Lipo-004_0                                       0.438399   \n",
              "Lipo-005_0                                       0.356330   \n",
              "\n",
              "            PREDICT_original_phasef_phasesym_energy_WL3_N5  \\\n",
              "ID                                                           \n",
              "Lipo-001_0                                     3238.304991   \n",
              "Lipo-002_0                                    15364.724390   \n",
              "Lipo-003_0                                     3771.798158   \n",
              "Lipo-004_0                                     4707.658397   \n",
              "Lipo-005_0                                     6171.440113   \n",
              "\n",
              "            PREDICT_original_phasef_phasesym_quartile_range_WL3_N5  \\\n",
              "ID                                                                   \n",
              "Lipo-001_0                                           0.315148        \n",
              "Lipo-002_0                                           0.251255        \n",
              "Lipo-003_0                                           0.369366        \n",
              "Lipo-004_0                                           0.000000        \n",
              "Lipo-005_0                                           0.000000        \n",
              "\n",
              "            PREDICT_original_phasef_phasesym_entropy_WL3_N5  \n",
              "ID                                                           \n",
              "Lipo-001_0                                        14.462361  \n",
              "Lipo-002_0                                        17.170274  \n",
              "Lipo-003_0                                        14.394812  \n",
              "Lipo-004_0                                        15.733482  \n",
              "Lipo-005_0                                        16.682154  \n",
              "\n",
              "[5 rows x 494 columns]"
            ],
            "text/html": [
              "\n",
              "  <div id=\"df-8e4f9c01-ef8a-4249-9f64-d65109d500f1\">\n",
              "    <div class=\"colab-df-container\">\n",
              "      <div>\n",
              "<style scoped>\n",
              "    .dataframe tbody tr th:only-of-type {\n",
              "        vertical-align: middle;\n",
              "    }\n",
              "\n",
              "    .dataframe tbody tr th {\n",
              "        vertical-align: top;\n",
              "    }\n",
              "\n",
              "    .dataframe thead th {\n",
              "        text-align: right;\n",
              "    }\n",
              "</style>\n",
              "<table border=\"1\" class=\"dataframe\">\n",
              "  <thead>\n",
              "    <tr style=\"text-align: right;\">\n",
              "      <th></th>\n",
              "      <th>label</th>\n",
              "      <th>PREDICT_original_sf_compactness_avg_2.5D</th>\n",
              "      <th>PREDICT_original_sf_compactness_std_2.5D</th>\n",
              "      <th>PREDICT_original_sf_rad_dist_avg_2.5D</th>\n",
              "      <th>PREDICT_original_sf_rad_dist_std_2.5D</th>\n",
              "      <th>PREDICT_original_sf_roughness_avg_2.5D</th>\n",
              "      <th>PREDICT_original_sf_roughness_std_2.5D</th>\n",
              "      <th>PREDICT_original_sf_convexity_avg_2.5D</th>\n",
              "      <th>PREDICT_original_sf_convexity_std_2.5D</th>\n",
              "      <th>PREDICT_original_sf_cvar_avg_2.5D</th>\n",
              "      <th>...</th>\n",
              "      <th>PREDICT_original_phasef_phasesym_median_WL3_N5</th>\n",
              "      <th>PREDICT_original_phasef_phasesym_std_WL3_N5</th>\n",
              "      <th>PREDICT_original_phasef_phasesym_skewness_WL3_N5</th>\n",
              "      <th>PREDICT_original_phasef_phasesym_kurtosis_WL3_N5</th>\n",
              "      <th>PREDICT_original_phasef_phasesym_peak_WL3_N5</th>\n",
              "      <th>PREDICT_original_phasef_phasesym_peak_position_WL3_N5</th>\n",
              "      <th>PREDICT_original_phasef_phasesym_range_WL3_N5</th>\n",
              "      <th>PREDICT_original_phasef_phasesym_energy_WL3_N5</th>\n",
              "      <th>PREDICT_original_phasef_phasesym_quartile_range_WL3_N5</th>\n",
              "      <th>PREDICT_original_phasef_phasesym_entropy_WL3_N5</th>\n",
              "    </tr>\n",
              "    <tr>\n",
              "      <th>ID</th>\n",
              "      <th></th>\n",
              "      <th></th>\n",
              "      <th></th>\n",
              "      <th></th>\n",
              "      <th></th>\n",
              "      <th></th>\n",
              "      <th></th>\n",
              "      <th></th>\n",
              "      <th></th>\n",
              "      <th></th>\n",
              "      <th></th>\n",
              "      <th></th>\n",
              "      <th></th>\n",
              "      <th></th>\n",
              "      <th></th>\n",
              "      <th></th>\n",
              "      <th></th>\n",
              "      <th></th>\n",
              "      <th></th>\n",
              "      <th></th>\n",
              "      <th></th>\n",
              "    </tr>\n",
              "  </thead>\n",
              "  <tbody>\n",
              "    <tr>\n",
              "      <th>Lipo-001_0</th>\n",
              "      <td>liposarcoma</td>\n",
              "      <td>0.368434</td>\n",
              "      <td>0.262371</td>\n",
              "      <td>26.200395</td>\n",
              "      <td>8.174390</td>\n",
              "      <td>20.940000</td>\n",
              "      <td>13.551937</td>\n",
              "      <td>0.694139</td>\n",
              "      <td>0.227848</td>\n",
              "      <td>0.096312</td>\n",
              "      <td>...</td>\n",
              "      <td>0.049726</td>\n",
              "      <td>0.196019</td>\n",
              "      <td>0.927821</td>\n",
              "      <td>-0.407270</td>\n",
              "      <td>0.0</td>\n",
              "      <td>0</td>\n",
              "      <td>0.625304</td>\n",
              "      <td>3238.304991</td>\n",
              "      <td>0.315148</td>\n",
              "      <td>14.462361</td>\n",
              "    </tr>\n",
              "    <tr>\n",
              "      <th>Lipo-002_0</th>\n",
              "      <td>liposarcoma</td>\n",
              "      <td>0.660571</td>\n",
              "      <td>0.179013</td>\n",
              "      <td>55.155046</td>\n",
              "      <td>9.318741</td>\n",
              "      <td>9.546044</td>\n",
              "      <td>7.051937</td>\n",
              "      <td>0.871182</td>\n",
              "      <td>0.125279</td>\n",
              "      <td>0.030465</td>\n",
              "      <td>...</td>\n",
              "      <td>0.036186</td>\n",
              "      <td>0.167471</td>\n",
              "      <td>1.137972</td>\n",
              "      <td>0.411968</td>\n",
              "      <td>0.0</td>\n",
              "      <td>0</td>\n",
              "      <td>0.563659</td>\n",
              "      <td>15364.724390</td>\n",
              "      <td>0.251255</td>\n",
              "      <td>17.170274</td>\n",
              "    </tr>\n",
              "    <tr>\n",
              "      <th>Lipo-003_0</th>\n",
              "      <td>lipoma</td>\n",
              "      <td>0.365191</td>\n",
              "      <td>0.157712</td>\n",
              "      <td>30.577026</td>\n",
              "      <td>8.963647</td>\n",
              "      <td>17.695139</td>\n",
              "      <td>10.772365</td>\n",
              "      <td>0.704710</td>\n",
              "      <td>0.137529</td>\n",
              "      <td>0.088020</td>\n",
              "      <td>...</td>\n",
              "      <td>0.128167</td>\n",
              "      <td>0.220546</td>\n",
              "      <td>0.829650</td>\n",
              "      <td>-0.520344</td>\n",
              "      <td>0.0</td>\n",
              "      <td>0</td>\n",
              "      <td>0.705679</td>\n",
              "      <td>3771.798158</td>\n",
              "      <td>0.369366</td>\n",
              "      <td>14.394812</td>\n",
              "    </tr>\n",
              "    <tr>\n",
              "      <th>Lipo-004_0</th>\n",
              "      <td>liposarcoma</td>\n",
              "      <td>0.372210</td>\n",
              "      <td>0.169761</td>\n",
              "      <td>94.006805</td>\n",
              "      <td>33.512409</td>\n",
              "      <td>21.049148</td>\n",
              "      <td>15.928362</td>\n",
              "      <td>0.754497</td>\n",
              "      <td>0.186559</td>\n",
              "      <td>0.123775</td>\n",
              "      <td>...</td>\n",
              "      <td>0.000000</td>\n",
              "      <td>0.107987</td>\n",
              "      <td>3.130011</td>\n",
              "      <td>10.399652</td>\n",
              "      <td>0.0</td>\n",
              "      <td>0</td>\n",
              "      <td>0.438399</td>\n",
              "      <td>4707.658397</td>\n",
              "      <td>0.000000</td>\n",
              "      <td>15.733482</td>\n",
              "    </tr>\n",
              "    <tr>\n",
              "      <th>Lipo-005_0</th>\n",
              "      <td>lipoma</td>\n",
              "      <td>0.369120</td>\n",
              "      <td>0.167485</td>\n",
              "      <td>94.612701</td>\n",
              "      <td>31.250821</td>\n",
              "      <td>17.059573</td>\n",
              "      <td>15.239905</td>\n",
              "      <td>0.774545</td>\n",
              "      <td>0.192922</td>\n",
              "      <td>0.119364</td>\n",
              "      <td>...</td>\n",
              "      <td>0.000000</td>\n",
              "      <td>0.087662</td>\n",
              "      <td>3.284943</td>\n",
              "      <td>11.840826</td>\n",
              "      <td>0.0</td>\n",
              "      <td>0</td>\n",
              "      <td>0.356330</td>\n",
              "      <td>6171.440113</td>\n",
              "      <td>0.000000</td>\n",
              "      <td>16.682154</td>\n",
              "    </tr>\n",
              "  </tbody>\n",
              "</table>\n",
              "<p>5 rows × 494 columns</p>\n",
              "</div>\n",
              "      <button class=\"colab-df-convert\" onclick=\"convertToInteractive('df-8e4f9c01-ef8a-4249-9f64-d65109d500f1')\"\n",
              "              title=\"Convert this dataframe to an interactive table.\"\n",
              "              style=\"display:none;\">\n",
              "        \n",
              "  <svg xmlns=\"http://www.w3.org/2000/svg\" height=\"24px\"viewBox=\"0 0 24 24\"\n",
              "       width=\"24px\">\n",
              "    <path d=\"M0 0h24v24H0V0z\" fill=\"none\"/>\n",
              "    <path d=\"M18.56 5.44l.94 2.06.94-2.06 2.06-.94-2.06-.94-.94-2.06-.94 2.06-2.06.94zm-11 1L8.5 8.5l.94-2.06 2.06-.94-2.06-.94L8.5 2.5l-.94 2.06-2.06.94zm10 10l.94 2.06.94-2.06 2.06-.94-2.06-.94-.94-2.06-.94 2.06-2.06.94z\"/><path d=\"M17.41 7.96l-1.37-1.37c-.4-.4-.92-.59-1.43-.59-.52 0-1.04.2-1.43.59L10.3 9.45l-7.72 7.72c-.78.78-.78 2.05 0 2.83L4 21.41c.39.39.9.59 1.41.59.51 0 1.02-.2 1.41-.59l7.78-7.78 2.81-2.81c.8-.78.8-2.07 0-2.86zM5.41 20L4 18.59l7.72-7.72 1.47 1.35L5.41 20z\"/>\n",
              "  </svg>\n",
              "      </button>\n",
              "      \n",
              "  <style>\n",
              "    .colab-df-container {\n",
              "      display:flex;\n",
              "      flex-wrap:wrap;\n",
              "      gap: 12px;\n",
              "    }\n",
              "\n",
              "    .colab-df-convert {\n",
              "      background-color: #E8F0FE;\n",
              "      border: none;\n",
              "      border-radius: 50%;\n",
              "      cursor: pointer;\n",
              "      display: none;\n",
              "      fill: #1967D2;\n",
              "      height: 32px;\n",
              "      padding: 0 0 0 0;\n",
              "      width: 32px;\n",
              "    }\n",
              "\n",
              "    .colab-df-convert:hover {\n",
              "      background-color: #E2EBFA;\n",
              "      box-shadow: 0px 1px 2px rgba(60, 64, 67, 0.3), 0px 1px 3px 1px rgba(60, 64, 67, 0.15);\n",
              "      fill: #174EA6;\n",
              "    }\n",
              "\n",
              "    [theme=dark] .colab-df-convert {\n",
              "      background-color: #3B4455;\n",
              "      fill: #D2E3FC;\n",
              "    }\n",
              "\n",
              "    [theme=dark] .colab-df-convert:hover {\n",
              "      background-color: #434B5C;\n",
              "      box-shadow: 0px 1px 3px 1px rgba(0, 0, 0, 0.15);\n",
              "      filter: drop-shadow(0px 1px 2px rgba(0, 0, 0, 0.3));\n",
              "      fill: #FFFFFF;\n",
              "    }\n",
              "  </style>\n",
              "\n",
              "      <script>\n",
              "        const buttonEl =\n",
              "          document.querySelector('#df-8e4f9c01-ef8a-4249-9f64-d65109d500f1 button.colab-df-convert');\n",
              "        buttonEl.style.display =\n",
              "          google.colab.kernel.accessAllowed ? 'block' : 'none';\n",
              "\n",
              "        async function convertToInteractive(key) {\n",
              "          const element = document.querySelector('#df-8e4f9c01-ef8a-4249-9f64-d65109d500f1');\n",
              "          const dataTable =\n",
              "            await google.colab.kernel.invokeFunction('convertToInteractive',\n",
              "                                                     [key], {});\n",
              "          if (!dataTable) return;\n",
              "\n",
              "          const docLinkHtml = 'Like what you see? Visit the ' +\n",
              "            '<a target=\"_blank\" href=https://colab.research.google.com/notebooks/data_table.ipynb>data table notebook</a>'\n",
              "            + ' to learn more about interactive tables.';\n",
              "          element.innerHTML = '';\n",
              "          dataTable['output_type'] = 'display_data';\n",
              "          await google.colab.output.renderOutput(dataTable, element);\n",
              "          const docLink = document.createElement('div');\n",
              "          docLink.innerHTML = docLinkHtml;\n",
              "          element.appendChild(docLink);\n",
              "        }\n",
              "      </script>\n",
              "    </div>\n",
              "  </div>\n",
              "  "
            ]
          },
          "metadata": {},
          "execution_count": 62
        },
        {
          "output_type": "display_data",
          "data": {
            "text/plain": [
              "<Figure size 432x288 with 1 Axes>"
            ],
            "image/png": "[encoded data removed]"
          },
          "metadata": {
            "needs_background": "light"
          }
        }
      ],
      "source": [
        "import seaborn\n",
        "\n",
        "seaborn.scatterplot(x='PREDICT_original_sf_compactness_avg_2.5D', y='PREDICT_original_phasef_phasesym_energy_WL3_N5', hue='label', data=X_train)\n",
        "data.head()\n"
      ]
    },
    {
      "cell_type": "code",
      "source": [
        "from sklearn import decomposition\n",
        "\n",
        "pca = decomposition.PCA(n_components=2)\n",
        "pca.fit(X_train.iloc[:,2:])\n",
        "X_pca = pca.transform(X_train.iloc[:,2:])\n",
        "\n",
        "seaborn.scatterplot(x=X_pca[:, 0], y=X_pca[:, 1], hue=X_train['label'])\n",
        "print(pca.explained_variance_ratio_)\n",
        "print(pca.singular_values_)\n"
      ],
      "metadata": {
        "id": "pge_2PJhNYAv",
        "outputId": "9ce4dd3a-51f6-49e7-d65a-5688f0e1f633",
        "colab": {
          "base_uri": "https://localhost:8080/",
          "height": 324
        }
      },
      "execution_count": 61,
      "outputs": [
        {
          "output_type": "stream",
          "name": "stdout",
          "text": [
            "[9.99445139e-01 5.54657147e-04]\n",
            "[1.24310470e+13 2.92846836e+11]\n"
          ]
        },
        {
          "output_type": "display_data",
          "data": {
            "text/plain": [
              "<Figure size 432x288 with 1 Axes>"
            ],
            "image/png": "[encoded data removed]"
          },
          "metadata": {
            "needs_background": "light"
          }
        }
      ]
    }
  ],
  "metadata": {
    "colab": {
      "name": "assignment.ipynb",
      "provenance": []
    },
    "kernelspec": {
      "display_name": "Python 3",
      "language": "python",
      "name": "python3"
    },
    "language_info": {
      "codemirror_mode": {
        "name": "ipython",
        "version": 3
      },
      "file_extension": ".py",
      "mimetype": "text/x-python",
      "name": "python",
      "nbconvert_exporter": "python",
      "pygments_lexer": "ipython3",
      "version": "3.8.5"
    }
  },
  "nbformat": 4,
  "nbformat_minor": 0
}