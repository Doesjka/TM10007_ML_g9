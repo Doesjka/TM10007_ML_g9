{
  "cells": [
    {
      "cell_type": "markdown",
      "metadata": {
        "id": "7SXpaKwwGe5x"
      },
      "source": [
        "# TM10007 Assignment template"
      ]
    },
    {
      "cell_type": "code",
      "execution_count": null,
      "metadata": {
        "colab": {
          "base_uri": "https://localhost:8080/"
        },
        "id": "CiDn2Sk-VWqE",
        "outputId": "77090737-163a-41ed-d641-028f85e7a203"
      },
      "outputs": [
        {
          "output_type": "stream",
          "name": "stdout",
          "text": [
            "Cloning into 'TM10007_ML_g9'...\n",
            "remote: Enumerating objects: 118, done.\u001b[K\n",
            "remote: Counting objects: 100% (46/46), done.\u001b[K\n",
            "remote: Compressing objects: 100% (29/29), done.\u001b[K\n",
            "remote: Total 118 (delta 31), reused 17 (delta 17), pack-reused 72\u001b[K\n",
            "Receiving objects: 100% (118/118), 68.30 MiB | 21.89 MiB/s, done.\n",
            "Resolving deltas: 100% (48/48), done.\n"
          ]
        }
      ],
      "source": [
        "# Run this to use from colab environment\n",
        "!git clone https://github.com/Doesjka/TM10007_ML_g9.git"
      ]
    },
    {
      "cell_type": "markdown",
      "metadata": {
        "id": "KEUJUe8plrxC"
      },
      "source": [
        "## Data loading and cleaning\n",
        "\n",
        "Below are functions to load the dataset of your choice. After that, it is all up to you to create and evaluate a classification method. Beware, there may be missing values in these datasets. Good luck!"
      ]
    },
    {
      "cell_type": "code",
      "execution_count": null,
      "metadata": {
        "colab": {
          "base_uri": "https://localhost:8080/"
        },
        "id": "-NE_fTbKGe5z",
        "outputId": "48b57ff4-da03-4809-e960-2de21622b2a0"
      },
      "outputs": [
        {
          "output_type": "stream",
          "name": "stdout",
          "text": [
            "The number of samples: 115\n",
            "The number of columns: 494\n"
          ]
        }
      ],
      "source": [
        "import os\n",
        "import pandas as pd\n",
        "import numpy as np\n",
        "from sklearn import preprocessing\n",
        "from sklearn import model_selection\n",
        "from sklearn import decomposition\n",
        "import seaborn\n",
        "import matplotlib.pyplot as plt\n",
        "\n",
        "data = pd.read_csv('/content/TM10007_ML_g9/worclipo/Lipo_radiomicFeatures.csv', index_col=0)\n",
        "print(f'The number of samples: {len(data.index)}')\n",
        "print(f'The number of columns: {len(data.columns)}')\n"
      ]
    },
    {
      "cell_type": "markdown",
      "source": [
        "## Splitting data in train and test set\n"
      ],
      "metadata": {
        "id": "LHslq_ZZZbW7"
      }
    },
    {
      "cell_type": "code",
      "source": [
        "y = data['label']\n",
        "X = data.drop('label', axis=1)\n",
        "\n",
        "X_train, X_test, y_train, y_test = model_selection.train_test_split(X, y, test_size=0.25, random_state=42, stratify=y)\n"
      ],
      "metadata": {
        "id": "P8f1SNKeZaB7"
      },
      "execution_count": null,
      "outputs": []
    },
    {
      "cell_type": "markdown",
      "source": [
        "## Handling missing data \n",
        "### Throwing out features\n",
        "All features that exist of at least 50% zeros are deleted from the data. \n"
      ],
      "metadata": {
        "id": "gJLsBPlTZwAd"
      }
    },
    {
      "cell_type": "code",
      "source": [
        "zeros = (X_train == 0).sum()\n",
        "threshold = 0.5 * len(y_train)\n",
        "print('Threshold = ', threshold)\n",
        "feature_del = zeros[zeros > threshold]\n",
        "\n",
        "X_train = X_train.drop(columns=feature_del.index)\n",
        "print(f'{len(data.columns)-len(X_train.columns)} features were deleted')"
      ],
      "metadata": {
        "colab": {
          "base_uri": "https://localhost:8080/"
        },
        "id": "vWcI7Y3g7eDk",
        "outputId": "3b7aefa0-6215-4880-8390-bde8e35eccdf"
      },
      "execution_count": null,
      "outputs": [
        {
          "output_type": "stream",
          "name": "stdout",
          "text": [
            "Threshold =  43.0\n",
            "25 features were deleted\n"
          ]
        }
      ]
    },
    {
      "cell_type": "code",
      "source": [
        "more_zeros = (X_train == 0).sum()\n",
        "columns_zeros = more_zeros[more_zeros > 0].index\n",
        "print(f'Of the remaining features, {len(columns_zeros)} features have at least one zero')\n",
        "print(f'There is a total of {more_zeros.sum()} zeros left in the data')\n"
      ],
      "metadata": {
        "colab": {
          "base_uri": "https://localhost:8080/"
        },
        "id": "iuoOrHuMAsFY",
        "outputId": "76bede09-84c0-4c65-9024-4ecc186e72a9"
      },
      "execution_count": null,
      "outputs": [
        {
          "output_type": "stream",
          "name": "stdout",
          "text": [
            "Of the remaining features, 10 features have at least one zero\n",
            "There is a total of 44 zeros left in the data\n"
          ]
        }
      ]
    },
    {
      "cell_type": "markdown",
      "source": [
        "## Calculate number of missing values per sample"
      ],
      "metadata": {
        "id": "pkM1c0vkq1YB"
      }
    },
    {
      "cell_type": "code",
      "source": [
        "zeros_r = (X_train == 0).sum(axis=1)\n",
        "threshold = 0.005 * X_train.size / len(y_train)\n",
        "print('Threshold = ', threshold)\n",
        "feature_del = zeros_r[zeros_r > threshold]\n",
        "print(feature_del)"
      ],
      "metadata": {
        "id": "4gHFgkGMm3Nm",
        "outputId": "19c6e3d3-a62d-440b-8267-38c541765298",
        "colab": {
          "base_uri": "https://localhost:8080/"
        }
      },
      "execution_count": null,
      "outputs": [
        {
          "output_type": "stream",
          "name": "stdout",
          "text": [
            "Threshold =  2.345\n",
            "ID\n",
            "Lipo-090_0    5\n",
            "Lipo-095_0    3\n",
            "Lipo-076_0    3\n",
            "Lipo-003_0    3\n",
            "dtype: int64\n"
          ]
        }
      ]
    },
    {
      "cell_type": "code",
      "source": [
        "from scipy.stats import shapiro\n",
        "\n",
        "aantal_normaal = 0\n",
        "\n",
        "for column in X_train.columns:\n",
        "    result = shapiro(X_train[column])\n",
        "    # print(result.pvalue)\n",
        "    normaal = result.pvalue > 0.05\n",
        "    aantal_normaal += normaal\n",
        "    \n",
        "print(aantal_normaal)\n",
        "\n"
      ],
      "metadata": {
        "id": "XKxZ6YRnm3Xr",
        "outputId": "52818ba4-022f-443f-fd9b-7b3866f544de",
        "colab": {
          "base_uri": "https://localhost:8080/"
        }
      },
      "execution_count": null,
      "outputs": [
        {
          "output_type": "stream",
          "name": "stderr",
          "text": [
            "/usr/local/lib/python3.9/dist-packages/scipy/stats/_morestats.py:1813: UserWarning: Input data for shapiro has range zero. The results may not be accurate.\n",
            "  warnings.warn(\"Input data for shapiro has range zero. The results \"\n"
          ]
        },
        {
          "output_type": "stream",
          "name": "stdout",
          "text": [
            "74\n"
          ]
        }
      ]
    },
    {
      "cell_type": "markdown",
      "source": [
        "### Filling remaining zeros\n",
        "All remaining zeros are replaced by the mean of that feature. "
      ],
      "metadata": {
        "id": "KwXkbuDYqhoJ"
      }
    },
    {
      "cell_type": "code",
      "source": [
        "X_train_mean = X_train\n",
        "X_train_median = X_train\n",
        "\n",
        "for column in columns_zeros[:]:\n",
        "    print('Kolom: ', column)\n",
        "    column_mean = X_train.loc[X_train[column]!=0, column].mean()\n",
        "    column_median = X_train.loc[X_train[column]!=0, column].median()\n",
        "    print('mean = ', column_mean)\n",
        "    print('median = ', column_median)\n",
        "\n",
        "    verschil2_percolumn = column_mean - column_median\n",
        "    print('Verschil tussen mean en median = ',verschil2_percolumn)\n",
        "\n",
        "    # result = shapiro(X_train[column])\n",
        "    # result.pvalue\n",
        "    print('p-waarde normaalverdeling = ', shapiro(X_train.loc[X_train[column]!=0, column]).pvalue)\n",
        "\n",
        "    X_train_mean[column].replace(0, column_mean)\n",
        "    X_train_median[column].replace(0, column_median)\n",
        "\n",
        "    print(' ')\n",
        "\n",
        "verschil = abs(X_train_mean - X_train_median)\n",
        "print('Totaal verschil = ', verschil.sum().sum())\n",
        "\n",
        "# X_train.head()\n",
        "# pd.set_option('display.max_rows', None)\n",
        "# print(X_train[columns_zeros[0]])\n",
        "# pd.set_option('display.max_rows', 10)\n"
      ],
      "metadata": {
        "id": "EQudKLJth0sz",
        "outputId": "0716802d-fab3-4de5-8780-943b5b9f36ae",
        "colab": {
          "base_uri": "https://localhost:8080/"
        }
      },
      "execution_count": null,
      "outputs": [
        {
          "output_type": "stream",
          "name": "stdout",
          "text": [
            "Kolom:  PREDICT_original_sf_area_min_2.5D\n",
            "mean =  456.8698899846219\n",
            "median =  200.39520811289555\n",
            "Verschil tussen mean en median =  256.4746818717264\n",
            "p-waarde normaalverdeling =  3.05788068477586e-11\n",
            " \n",
            "Kolom:  PREDICT_original_tf_LBP_quartile_range_R8_P24\n",
            "mean =  9.301204819277109\n",
            "median =  11.0\n",
            "Verschil tussen mean en median =  -1.6987951807228914\n",
            "p-waarde normaalverdeling =  1.931198130478151e-05\n",
            " \n",
            "Kolom:  PREDICT_original_vf_Frangi_full_quartile_range_SR(1.0, 10.0)_SS2.0\n",
            "mean =  2.766293780856362e-07\n",
            "median =  4.602205232532876e-10\n",
            "Verschil tussen mean en median =  2.7616915756238295e-07\n",
            "p-waarde normaalverdeling =  9.707482768662333e-20\n",
            " \n",
            "Kolom:  PREDICT_original_vf_Frangi_edge_quartile_range_SR(1.0, 10.0)_SS2.0\n",
            "mean =  2.766293780856362e-07\n",
            "median =  4.602205232532876e-10\n",
            "Verschil tussen mean en median =  2.7616915756238295e-07\n",
            "p-waarde normaalverdeling =  9.707482768662333e-20\n",
            " \n",
            "Kolom:  PREDICT_original_vf_Frangi_inner_quartile_range_SR(1.0, 10.0)_SS2.0\n",
            "mean =  8.705055316112096e-08\n",
            "median =  3.671477515859718e-10\n",
            "Verschil tussen mean en median =  8.668340540953499e-08\n",
            "p-waarde normaalverdeling =  1.273425812214633e-19\n",
            " \n",
            "Kolom:  PREDICT_original_phasef_monogenic_min_WL3_N5\n",
            "mean =  3.8185714285714285\n",
            "median =  3.0\n",
            "Verschil tussen mean en median =  0.8185714285714285\n",
            "p-waarde normaalverdeling =  4.080578648417432e-13\n",
            " \n",
            "Kolom:  PREDICT_original_phasef_monogenic_peak_WL3_N5\n",
            "mean =  89.4116049382716\n",
            "median =  89.5\n",
            "Verschil tussen mean en median =  -0.08839506172840572\n",
            "p-waarde normaalverdeling =  0.0007248687325045466\n",
            " \n",
            "Kolom:  PREDICT_original_phasef_monogenic_peak_position_WL3_N5\n",
            "mean =  24.97530864197531\n",
            "median =  25.0\n",
            "Verschil tussen mean en median =  -0.02469135802468969\n",
            "p-waarde normaalverdeling =  0.0007248687325045466\n",
            " \n",
            "Kolom:  PREDICT_original_phasef_phasecong_quartile_range_WL3_N5\n",
            "mean =  0.029046637777023623\n",
            "median =  0.0166127963783\n",
            "Verschil tussen mean en median =  0.012433841398723621\n",
            "p-waarde normaalverdeling =  1.7549460148980067e-12\n",
            " \n",
            "Kolom:  PREDICT_original_phasef_phasesym_quartile_range_WL3_N5\n",
            "mean =  0.20900926663690383\n",
            "median =  0.21420864221841113\n",
            "Verschil tussen mean en median =  -0.005199375581507293\n",
            "p-waarde normaalverdeling =  0.5642579197883606\n",
            " \n",
            "Totaal verschil =  0.0\n"
          ]
        }
      ]
    },
    {
      "cell_type": "markdown",
      "source": [
        "## Scaling"
      ],
      "metadata": {
        "id": "YQtVjjF2dX77"
      }
    },
    {
      "cell_type": "code",
      "source": [
        "scaler = preprocessing.StandardScaler().fit(X_train_median)\n",
        "X_train_scaled = scaler.transform(X_train_median)\n",
        "X_train_scaled_df = pd.DataFrame(X_train_scaled, columns=X_train_median.columns)\n",
        "\n",
        "# scaler = preprocessing.RobustScaler().fit(X_train_median)\n",
        "# X_train_scaled = scaler.transform(X_train_median)\n",
        "# X_train_scaled_df = pd.DataFrame(X_train_scaled, columns=X_train_median.columns)\n",
        "\n",
        "# scaler = preprocessing.MinMaxScaler().fit(X_train_median)\n",
        "# X_train_scaled = scaler.transform(X_train_median)\n",
        "# X_train_scaled_df = pd.DataFrame(X_train_scaled, columns=X_train_median.columns)"
      ],
      "metadata": {
        "id": "iXgA9qGcc2eH"
      },
      "execution_count": null,
      "outputs": []
    },
    {
      "cell_type": "code",
      "source": [
        "import scipy.stats as stats\n",
        "#pd.set_option('display.max_rows', None)\n",
        "pd.set_option('display.max_rows', 10)\n",
        "\n",
        "# stats.zscore(X_train)    # Dit is voor een array \n",
        "Z_score = X_train.apply(stats.zscore)    # Dit is voor een pandas dataframe \n",
        "\n",
        "num_outliers = (np.abs(Z_score) > 3).sum()\n",
        "outliers = num_outliers.sum()\n",
        "numb_columns_outliers = (num_outliers > 0).sum()\n",
        "\n",
        "print(num_outliers)\n",
        "print(numb_columns_outliers)\n",
        "print(outliers)"
      ],
      "metadata": {
        "id": "Spiz0wX0oCHE",
        "outputId": "1ee4f13e-7bdb-4aa7-f215-777f7270c27d",
        "colab": {
          "base_uri": "https://localhost:8080/"
        }
      },
      "execution_count": null,
      "outputs": [
        {
          "output_type": "stream",
          "name": "stdout",
          "text": [
            "PREDICT_original_sf_compactness_avg_2.5D                  0\n",
            "PREDICT_original_sf_compactness_std_2.5D                  0\n",
            "PREDICT_original_sf_rad_dist_avg_2.5D                     0\n",
            "PREDICT_original_sf_rad_dist_std_2.5D                     1\n",
            "PREDICT_original_sf_roughness_avg_2.5D                    2\n",
            "                                                         ..\n",
            "PREDICT_original_phasef_phasesym_kurtosis_WL3_N5          1\n",
            "PREDICT_original_phasef_phasesym_range_WL3_N5             0\n",
            "PREDICT_original_phasef_phasesym_energy_WL3_N5            3\n",
            "PREDICT_original_phasef_phasesym_quartile_range_WL3_N5    0\n",
            "PREDICT_original_phasef_phasesym_entropy_WL3_N5           0\n",
            "Length: 469, dtype: int64\n",
            "333\n",
            "601\n"
          ]
        }
      ]
    },
    {
      "cell_type": "markdown",
      "source": [
        "## PCA"
      ],
      "metadata": {
        "id": "xOOLNJnlfLbj"
      }
    },
    {
      "cell_type": "code",
      "source": [
        "pca = decomposition.PCA()\n",
        "pca.fit(X_train_scaled_df)\n",
        "X_pca = pca.transform(X_train_scaled_df)\n",
        "\n",
        "component=0\n",
        "total_ratio = 0\n",
        "while total_ratio < 0.9:\n",
        "    total_ratio += pca.explained_variance_ratio_[component]\n",
        "    component+=1\n",
        "\n",
        "X_pca = X_pca[:,0:component]"
      ],
      "metadata": {
        "id": "dU9UMzbtfNTE",
        "outputId": "6094c929-a799-45af-87c6-d125b8f52385",
        "colab": {
          "base_uri": "https://localhost:8080/"
        }
      },
      "execution_count": null,
      "outputs": [
        {
          "output_type": "stream",
          "name": "stdout",
          "text": [
            "28\n"
          ]
        }
      ]
    },
    {
      "cell_type": "markdown",
      "source": [
        "## Linear Classification"
      ],
      "metadata": {
        "id": "J6cGGSn30dKG"
      }
    },
    {
      "cell_type": "code",
      "source": [
        "from sklearn.discriminant_analysis import LinearDiscriminantAnalysis\n",
        "from sklearn import metrics\n",
        "\n",
        "# Set parameters\n",
        "parameters = {}\n",
        "\n",
        "# Specify the cross validation method to use, we use 10-fold stratified cross-validation\n",
        "cv_10fold = model_selection.StratifiedKFold(n_splits=10)\n",
        "\n",
        "# Create QDA object\n",
        "lda = model_selection.GridSearchCV(LinearDiscriminantAnalysis(), parameters, cv=cv_10fold, scoring='accuracy')\n",
        "\n",
        "# Fit the classifier\n",
        "lda.fit(X_pca, y_train)\n",
        "\n",
        "# Whole search\n",
        "y_pred  = lda.predict(X_pca)\n",
        "\n",
        "# Show the complete results of the cross validation\n",
        "lda_df = pd.DataFrame(lda.cv_results_)\n",
        "display(lda_df)\n",
        "\n",
        "# Extract the best hyperparameters \n",
        "lda.best_params_\n",
        "\n",
        "# Calculate AUC-score\n",
        "#if hasattr(lda, 'predict_proba'):\n",
        "#  y_score = lda.predict_proba(X_pca)[:, 1]\n",
        "#else:\n",
        "#  y_score = y_pred\n",
        "#auc=metrics.roc_auc_score(y_train, y_score)\n",
        "\n",
        "# Print\n",
        "#print(f'The AUC is {auc}')\n",
        "#print('Number of mislabeled points out of a total %d points : %d' % (X_pca.shape[0], (y_train != y_pred).sum()))\n",
        "#print(\"\\nThe Accuracy of our linear classifier is:\", metrics.accuracy_score(y_train, y_pred)*100)"
      ],
      "metadata": {
        "id": "ep80WNDz0iBK",
        "outputId": "bd65d554-fd7e-4d94-b6e0-c9bd2362d3c0",
        "colab": {
          "base_uri": "https://localhost:8080/",
          "height": 161
        }
      },
      "execution_count": 63,
      "outputs": [
        {
          "output_type": "display_data",
          "data": {
            "text/plain": [
              "   mean_fit_time  std_fit_time  mean_score_time  std_score_time params  \\\n",
              "0       0.002223      0.000848         0.000793        0.000235     {}   \n",
              "\n",
              "   split0_test_score  split1_test_score  split2_test_score  split3_test_score  \\\n",
              "0           0.666667           0.777778           0.444444           0.777778   \n",
              "\n",
              "   split4_test_score  split5_test_score  split6_test_score  split7_test_score  \\\n",
              "0           0.666667           0.444444               0.75              0.625   \n",
              "\n",
              "   split8_test_score  split9_test_score  mean_test_score  std_test_score  \\\n",
              "0              0.875               0.75         0.677778        0.134629   \n",
              "\n",
              "   rank_test_score  \n",
              "0                1  "
            ],
            "text/html": [
              "\n",
              "  <div id=\"df-8a4276ba-a7f5-412e-942c-8f53e5e3a90d\">\n",
              "    <div class=\"colab-df-container\">\n",
              "      <div>\n",
              "<style scoped>\n",
              "    .dataframe tbody tr th:only-of-type {\n",
              "        vertical-align: middle;\n",
              "    }\n",
              "\n",
              "    .dataframe tbody tr th {\n",
              "        vertical-align: top;\n",
              "    }\n",
              "\n",
              "    .dataframe thead th {\n",
              "        text-align: right;\n",
              "    }\n",
              "</style>\n",
              "<table border=\"1\" class=\"dataframe\">\n",
              "  <thead>\n",
              "    <tr style=\"text-align: right;\">\n",
              "      <th></th>\n",
              "      <th>mean_fit_time</th>\n",
              "      <th>std_fit_time</th>\n",
              "      <th>mean_score_time</th>\n",
              "      <th>std_score_time</th>\n",
              "      <th>params</th>\n",
              "      <th>split0_test_score</th>\n",
              "      <th>split1_test_score</th>\n",
              "      <th>split2_test_score</th>\n",
              "      <th>split3_test_score</th>\n",
              "      <th>split4_test_score</th>\n",
              "      <th>split5_test_score</th>\n",
              "      <th>split6_test_score</th>\n",
              "      <th>split7_test_score</th>\n",
              "      <th>split8_test_score</th>\n",
              "      <th>split9_test_score</th>\n",
              "      <th>mean_test_score</th>\n",
              "      <th>std_test_score</th>\n",
              "      <th>rank_test_score</th>\n",
              "    </tr>\n",
              "  </thead>\n",
              "  <tbody>\n",
              "    <tr>\n",
              "      <th>0</th>\n",
              "      <td>0.002223</td>\n",
              "      <td>0.000848</td>\n",
              "      <td>0.000793</td>\n",
              "      <td>0.000235</td>\n",
              "      <td>{}</td>\n",
              "      <td>0.666667</td>\n",
              "      <td>0.777778</td>\n",
              "      <td>0.444444</td>\n",
              "      <td>0.777778</td>\n",
              "      <td>0.666667</td>\n",
              "      <td>0.444444</td>\n",
              "      <td>0.75</td>\n",
              "      <td>0.625</td>\n",
              "      <td>0.875</td>\n",
              "      <td>0.75</td>\n",
              "      <td>0.677778</td>\n",
              "      <td>0.134629</td>\n",
              "      <td>1</td>\n",
              "    </tr>\n",
              "  </tbody>\n",
              "</table>\n",
              "</div>\n",
              "      <button class=\"colab-df-convert\" onclick=\"convertToInteractive('df-8a4276ba-a7f5-412e-942c-8f53e5e3a90d')\"\n",
              "              title=\"Convert this dataframe to an interactive table.\"\n",
              "              style=\"display:none;\">\n",
              "        \n",
              "  <svg xmlns=\"http://www.w3.org/2000/svg\" height=\"24px\"viewBox=\"0 0 24 24\"\n",
              "       width=\"24px\">\n",
              "    <path d=\"M0 0h24v24H0V0z\" fill=\"none\"/>\n",
              "    <path d=\"M18.56 5.44l.94 2.06.94-2.06 2.06-.94-2.06-.94-.94-2.06-.94 2.06-2.06.94zm-11 1L8.5 8.5l.94-2.06 2.06-.94-2.06-.94L8.5 2.5l-.94 2.06-2.06.94zm10 10l.94 2.06.94-2.06 2.06-.94-2.06-.94-.94-2.06-.94 2.06-2.06.94z\"/><path d=\"M17.41 7.96l-1.37-1.37c-.4-.4-.92-.59-1.43-.59-.52 0-1.04.2-1.43.59L10.3 9.45l-7.72 7.72c-.78.78-.78 2.05 0 2.83L4 21.41c.39.39.9.59 1.41.59.51 0 1.02-.2 1.41-.59l7.78-7.78 2.81-2.81c.8-.78.8-2.07 0-2.86zM5.41 20L4 18.59l7.72-7.72 1.47 1.35L5.41 20z\"/>\n",
              "  </svg>\n",
              "      </button>\n",
              "      \n",
              "  <style>\n",
              "    .colab-df-container {\n",
              "      display:flex;\n",
              "      flex-wrap:wrap;\n",
              "      gap: 12px;\n",
              "    }\n",
              "\n",
              "    .colab-df-convert {\n",
              "      background-color: #E8F0FE;\n",
              "      border: none;\n",
              "      border-radius: 50%;\n",
              "      cursor: pointer;\n",
              "      display: none;\n",
              "      fill: #1967D2;\n",
              "      height: 32px;\n",
              "      padding: 0 0 0 0;\n",
              "      width: 32px;\n",
              "    }\n",
              "\n",
              "    .colab-df-convert:hover {\n",
              "      background-color: #E2EBFA;\n",
              "      box-shadow: 0px 1px 2px rgba(60, 64, 67, 0.3), 0px 1px 3px 1px rgba(60, 64, 67, 0.15);\n",
              "      fill: #174EA6;\n",
              "    }\n",
              "\n",
              "    [theme=dark] .colab-df-convert {\n",
              "      background-color: #3B4455;\n",
              "      fill: #D2E3FC;\n",
              "    }\n",
              "\n",
              "    [theme=dark] .colab-df-convert:hover {\n",
              "      background-color: #434B5C;\n",
              "      box-shadow: 0px 1px 3px 1px rgba(0, 0, 0, 0.15);\n",
              "      filter: drop-shadow(0px 1px 2px rgba(0, 0, 0, 0.3));\n",
              "      fill: #FFFFFF;\n",
              "    }\n",
              "  </style>\n",
              "\n",
              "      <script>\n",
              "        const buttonEl =\n",
              "          document.querySelector('#df-8a4276ba-a7f5-412e-942c-8f53e5e3a90d button.colab-df-convert');\n",
              "        buttonEl.style.display =\n",
              "          google.colab.kernel.accessAllowed ? 'block' : 'none';\n",
              "\n",
              "        async function convertToInteractive(key) {\n",
              "          const element = document.querySelector('#df-8a4276ba-a7f5-412e-942c-8f53e5e3a90d');\n",
              "          const dataTable =\n",
              "            await google.colab.kernel.invokeFunction('convertToInteractive',\n",
              "                                                     [key], {});\n",
              "          if (!dataTable) return;\n",
              "\n",
              "          const docLinkHtml = 'Like what you see? Visit the ' +\n",
              "            '<a target=\"_blank\" href=https://colab.research.google.com/notebooks/data_table.ipynb>data table notebook</a>'\n",
              "            + ' to learn more about interactive tables.';\n",
              "          element.innerHTML = '';\n",
              "          dataTable['output_type'] = 'display_data';\n",
              "          await google.colab.output.renderOutput(dataTable, element);\n",
              "          const docLink = document.createElement('div');\n",
              "          docLink.innerHTML = docLinkHtml;\n",
              "          element.appendChild(docLink);\n",
              "        }\n",
              "      </script>\n",
              "    </div>\n",
              "  </div>\n",
              "  "
            ]
          },
          "metadata": {}
        },
        {
          "output_type": "execute_result",
          "data": {
            "text/plain": [
              "{}"
            ]
          },
          "metadata": {},
          "execution_count": 63
        }
      ]
    },
    {
      "cell_type": "markdown",
      "source": [
        "## Quadratic Discriminant Analysis\n"
      ],
      "metadata": {
        "id": "uOLbnv_H0jrQ"
      }
    },
    {
      "cell_type": "code",
      "source": [
        "from sklearn.discriminant_analysis import QuadraticDiscriminantAnalysis\n",
        "\n",
        "# set regularization parameter\n",
        "reg_param=[]\n",
        "i = 0.0\n",
        "while i <= 1.0:\n",
        "    reg_param.append(i) \n",
        "    i += 0.1\n",
        "\n",
        "# set parameters\n",
        "parameters = {'reg_param': reg_param}\n",
        "\n",
        "# Specify the cross validation method to use, we use 10-fold stratified cross-validation\n",
        "cv_10fold = model_selection.StratifiedKFold(n_splits=10)\n",
        "\n",
        "# Create QDA object\n",
        "qda = model_selection.RandomizedSearchCV(QuadraticDiscriminantAnalysis(), parameters, n_iter=11,\n",
        "                                   cv=cv_10fold, scoring='accuracy')\n",
        "\n",
        "# Fit the model\n",
        "qda.fit(X_pca, y_train)\n",
        "\n",
        "# Whole search\n",
        "y_pred  = qda.predict(X_pca)\n",
        "\n",
        "# Show the complete results of the cross validation\n",
        "qda_df = pd.DataFrame(qda.cv_results_)\n",
        "display(qda_df)\n",
        "\n",
        "# Extract the best hyperparameters \n",
        "qda.best_params_\n",
        "\n",
        "\n",
        "\n",
        "\n",
        "\n",
        "\n",
        "\n"
      ],
      "metadata": {
        "id": "TteA9VEb0n2s",
        "outputId": "e5c9e95b-8d76-4391-a345-e449d270ba9d",
        "colab": {
          "base_uri": "https://localhost:8080/",
          "height": 568
        }
      },
      "execution_count": 64,
      "outputs": [
        {
          "output_type": "display_data",
          "data": {
            "text/plain": [
              "    mean_fit_time  std_fit_time  mean_score_time  std_score_time  \\\n",
              "0        0.001498      0.000460         0.000848        0.000310   \n",
              "1        0.001200      0.000051         0.000706        0.000111   \n",
              "2        0.001154      0.000017         0.000649        0.000020   \n",
              "3        0.001130      0.000052         0.000740        0.000313   \n",
              "4        0.001153      0.000038         0.000672        0.000077   \n",
              "..            ...           ...              ...             ...   \n",
              "6        0.001090      0.000020         0.000622        0.000010   \n",
              "7        0.001177      0.000126         0.000637        0.000026   \n",
              "8        0.001147      0.000044         0.000637        0.000027   \n",
              "9        0.001204      0.000165         0.000670        0.000044   \n",
              "10       0.001151      0.000037         0.000651        0.000032   \n",
              "\n",
              "   param_reg_param                              params  split0_test_score  \\\n",
              "0              0.0                  {'reg_param': 0.0}           0.555556   \n",
              "1              0.1                  {'reg_param': 0.1}           0.555556   \n",
              "2              0.2                  {'reg_param': 0.2}           0.666667   \n",
              "3              0.3  {'reg_param': 0.30000000000000004}           0.777778   \n",
              "4              0.4                  {'reg_param': 0.4}           0.777778   \n",
              "..             ...                                 ...                ...   \n",
              "6              0.6                  {'reg_param': 0.6}           0.777778   \n",
              "7              0.7                  {'reg_param': 0.7}           0.777778   \n",
              "8              0.8   {'reg_param': 0.7999999999999999}           0.777778   \n",
              "9              0.9   {'reg_param': 0.8999999999999999}           0.777778   \n",
              "10             1.0   {'reg_param': 0.9999999999999999}           0.555556   \n",
              "\n",
              "    split1_test_score  split2_test_score  split3_test_score  \\\n",
              "0            0.555556           0.555556           0.666667   \n",
              "1            0.555556           0.555556           0.777778   \n",
              "2            0.666667           0.666667           0.777778   \n",
              "3            0.555556           0.666667           0.777778   \n",
              "4            0.555556           0.666667           0.777778   \n",
              "..                ...                ...                ...   \n",
              "6            0.333333           0.666667           0.777778   \n",
              "7            0.333333           0.666667           0.666667   \n",
              "8            0.333333           0.666667           0.666667   \n",
              "9            0.333333           0.666667           0.666667   \n",
              "10           0.444444           0.555556           0.666667   \n",
              "\n",
              "    split4_test_score  split5_test_score  split6_test_score  \\\n",
              "0            0.444444           0.444444              0.750   \n",
              "1            0.444444           0.555556              0.750   \n",
              "2            0.444444           0.555556              0.750   \n",
              "3            0.444444           0.555556              0.750   \n",
              "4            0.444444           0.555556              0.750   \n",
              "..                ...                ...                ...   \n",
              "6            0.555556           0.555556              0.750   \n",
              "7            0.777778           0.666667              0.750   \n",
              "8            0.777778           0.666667              0.750   \n",
              "9            0.777778           0.666667              0.750   \n",
              "10           0.666667           0.666667              0.375   \n",
              "\n",
              "    split7_test_score  split8_test_score  split9_test_score  mean_test_score  \\\n",
              "0               0.625              0.625               0.50         0.572222   \n",
              "1               0.500              0.625               0.50         0.581944   \n",
              "2               0.500              0.500               0.50         0.602778   \n",
              "3               0.500              0.500               0.50         0.602778   \n",
              "4               0.500              0.500               0.50         0.602778   \n",
              "..                ...                ...                ...              ...   \n",
              "6               0.500              0.500               0.50         0.591667   \n",
              "7               0.625              0.500               0.50         0.626389   \n",
              "8               0.625              0.625               0.50         0.638889   \n",
              "9               0.750              0.625               0.50         0.651389   \n",
              "10              0.750              0.500               0.25         0.543056   \n",
              "\n",
              "    std_test_score  rank_test_score  \n",
              "0         0.092087               10  \n",
              "1         0.101769                9  \n",
              "2         0.111146                5  \n",
              "3         0.121748                5  \n",
              "4         0.121748                5  \n",
              "..             ...              ...  \n",
              "6         0.139471                8  \n",
              "7         0.135579                3  \n",
              "8         0.128950                2  \n",
              "9         0.132993                1  \n",
              "10        0.146520               11  \n",
              "\n",
              "[11 rows x 19 columns]"
            ],
            "text/html": [
              "\n",
              "  <div id=\"df-a72d86a4-8b9c-428b-acc5-54780fc038f1\">\n",
              "    <div class=\"colab-df-container\">\n",
              "      <div>\n",
              "<style scoped>\n",
              "    .dataframe tbody tr th:only-of-type {\n",
              "        vertical-align: middle;\n",
              "    }\n",
              "\n",
              "    .dataframe tbody tr th {\n",
              "        vertical-align: top;\n",
              "    }\n",
              "\n",
              "    .dataframe thead th {\n",
              "        text-align: right;\n",
              "    }\n",
              "</style>\n",
              "<table border=\"1\" class=\"dataframe\">\n",
              "  <thead>\n",
              "    <tr style=\"text-align: right;\">\n",
              "      <th></th>\n",
              "      <th>mean_fit_time</th>\n",
              "      <th>std_fit_time</th>\n",
              "      <th>mean_score_time</th>\n",
              "      <th>std_score_time</th>\n",
              "      <th>param_reg_param</th>\n",
              "      <th>params</th>\n",
              "      <th>split0_test_score</th>\n",
              "      <th>split1_test_score</th>\n",
              "      <th>split2_test_score</th>\n",
              "      <th>split3_test_score</th>\n",
              "      <th>split4_test_score</th>\n",
              "      <th>split5_test_score</th>\n",
              "      <th>split6_test_score</th>\n",
              "      <th>split7_test_score</th>\n",
              "      <th>split8_test_score</th>\n",
              "      <th>split9_test_score</th>\n",
              "      <th>mean_test_score</th>\n",
              "      <th>std_test_score</th>\n",
              "      <th>rank_test_score</th>\n",
              "    </tr>\n",
              "  </thead>\n",
              "  <tbody>\n",
              "    <tr>\n",
              "      <th>0</th>\n",
              "      <td>0.001498</td>\n",
              "      <td>0.000460</td>\n",
              "      <td>0.000848</td>\n",
              "      <td>0.000310</td>\n",
              "      <td>0.0</td>\n",
              "      <td>{'reg_param': 0.0}</td>\n",
              "      <td>0.555556</td>\n",
              "      <td>0.555556</td>\n",
              "      <td>0.555556</td>\n",
              "      <td>0.666667</td>\n",
              "      <td>0.444444</td>\n",
              "      <td>0.444444</td>\n",
              "      <td>0.750</td>\n",
              "      <td>0.625</td>\n",
              "      <td>0.625</td>\n",
              "      <td>0.50</td>\n",
              "      <td>0.572222</td>\n",
              "      <td>0.092087</td>\n",
              "      <td>10</td>\n",
              "    </tr>\n",
              "    <tr>\n",
              "      <th>1</th>\n",
              "      <td>0.001200</td>\n",
              "      <td>0.000051</td>\n",
              "      <td>0.000706</td>\n",
              "      <td>0.000111</td>\n",
              "      <td>0.1</td>\n",
              "      <td>{'reg_param': 0.1}</td>\n",
              "      <td>0.555556</td>\n",
              "      <td>0.555556</td>\n",
              "      <td>0.555556</td>\n",
              "      <td>0.777778</td>\n",
              "      <td>0.444444</td>\n",
              "      <td>0.555556</td>\n",
              "      <td>0.750</td>\n",
              "      <td>0.500</td>\n",
              "      <td>0.625</td>\n",
              "      <td>0.50</td>\n",
              "      <td>0.581944</td>\n",
              "      <td>0.101769</td>\n",
              "      <td>9</td>\n",
              "    </tr>\n",
              "    <tr>\n",
              "      <th>2</th>\n",
              "      <td>0.001154</td>\n",
              "      <td>0.000017</td>\n",
              "      <td>0.000649</td>\n",
              "      <td>0.000020</td>\n",
              "      <td>0.2</td>\n",
              "      <td>{'reg_param': 0.2}</td>\n",
              "      <td>0.666667</td>\n",
              "      <td>0.666667</td>\n",
              "      <td>0.666667</td>\n",
              "      <td>0.777778</td>\n",
              "      <td>0.444444</td>\n",
              "      <td>0.555556</td>\n",
              "      <td>0.750</td>\n",
              "      <td>0.500</td>\n",
              "      <td>0.500</td>\n",
              "      <td>0.50</td>\n",
              "      <td>0.602778</td>\n",
              "      <td>0.111146</td>\n",
              "      <td>5</td>\n",
              "    </tr>\n",
              "    <tr>\n",
              "      <th>3</th>\n",
              "      <td>0.001130</td>\n",
              "      <td>0.000052</td>\n",
              "      <td>0.000740</td>\n",
              "      <td>0.000313</td>\n",
              "      <td>0.3</td>\n",
              "      <td>{'reg_param': 0.30000000000000004}</td>\n",
              "      <td>0.777778</td>\n",
              "      <td>0.555556</td>\n",
              "      <td>0.666667</td>\n",
              "      <td>0.777778</td>\n",
              "      <td>0.444444</td>\n",
              "      <td>0.555556</td>\n",
              "      <td>0.750</td>\n",
              "      <td>0.500</td>\n",
              "      <td>0.500</td>\n",
              "      <td>0.50</td>\n",
              "      <td>0.602778</td>\n",
              "      <td>0.121748</td>\n",
              "      <td>5</td>\n",
              "    </tr>\n",
              "    <tr>\n",
              "      <th>4</th>\n",
              "      <td>0.001153</td>\n",
              "      <td>0.000038</td>\n",
              "      <td>0.000672</td>\n",
              "      <td>0.000077</td>\n",
              "      <td>0.4</td>\n",
              "      <td>{'reg_param': 0.4}</td>\n",
              "      <td>0.777778</td>\n",
              "      <td>0.555556</td>\n",
              "      <td>0.666667</td>\n",
              "      <td>0.777778</td>\n",
              "      <td>0.444444</td>\n",
              "      <td>0.555556</td>\n",
              "      <td>0.750</td>\n",
              "      <td>0.500</td>\n",
              "      <td>0.500</td>\n",
              "      <td>0.50</td>\n",
              "      <td>0.602778</td>\n",
              "      <td>0.121748</td>\n",
              "      <td>5</td>\n",
              "    </tr>\n",
              "    <tr>\n",
              "      <th>...</th>\n",
              "      <td>...</td>\n",
              "      <td>...</td>\n",
              "      <td>...</td>\n",
              "      <td>...</td>\n",
              "      <td>...</td>\n",
              "      <td>...</td>\n",
              "      <td>...</td>\n",
              "      <td>...</td>\n",
              "      <td>...</td>\n",
              "      <td>...</td>\n",
              "      <td>...</td>\n",
              "      <td>...</td>\n",
              "      <td>...</td>\n",
              "      <td>...</td>\n",
              "      <td>...</td>\n",
              "      <td>...</td>\n",
              "      <td>...</td>\n",
              "      <td>...</td>\n",
              "      <td>...</td>\n",
              "    </tr>\n",
              "    <tr>\n",
              "      <th>6</th>\n",
              "      <td>0.001090</td>\n",
              "      <td>0.000020</td>\n",
              "      <td>0.000622</td>\n",
              "      <td>0.000010</td>\n",
              "      <td>0.6</td>\n",
              "      <td>{'reg_param': 0.6}</td>\n",
              "      <td>0.777778</td>\n",
              "      <td>0.333333</td>\n",
              "      <td>0.666667</td>\n",
              "      <td>0.777778</td>\n",
              "      <td>0.555556</td>\n",
              "      <td>0.555556</td>\n",
              "      <td>0.750</td>\n",
              "      <td>0.500</td>\n",
              "      <td>0.500</td>\n",
              "      <td>0.50</td>\n",
              "      <td>0.591667</td>\n",
              "      <td>0.139471</td>\n",
              "      <td>8</td>\n",
              "    </tr>\n",
              "    <tr>\n",
              "      <th>7</th>\n",
              "      <td>0.001177</td>\n",
              "      <td>0.000126</td>\n",
              "      <td>0.000637</td>\n",
              "      <td>0.000026</td>\n",
              "      <td>0.7</td>\n",
              "      <td>{'reg_param': 0.7}</td>\n",
              "      <td>0.777778</td>\n",
              "      <td>0.333333</td>\n",
              "      <td>0.666667</td>\n",
              "      <td>0.666667</td>\n",
              "      <td>0.777778</td>\n",
              "      <td>0.666667</td>\n",
              "      <td>0.750</td>\n",
              "      <td>0.625</td>\n",
              "      <td>0.500</td>\n",
              "      <td>0.50</td>\n",
              "      <td>0.626389</td>\n",
              "      <td>0.135579</td>\n",
              "      <td>3</td>\n",
              "    </tr>\n",
              "    <tr>\n",
              "      <th>8</th>\n",
              "      <td>0.001147</td>\n",
              "      <td>0.000044</td>\n",
              "      <td>0.000637</td>\n",
              "      <td>0.000027</td>\n",
              "      <td>0.8</td>\n",
              "      <td>{'reg_param': 0.7999999999999999}</td>\n",
              "      <td>0.777778</td>\n",
              "      <td>0.333333</td>\n",
              "      <td>0.666667</td>\n",
              "      <td>0.666667</td>\n",
              "      <td>0.777778</td>\n",
              "      <td>0.666667</td>\n",
              "      <td>0.750</td>\n",
              "      <td>0.625</td>\n",
              "      <td>0.625</td>\n",
              "      <td>0.50</td>\n",
              "      <td>0.638889</td>\n",
              "      <td>0.128950</td>\n",
              "      <td>2</td>\n",
              "    </tr>\n",
              "    <tr>\n",
              "      <th>9</th>\n",
              "      <td>0.001204</td>\n",
              "      <td>0.000165</td>\n",
              "      <td>0.000670</td>\n",
              "      <td>0.000044</td>\n",
              "      <td>0.9</td>\n",
              "      <td>{'reg_param': 0.8999999999999999}</td>\n",
              "      <td>0.777778</td>\n",
              "      <td>0.333333</td>\n",
              "      <td>0.666667</td>\n",
              "      <td>0.666667</td>\n",
              "      <td>0.777778</td>\n",
              "      <td>0.666667</td>\n",
              "      <td>0.750</td>\n",
              "      <td>0.750</td>\n",
              "      <td>0.625</td>\n",
              "      <td>0.50</td>\n",
              "      <td>0.651389</td>\n",
              "      <td>0.132993</td>\n",
              "      <td>1</td>\n",
              "    </tr>\n",
              "    <tr>\n",
              "      <th>10</th>\n",
              "      <td>0.001151</td>\n",
              "      <td>0.000037</td>\n",
              "      <td>0.000651</td>\n",
              "      <td>0.000032</td>\n",
              "      <td>1.0</td>\n",
              "      <td>{'reg_param': 0.9999999999999999}</td>\n",
              "      <td>0.555556</td>\n",
              "      <td>0.444444</td>\n",
              "      <td>0.555556</td>\n",
              "      <td>0.666667</td>\n",
              "      <td>0.666667</td>\n",
              "      <td>0.666667</td>\n",
              "      <td>0.375</td>\n",
              "      <td>0.750</td>\n",
              "      <td>0.500</td>\n",
              "      <td>0.25</td>\n",
              "      <td>0.543056</td>\n",
              "      <td>0.146520</td>\n",
              "      <td>11</td>\n",
              "    </tr>\n",
              "  </tbody>\n",
              "</table>\n",
              "<p>11 rows × 19 columns</p>\n",
              "</div>\n",
              "      <button class=\"colab-df-convert\" onclick=\"convertToInteractive('df-a72d86a4-8b9c-428b-acc5-54780fc038f1')\"\n",
              "              title=\"Convert this dataframe to an interactive table.\"\n",
              "              style=\"display:none;\">\n",
              "        \n",
              "  <svg xmlns=\"http://www.w3.org/2000/svg\" height=\"24px\"viewBox=\"0 0 24 24\"\n",
              "       width=\"24px\">\n",
              "    <path d=\"M0 0h24v24H0V0z\" fill=\"none\"/>\n",
              "    <path d=\"M18.56 5.44l.94 2.06.94-2.06 2.06-.94-2.06-.94-.94-2.06-.94 2.06-2.06.94zm-11 1L8.5 8.5l.94-2.06 2.06-.94-2.06-.94L8.5 2.5l-.94 2.06-2.06.94zm10 10l.94 2.06.94-2.06 2.06-.94-2.06-.94-.94-2.06-.94 2.06-2.06.94z\"/><path d=\"M17.41 7.96l-1.37-1.37c-.4-.4-.92-.59-1.43-.59-.52 0-1.04.2-1.43.59L10.3 9.45l-7.72 7.72c-.78.78-.78 2.05 0 2.83L4 21.41c.39.39.9.59 1.41.59.51 0 1.02-.2 1.41-.59l7.78-7.78 2.81-2.81c.8-.78.8-2.07 0-2.86zM5.41 20L4 18.59l7.72-7.72 1.47 1.35L5.41 20z\"/>\n",
              "  </svg>\n",
              "      </button>\n",
              "      \n",
              "  <style>\n",
              "    .colab-df-container {\n",
              "      display:flex;\n",
              "      flex-wrap:wrap;\n",
              "      gap: 12px;\n",
              "    }\n",
              "\n",
              "    .colab-df-convert {\n",
              "      background-color: #E8F0FE;\n",
              "      border: none;\n",
              "      border-radius: 50%;\n",
              "      cursor: pointer;\n",
              "      display: none;\n",
              "      fill: #1967D2;\n",
              "      height: 32px;\n",
              "      padding: 0 0 0 0;\n",
              "      width: 32px;\n",
              "    }\n",
              "\n",
              "    .colab-df-convert:hover {\n",
              "      background-color: #E2EBFA;\n",
              "      box-shadow: 0px 1px 2px rgba(60, 64, 67, 0.3), 0px 1px 3px 1px rgba(60, 64, 67, 0.15);\n",
              "      fill: #174EA6;\n",
              "    }\n",
              "\n",
              "    [theme=dark] .colab-df-convert {\n",
              "      background-color: #3B4455;\n",
              "      fill: #D2E3FC;\n",
              "    }\n",
              "\n",
              "    [theme=dark] .colab-df-convert:hover {\n",
              "      background-color: #434B5C;\n",
              "      box-shadow: 0px 1px 3px 1px rgba(0, 0, 0, 0.15);\n",
              "      filter: drop-shadow(0px 1px 2px rgba(0, 0, 0, 0.3));\n",
              "      fill: #FFFFFF;\n",
              "    }\n",
              "  </style>\n",
              "\n",
              "      <script>\n",
              "        const buttonEl =\n",
              "          document.querySelector('#df-a72d86a4-8b9c-428b-acc5-54780fc038f1 button.colab-df-convert');\n",
              "        buttonEl.style.display =\n",
              "          google.colab.kernel.accessAllowed ? 'block' : 'none';\n",
              "\n",
              "        async function convertToInteractive(key) {\n",
              "          const element = document.querySelector('#df-a72d86a4-8b9c-428b-acc5-54780fc038f1');\n",
              "          const dataTable =\n",
              "            await google.colab.kernel.invokeFunction('convertToInteractive',\n",
              "                                                     [key], {});\n",
              "          if (!dataTable) return;\n",
              "\n",
              "          const docLinkHtml = 'Like what you see? Visit the ' +\n",
              "            '<a target=\"_blank\" href=https://colab.research.google.com/notebooks/data_table.ipynb>data table notebook</a>'\n",
              "            + ' to learn more about interactive tables.';\n",
              "          element.innerHTML = '';\n",
              "          dataTable['output_type'] = 'display_data';\n",
              "          await google.colab.output.renderOutput(dataTable, element);\n",
              "          const docLink = document.createElement('div');\n",
              "          docLink.innerHTML = docLinkHtml;\n",
              "          element.appendChild(docLink);\n",
              "        }\n",
              "      </script>\n",
              "    </div>\n",
              "  </div>\n",
              "  "
            ]
          },
          "metadata": {}
        },
        {
          "output_type": "execute_result",
          "data": {
            "text/plain": [
              "{'reg_param': 0.8999999999999999}"
            ]
          },
          "metadata": {},
          "execution_count": 64
        }
      ]
    },
    {
      "cell_type": "markdown",
      "source": [
        "## k-NN"
      ],
      "metadata": {
        "id": "xdjw0bA9zOle"
      }
    },
    {
      "cell_type": "code",
      "source": [
        "from sklearn import neighbors\n",
        "# Specify the search range, this could be multiple parameters for more complex classifiers\n",
        "parameters = {'n_neighbors': randint(1, 50),\n",
        "              'weights': ['uniform', 'distance'],\n",
        "              'p': randint(1, 5),\n",
        "              'algorithm': ['auto', 'ball_tree', 'kd_tree', 'brute']}\n",
        "\n",
        "# Specify the cross validation method to use, we use 10-fold stratified cross-validation\n",
        "cv_10fold = model_selection.StratifiedKFold(n_splits=10)\n",
        "\n",
        "# Create the grid search method, use area under ROC curve as scoring metric\n",
        "# Too learn more about metrics see: https://scikit-learn.org/stable/modules/model_evaluation.html#scoring-parameter\n",
        "clf = model_selection.RandomizedSearchCV(neighbors.KNeighborsClassifier(), parameters, cv=cv_10fold, n_iter=500, scoring='accuracy')\n",
        "\n",
        "# Do the entire search\n",
        "clf.fit(X_pca, y_train)\n",
        "\n",
        "# Show the complete results of the cross validation\n",
        "clf_df = pd.DataFrame(clf.cv_results_)\n",
        "\n",
        "# Extract the best k \n",
        "clf_df = clf_df.sort_values(by=['rank_test_score'])\n",
        "optimal_k = clf_df['param_n_neighbors'].iloc[0]\n",
        "\n",
        "# Extract the best hyperparameters \n",
        "print(clf.best_params_)\n",
        "print(clf.best_score_)\n",
        "\n"
      ],
      "metadata": {
        "id": "F2Mc-n3yzRIP",
        "outputId": "a4e7fc3a-2079-40de-b1f5-2fa1f2260e40",
        "colab": {
          "base_uri": "https://localhost:8080/"
        }
      },
      "execution_count": null,
      "outputs": [
        {
          "output_type": "stream",
          "name": "stdout",
          "text": [
            "{'algorithm': 'ball_tree', 'n_neighbors': 31, 'p': 1, 'weights': 'distance'}\n",
            "0.6611111111111111\n"
          ]
        }
      ]
    },
    {
      "cell_type": "markdown",
      "source": [
        "## Random Forest"
      ],
      "metadata": {
        "id": "u_79CKvDLR_p"
      }
    },
    {
      "cell_type": "code",
      "source": [
        "from scipy.stats import randint\n",
        "from sklearn import model_selection\n",
        "from sklearn.ensemble import RandomForestClassifier\n",
        "\n",
        "# Create the random grid\n",
        "# max_depth = [int(x) for x in np.linspace(10, 110, num = 11)]\n",
        "# max_depth.append(None)\n",
        "\n",
        "parameters = {'n_estimators': np.arange(10, 400, 10),\n",
        "              'max_depth': [None, 5, 10, 15],\n",
        "              'min_samples_split': [2, 5, 10],\n",
        "              'max_features': [None, 'sqrt', 'log2'],\n",
        "              'min_samples_leaf': [1, 2, 4]}\n",
        "\n",
        "cv_10fold = model_selection.StratifiedKFold(n_splits=10)\n",
        "\n",
        "clf = model_selection.RandomizedSearchCV(RandomForestClassifier(), parameters, cv=cv_10fold, n_iter=50, scoring='accuracy')\n",
        "    \n",
        "# Fit the classifier\n",
        "clf.fit(X_pca, y_train)\n",
        "\n",
        "# Show the complete results of the cross validation\n",
        "clf_df = pd.DataFrame(clf.cv_results_)\n",
        "clf_df = clf_df.sort_values(by=['rank_test_score'])\n",
        "\n",
        "# Extract the best hyperparameters \n",
        "print(clf.best_params_)\n",
        "print(clf.best_score_)\n"
      ],
      "metadata": {
        "id": "rpwtmKvoLTjD",
        "outputId": "05936c4e-5969-48fb-ebb0-022edc9eaca5",
        "colab": {
          "base_uri": "https://localhost:8080/"
        }
      },
      "execution_count": null,
      "outputs": [
        {
          "output_type": "stream",
          "name": "stdout",
          "text": [
            "{'n_estimators': 340, 'min_samples_split': 10, 'min_samples_leaf': 1, 'max_features': 'log2', 'max_depth': None}\n",
            "0.6583333333333333\n"
          ]
        }
      ]
    },
    {
      "cell_type": "markdown",
      "source": [
        "## SVM"
      ],
      "metadata": {
        "id": "_O8fWaFjCSl-"
      }
    },
    {
      "cell_type": "code",
      "source": [
        "import scipy \n",
        "from sklearn.svm import SVC\n",
        "from sklearn import model_selection\n",
        "from sklearn.utils.fixes import loguniform\n",
        "\n",
        "# parameters = [{'C': [1, 10, 100, 1000], 'kernel': ['linear']},\n",
        "#              {'C': [1, 10, 100, 1000], 'gamma': [0.001, 0.0001], 'kernel': ['rbf']}]\n",
        "\n",
        "parameters = {'C': loguniform(0.1, 100),\n",
        "              'kernel': ['rbf', 'linear', 'poly', 'sigmoid'],\n",
        "              'degree': randint(1, 5),\n",
        "              'gamma': loguniform(1e-4, 1),\n",
        "              'class_weight':['balanced', None]}\n",
        " \n",
        "cv_10fold = model_selection.StratifiedKFold(n_splits=10)\n",
        "\n",
        "clf = model_selection.RandomizedSearchCV(SVC(), parameters, cv=cv_10fold, n_iter=500, scoring='accuracy')\n",
        "\n",
        "# Do the entire search\n",
        "clf.fit(X_pca, y_train)\n",
        "\n",
        "# Show the complete results of the cross validation\n",
        "clf_df = pd.DataFrame(clf.cv_results_)\n",
        "clf_df = clf_df.sort_values(by=['rank_test_score'])\n",
        "\n",
        "# Extract the best hyperparameters \n",
        "print(clf.best_score_)\n",
        "print(clf.best_params_)"
      ],
      "metadata": {
        "id": "5MwjArCFCZmH",
        "outputId": "fa048da4-3baa-4ea5-a5a5-e8bb909a9213",
        "colab": {
          "base_uri": "https://localhost:8080/"
        }
      },
      "execution_count": null,
      "outputs": [
        {
          "output_type": "stream",
          "name": "stdout",
          "text": [
            "0.7694444444444445\n",
            "{'C': 3.4392592585305524, 'class_weight': 'balanced', 'degree': 1, 'gamma': 0.01143799983523973, 'kernel': 'poly'}\n"
          ]
        }
      ]
    }
  ],
  "metadata": {
    "colab": {
      "name": "assignment.ipynb",
      "provenance": []
    },
    "kernelspec": {
      "display_name": "Python 3",
      "language": "python",
      "name": "python3"
    },
    "language_info": {
      "codemirror_mode": {
        "name": "ipython",
        "version": 3
      },
      "file_extension": ".py",
      "mimetype": "text/x-python",
      "name": "python",
      "nbconvert_exporter": "python",
      "pygments_lexer": "ipython3",
      "version": "3.8.5"
    }
  },
  "nbformat": 4,
  "nbformat_minor": 0
}