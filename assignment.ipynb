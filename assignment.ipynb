{
  "cells": [
    {
      "cell_type": "markdown",
      "metadata": {
        "id": "7SXpaKwwGe5x"
      },
      "source": [
        "# TM10007 Assignment template"
      ]
    },
    {
      "cell_type": "code",
      "execution_count": 301,
      "metadata": {
        "colab": {
          "base_uri": "https://localhost:8080/"
        },
        "id": "CiDn2Sk-VWqE",
        "outputId": "c248be89-a970-41a1-c42f-b883a3d766f8"
      },
      "outputs": [
        {
          "output_type": "stream",
          "name": "stdout",
          "text": [
            "fatal: destination path 'TM10007_ML_g9' already exists and is not an empty directory.\n"
          ]
        }
      ],
      "source": [
        "# Run this to use from colab environment\n",
        "!git clone https://github.com/Doesjka/TM10007_ML_g9.git"
      ]
    },
    {
      "cell_type": "markdown",
      "source": [
        "## Import packages"
      ],
      "metadata": {
        "id": "iq6XRc6xuYcp"
      }
    },
    {
      "cell_type": "code",
      "source": [
        "import os\n",
        "import pandas as pd\n",
        "import numpy as np\n",
        "\n",
        "from sklearn import preprocessing\n",
        "from sklearn import model_selection\n",
        "from sklearn import decomposition\n",
        "from sklearn import metrics\n",
        "from sklearn.discriminant_analysis import LinearDiscriminantAnalysis\n",
        "from sklearn.discriminant_analysis import QuadraticDiscriminantAnalysis\n",
        "from sklearn.ensemble import RandomForestClassifier\n",
        "from sklearn.ensemble import RandomForestRegressor\n",
        "from sklearn.svm import SVC\n",
        "from sklearn.utils.fixes import loguniform\n",
        "from sklearn.metrics import make_scorer, accuracy_score, recall_score\n",
        "\n",
        "import seaborn\n",
        "import matplotlib.pyplot as plt\n",
        "import scipy.stats as stats\n",
        "from scipy.stats import randint\n"
      ],
      "metadata": {
        "id": "ZGpTRjZRudnE"
      },
      "execution_count": 302,
      "outputs": []
    },
    {
      "cell_type": "markdown",
      "source": [
        "## Define functions"
      ],
      "metadata": {
        "id": "4Eqq7xOFueaX"
      }
    },
    {
      "cell_type": "code",
      "source": [
        "def plot_learning_curve(estimator, title, X, y, axes, ylim=None, cv=None,\n",
        "                        n_jobs=None, train_sizes=np.linspace(.1, 1.0, 5)):\n",
        "    \"\"\"\n",
        "    Generate 3 plots: the test and training learning curve, the training\n",
        "    samples vs fit times curve, the fit times vs score curve.\n",
        "\n",
        "    Parameters\n",
        "    ----------\n",
        "    estimator : object type that implements the \"fit\" and \"predict\" methods\n",
        "        An object of that type which is cloned for each validation.\n",
        "\n",
        "    title : string\n",
        "        Title for the chart.\n",
        "\n",
        "    X : array-like, shape (n_samples, n_features)\n",
        "        Training vector, where n_samples is the number of samples and\n",
        "        n_features is the number of features.\n",
        "\n",
        "    y : array-like, shape (n_samples) or (n_samples, n_features), optional\n",
        "        Target relative to X for classification or regression;\n",
        "        None for unsupervised learning.\n",
        "\n",
        "    axes : array of 3 axes, optional (default=None)\n",
        "        Axes to use for plotting the curves.\n",
        "\n",
        "    ylim : tuple, shape (ymin, ymax), optional\n",
        "        Defines minimum and maximum yvalues plotted.\n",
        "\n",
        "    cv : int, cross-validation generator or an iterable, optional\n",
        "        Determines the cross-validation splitting strategy.\n",
        "        Possible inputs for cv are:\n",
        "          - None, to use the default 5-fold cross-validation,\n",
        "          - integer, to specify the number of folds.\n",
        "          - :term:`CV splitter`,\n",
        "          - An iterable yielding (train, test) splits as arrays of indices.\n",
        "\n",
        "        For integer/None inputs, if ``y`` is binary or multiclass,\n",
        "        :class:`StratifiedKFold` used. If the estimator is not a classifier\n",
        "        or if ``y`` is neither binary nor multiclass, :class:`KFold` is used.\n",
        "\n",
        "        Refer :ref:`User Guide <cross_validation>` for the various\n",
        "        cross-validators that can be used here.\n",
        "\n",
        "    n_jobs : int or None, optional (default=None)\n",
        "        Number of jobs to run in parallel.\n",
        "        ``None`` means 1 unless in a :obj:`joblib.parallel_backend` context.\n",
        "        ``-1`` means using all processors. See :term:`Glossary <n_jobs>`\n",
        "        for more details.\n",
        "\n",
        "    train_sizes : array-like, shape (n_ticks,), dtype float or int\n",
        "        Relative or absolute numbers of training examples that will be used to\n",
        "        generate the learning curve. If the dtype is float, it is regarded as a\n",
        "        fraction of the maximum size of the training set (that is determined\n",
        "        by the selected validation method), i.e. it has to be within (0, 1].\n",
        "        Otherwise it is interpreted as absolute sizes of the training sets.\n",
        "        Note that for classification the number of samples usually have to\n",
        "        be big enough to contain at least one sample from each class.\n",
        "        (default: np.linspace(0.1, 1.0, 5))\n",
        "    \"\"\"\n",
        "\n",
        "    axes.set_title(title)\n",
        "    if ylim is not None:\n",
        "        axes.set_ylim(*ylim)\n",
        "    axes.set_xlabel(\"Training examples\")\n",
        "    axes.set_ylabel(\"Score\")\n",
        "\n",
        "    train_sizes, train_scores, test_scores  = \\\n",
        "        model_selection.learning_curve(estimator, X, y, cv=cv, n_jobs=n_jobs,\n",
        "                       train_sizes=train_sizes)\n",
        "    train_scores_mean = np.mean(train_scores, axis=1)\n",
        "    train_scores_std = np.std(train_scores, axis=1)\n",
        "    test_scores_mean = np.mean(test_scores, axis=1)\n",
        "    test_scores_std = np.std(test_scores, axis=1)\n",
        "\n",
        "    # Plot learning curve\n",
        "    axes.grid()\n",
        "    axes.fill_between(train_sizes, train_scores_mean - train_scores_std,\n",
        "                         train_scores_mean + train_scores_std, alpha=0.1,\n",
        "                         color=\"r\")\n",
        "    axes.fill_between(train_sizes, test_scores_mean - test_scores_std,\n",
        "                         test_scores_mean + test_scores_std, alpha=0.1,\n",
        "                         color=\"g\")\n",
        "    axes.plot(train_sizes, train_scores_mean, 'o-', color=\"r\",\n",
        "                 label=\"Training score\")\n",
        "    axes.plot(train_sizes, test_scores_mean, 'o-', color=\"g\",\n",
        "                 label=\"Cross-validation score\")\n",
        "    axes.legend(loc=\"best\")\n",
        "\n",
        "    return plt\n",
        "\n",
        "def custom_score(y_true, y_pred):\n",
        "    accuracy = accuracy_score(y_true, y_pred)\n",
        "    recall = recall_score(y_true, y_pred, average='macro')\n",
        "    score = 2 * accuracy * recall / (accuracy + recall)\n",
        "    return score"
      ],
      "metadata": {
        "id": "NJtv5_0TuhEz"
      },
      "execution_count": 303,
      "outputs": []
    },
    {
      "cell_type": "markdown",
      "metadata": {
        "id": "KEUJUe8plrxC"
      },
      "source": [
        "## Data loading\n",
        "\n",
        "Below are functions to load the dataset of your choice. After that, it is all up to you to create and evaluate a classification method. Beware, there may be missing values in these datasets. Good luck!"
      ]
    },
    {
      "cell_type": "code",
      "execution_count": 304,
      "metadata": {
        "colab": {
          "base_uri": "https://localhost:8080/"
        },
        "id": "-NE_fTbKGe5z",
        "outputId": "6a0cb01c-5720-40aa-a193-f06aecb7b38b"
      },
      "outputs": [
        {
          "output_type": "stream",
          "name": "stdout",
          "text": [
            "The number of features: 494\n",
            "The number of samples: 115\n",
            "ID\n",
            "Lipo-001_0    liposarcoma\n",
            "Lipo-002_0    liposarcoma\n",
            "Lipo-003_0         lipoma\n",
            "Lipo-004_0    liposarcoma\n",
            "Lipo-005_0         lipoma\n",
            "                 ...     \n",
            "Lipo-111_0         lipoma\n",
            "Lipo-112_0    liposarcoma\n",
            "Lipo-113_0    liposarcoma\n",
            "Lipo-114_0         lipoma\n",
            "Lipo-115_0    liposarcoma\n",
            "Name: label, Length: 115, dtype: object\n",
            "Of these samples 58 are liposarcomas. That is 50 percent.\n"
          ]
        }
      ],
      "source": [
        "data = pd.read_csv('/content/TM10007_ML_g9/worclipo/Lipo_radiomicFeatures.csv', index_col=0)\n",
        "print(f'The number of features: {len(data.columns)}')\n",
        "print(f'The number of samples: {len(data.index)}')\n",
        "data_punten = len(data.index) * len(data.columns)\n",
        "print(data['label'])\n",
        "ls = (data['label'] == 'liposarcoma').sum()\n",
        "\n",
        "print(f'Of these samples {ls} are liposarcomas. That is {round(ls/len(data.index)*100)} percent.')"
      ]
    },
    {
      "cell_type": "markdown",
      "source": [
        "## Splitting data in train and test set\n"
      ],
      "metadata": {
        "id": "LHslq_ZZZbW7"
      }
    },
    {
      "cell_type": "code",
      "source": [
        "y = data['label']\n",
        "\n",
        "lb = preprocessing.LabelBinarizer()\n",
        "y = lb.fit_transform(y)\n",
        "y = y.flatten()\n",
        "\n",
        "X = data.drop('label', axis=1)\n",
        "\n",
        "X_train, X_test, y_train, y_test = model_selection.train_test_split(X, y, test_size=0.25, random_state=42, stratify=y)\n",
        "\n",
        "zero_variance = []"
      ],
      "metadata": {
        "id": "P8f1SNKeZaB7"
      },
      "execution_count": 305,
      "outputs": []
    },
    {
      "cell_type": "markdown",
      "source": [
        "## Normaal verdeling en Variantie"
      ],
      "metadata": {
        "id": "L6CG70dYXbs-"
      }
    },
    {
      "cell_type": "markdown",
      "source": [
        "### Normaal verdeling\n",
        "Hieronder berekenen we hoe veel van de features normaal verdeeld zijn"
      ],
      "metadata": {
        "id": "BGxgrG6RXe4c"
      }
    },
    {
      "cell_type": "code",
      "source": [
        "aantal_normaal = 0\n",
        "\n",
        "for column in X_train.columns:\n",
        "    result = stats.shapiro(X_train[column])\n",
        "    # print(result.pvalue)\n",
        "    normaal = result.pvalue > 0.05\n",
        "    aantal_normaal += normaal\n",
        "    \n",
        "print(aantal_normaal, \" features zijn normaal verdeeld.\")"
      ],
      "metadata": {
        "colab": {
          "base_uri": "https://localhost:8080/"
        },
        "id": "fU5RKf7NXh0a",
        "outputId": "1646a0b8-eae3-4ed2-baed-3d236c93d57b"
      },
      "execution_count": 306,
      "outputs": [
        {
          "output_type": "stream",
          "name": "stdout",
          "text": [
            "88  features zijn normaal verdeeld.\n"
          ]
        },
        {
          "output_type": "stream",
          "name": "stderr",
          "text": [
            "/usr/local/lib/python3.9/dist-packages/scipy/stats/_morestats.py:1813: UserWarning: Input data for shapiro has range zero. The results may not be accurate.\n",
            "  warnings.warn(\"Input data for shapiro has range zero. The results \"\n"
          ]
        }
      ]
    },
    {
      "cell_type": "markdown",
      "source": [
        "### Variantie"
      ],
      "metadata": {
        "id": "BKsVP91EXh_e"
      }
    },
    {
      "cell_type": "code",
      "source": [
        "variantie = X_train.var(axis=0)\n",
        "variantie = variantie.sort_values()\n",
        "\n",
        "# Haal features met variantie van 0 eruit, want die zeggen dus helemaal niks\n",
        "zero_variance = variantie.keys()[variantie==0]\n",
        "X_train = X_train.drop(zero_variance, axis=1)\n",
        "print(f\"{len(zero_variance)} features have a variance of zero. These features are deleted.\")"
      ],
      "metadata": {
        "colab": {
          "base_uri": "https://localhost:8080/"
        },
        "id": "i358P9yoXlkj",
        "outputId": "f275bca2-2a36-41f0-b120-7f198dd01862"
      },
      "execution_count": 307,
      "outputs": [
        {
          "output_type": "stream",
          "name": "stdout",
          "text": [
            "21 features have a variance of zero. These features are deleted.\n"
          ]
        }
      ]
    },
    {
      "cell_type": "markdown",
      "source": [
        "## Handling missing data "
      ],
      "metadata": {
        "id": "gJLsBPlTZwAd"
      }
    },
    {
      "cell_type": "markdown",
      "source": [
        "### Throwing out features\n",
        "All features that exist of at least 50% zeros are deleted from the data. "
      ],
      "metadata": {
        "id": "3MCSfSwrlshM"
      }
    },
    {
      "cell_type": "code",
      "source": [
        "zeros = (X_train == 0).sum()\n",
        "threshold = 0.5 * len(y_train)\n",
        "print('Threshold = ', threshold)\n",
        "feature_del = zeros[zeros > threshold]\n",
        "\n",
        "X_train = X_train.drop(columns=feature_del.index)\n",
        "print(f'For {len(data.columns)-len(X_train.columns)-len(zero_variance)} features the data consisted of more than 50% zeros. These features are deleted.')"
      ],
      "metadata": {
        "colab": {
          "base_uri": "https://localhost:8080/"
        },
        "id": "vWcI7Y3g7eDk",
        "outputId": "b6286549-1bb7-490f-a1bd-76e82085ddd6"
      },
      "execution_count": 308,
      "outputs": [
        {
          "output_type": "stream",
          "name": "stdout",
          "text": [
            "Threshold =  43.0\n",
            "For 11 features the data consisted of more than 50% zeros. These features are deleted.\n"
          ]
        }
      ]
    },
    {
      "cell_type": "code",
      "source": [
        "more_zeros = (X_train == 0).sum()\n",
        "columns_zeros = more_zeros[more_zeros > 0].index\n",
        "print(f'Of the remaining features, {len(columns_zeros)} features have at least one zero')\n",
        "print(f'There is a total of {more_zeros.sum()} zeros left in the data')"
      ],
      "metadata": {
        "colab": {
          "base_uri": "https://localhost:8080/"
        },
        "id": "iuoOrHuMAsFY",
        "outputId": "73a20190-82a0-451f-a5e0-6bf01d3838c1"
      },
      "execution_count": 309,
      "outputs": [
        {
          "output_type": "stream",
          "name": "stdout",
          "text": [
            "Of the remaining features, 10 features have at least one zero\n",
            "There is a total of 44 zeros left in the data\n"
          ]
        }
      ]
    },
    {
      "cell_type": "markdown",
      "source": [
        "### Calculate number of missing values per sample"
      ],
      "metadata": {
        "id": "pkM1c0vkq1YB"
      }
    },
    {
      "cell_type": "code",
      "source": [
        "zeros_r = (X_train == 0).sum(axis=1)\n",
        "threshold = 0.005 * X_train.size / len(y_train)\n",
        "print('Threshold = ', threshold)\n",
        "feature_del = zeros_r[zeros_r > threshold]\n",
        "print(feature_del)"
      ],
      "metadata": {
        "id": "4gHFgkGMm3Nm",
        "outputId": "b9ba85d4-b487-47aa-c8bd-16e55f74c277",
        "colab": {
          "base_uri": "https://localhost:8080/"
        }
      },
      "execution_count": 310,
      "outputs": [
        {
          "output_type": "stream",
          "name": "stdout",
          "text": [
            "Threshold =  2.31\n",
            "ID\n",
            "Lipo-090_0    5\n",
            "Lipo-095_0    3\n",
            "Lipo-076_0    3\n",
            "Lipo-003_0    3\n",
            "dtype: int64\n"
          ]
        }
      ]
    },
    {
      "cell_type": "markdown",
      "source": [
        "### Filling remaining zeros\n",
        "All remaining zeros are replaced by the median of that feature. "
      ],
      "metadata": {
        "id": "KwXkbuDYqhoJ"
      }
    },
    {
      "cell_type": "code",
      "source": [
        "X_train_mean = X_train\n",
        "X_train_median = X_train\n",
        "\n",
        "print(X_train[columns_zeros])\n",
        "\n",
        "for column in columns_zeros[:]:\n",
        "    print('Kolom: ', column)\n",
        "    column_mean = X_train.loc[X_train[column]!=0, column].mean()\n",
        "    column_median = X_train.loc[X_train[column]!=0, column].median()\n",
        "    # print('mean = ', column_mean)\n",
        "    # print('median = ', column_median)\n",
        "\n",
        "    # verschil2_percolumn = column_mean - column_median\n",
        "    # print('Verschil tussen mean en median = ',verschil2_percolumn)\n",
        "\n",
        "    # print('p-waarde normaalverdeling = ', stats.shapiro(X_train.loc[X_train[column]!=0, column]).pvalue)\n",
        "    # print(' ')\n",
        "\n",
        "    X_train_mean[column].replace(0, column_mean)\n",
        "    X_train_median[column].replace(0, column_median)\n",
        "\n",
        "\n",
        "verschil = abs(X_train_mean - X_train_median)\n",
        "# print('Totaal verschil = ', verschil.sum().sum())\n",
        "\n",
        "# We gaan voor de median\n",
        "X_train = X_train_median"
      ],
      "metadata": {
        "id": "EQudKLJth0sz",
        "outputId": "8e7e4833-225c-41db-f32c-4a3598a53507",
        "colab": {
          "base_uri": "https://localhost:8080/"
        }
      },
      "execution_count": 311,
      "outputs": [
        {
          "output_type": "stream",
          "name": "stdout",
          "text": [
            "            PREDICT_original_sf_area_min_2.5D  \\\n",
            "ID                                              \n",
            "Lipo-012_0                         183.736610   \n",
            "Lipo-073_0                         185.128390   \n",
            "Lipo-030_0                        1487.016678   \n",
            "Lipo-042_0                          19.850316   \n",
            "Lipo-100_0                         273.641968   \n",
            "...                                       ...   \n",
            "Lipo-091_0                         556.945801   \n",
            "Lipo-049_0                          30.429077   \n",
            "Lipo-057_0                         135.255432   \n",
            "Lipo-052_0                         296.417999   \n",
            "Lipo-006_0                         581.138611   \n",
            "\n",
            "            PREDICT_original_tf_LBP_quartile_range_R8_P24  \\\n",
            "ID                                                          \n",
            "Lipo-012_0                                            3.0   \n",
            "Lipo-073_0                                           11.0   \n",
            "Lipo-030_0                                            3.0   \n",
            "Lipo-042_0                                            2.0   \n",
            "Lipo-100_0                                           13.0   \n",
            "...                                                   ...   \n",
            "Lipo-091_0                                           15.0   \n",
            "Lipo-049_0                                            7.0   \n",
            "Lipo-057_0                                           14.0   \n",
            "Lipo-052_0                                            4.0   \n",
            "Lipo-006_0                                           14.0   \n",
            "\n",
            "            PREDICT_original_vf_Frangi_full_quartile_range_SR(1.0, 10.0)_SS2.0  \\\n",
            "ID                                                                               \n",
            "Lipo-012_0                                       2.951306e-10                    \n",
            "Lipo-073_0                                       7.264154e-11                    \n",
            "Lipo-030_0                                       4.592091e-10                    \n",
            "Lipo-042_0                                       4.174470e-10                    \n",
            "Lipo-100_0                                       1.517338e-09                    \n",
            "...                                                       ...                    \n",
            "Lipo-091_0                                       4.506532e-10                    \n",
            "Lipo-049_0                                       8.747005e-10                    \n",
            "Lipo-057_0                                       3.485883e-10                    \n",
            "Lipo-052_0                                       3.741907e-11                    \n",
            "Lipo-006_0                                       3.131032e-10                    \n",
            "\n",
            "            PREDICT_original_vf_Frangi_edge_quartile_range_SR(1.0, 10.0)_SS2.0  \\\n",
            "ID                                                                               \n",
            "Lipo-012_0                                       2.951306e-10                    \n",
            "Lipo-073_0                                       7.264154e-11                    \n",
            "Lipo-030_0                                       4.592091e-10                    \n",
            "Lipo-042_0                                       4.174470e-10                    \n",
            "Lipo-100_0                                       1.517338e-09                    \n",
            "...                                                       ...                    \n",
            "Lipo-091_0                                       4.506532e-10                    \n",
            "Lipo-049_0                                       8.747005e-10                    \n",
            "Lipo-057_0                                       3.485883e-10                    \n",
            "Lipo-052_0                                       3.741907e-11                    \n",
            "Lipo-006_0                                       3.131032e-10                    \n",
            "\n",
            "            PREDICT_original_vf_Frangi_inner_quartile_range_SR(1.0, 10.0)_SS2.0  \\\n",
            "ID                                                                                \n",
            "Lipo-012_0                                       1.903265e-10                     \n",
            "Lipo-073_0                                       1.843291e-13                     \n",
            "Lipo-030_0                                       4.298072e-10                     \n",
            "Lipo-042_0                                       2.616916e-10                     \n",
            "Lipo-100_0                                       3.741505e-10                     \n",
            "...                                                       ...                     \n",
            "Lipo-091_0                                       3.652658e-10                     \n",
            "Lipo-049_0                                       8.744914e-11                     \n",
            "Lipo-057_0                                       2.259944e-10                     \n",
            "Lipo-052_0                                       9.681863e-12                     \n",
            "Lipo-006_0                                       2.000707e-10                     \n",
            "\n",
            "            PREDICT_original_phasef_monogenic_min_WL3_N5  \\\n",
            "ID                                                         \n",
            "Lipo-012_0                                           3.0   \n",
            "Lipo-073_0                                           6.0   \n",
            "Lipo-030_0                                           4.0   \n",
            "Lipo-042_0                                           3.0   \n",
            "Lipo-100_0                                          10.0   \n",
            "...                                                  ...   \n",
            "Lipo-091_0                                           2.0   \n",
            "Lipo-049_0                                           5.0   \n",
            "Lipo-057_0                                           2.0   \n",
            "Lipo-052_0                                           3.0   \n",
            "Lipo-006_0                                           1.0   \n",
            "\n",
            "            PREDICT_original_phasef_monogenic_peak_WL3_N5  \\\n",
            "ID                                                          \n",
            "Lipo-012_0                                           0.00   \n",
            "Lipo-073_0                                          96.66   \n",
            "Lipo-030_0                                         146.78   \n",
            "Lipo-042_0                                          35.80   \n",
            "Lipo-100_0                                          96.66   \n",
            "...                                                   ...   \n",
            "Lipo-091_0                                         121.72   \n",
            "Lipo-049_0                                          53.70   \n",
            "Lipo-057_0                                         171.84   \n",
            "Lipo-052_0                                          10.74   \n",
            "Lipo-006_0                                           3.58   \n",
            "\n",
            "            PREDICT_original_phasef_monogenic_peak_position_WL3_N5  \\\n",
            "ID                                                                   \n",
            "Lipo-012_0                                                  0        \n",
            "Lipo-073_0                                                 27        \n",
            "Lipo-030_0                                                 41        \n",
            "Lipo-042_0                                                 10        \n",
            "Lipo-100_0                                                 27        \n",
            "...                                                       ...        \n",
            "Lipo-091_0                                                 34        \n",
            "Lipo-049_0                                                 15        \n",
            "Lipo-057_0                                                 48        \n",
            "Lipo-052_0                                                  3        \n",
            "Lipo-006_0                                                  1        \n",
            "\n",
            "            PREDICT_original_phasef_phasecong_quartile_range_WL3_N5  \\\n",
            "ID                                                                    \n",
            "Lipo-012_0                                           0.028873         \n",
            "Lipo-073_0                                           0.003799         \n",
            "Lipo-030_0                                           0.009115         \n",
            "Lipo-042_0                                           0.020983         \n",
            "Lipo-100_0                                           0.015316         \n",
            "...                                                       ...         \n",
            "Lipo-091_0                                           0.077306         \n",
            "Lipo-049_0                                           0.008425         \n",
            "Lipo-057_0                                           0.027979         \n",
            "Lipo-052_0                                           0.000000         \n",
            "Lipo-006_0                                           0.027552         \n",
            "\n",
            "            PREDICT_original_phasef_phasesym_quartile_range_WL3_N5  \n",
            "ID                                                                  \n",
            "Lipo-012_0                                           0.172800       \n",
            "Lipo-073_0                                           0.000000       \n",
            "Lipo-030_0                                           0.000000       \n",
            "Lipo-042_0                                           0.184326       \n",
            "Lipo-100_0                                           0.291763       \n",
            "...                                                       ...       \n",
            "Lipo-091_0                                           0.155919       \n",
            "Lipo-049_0                                           0.350467       \n",
            "Lipo-057_0                                           0.079629       \n",
            "Lipo-052_0                                           0.163069       \n",
            "Lipo-006_0                                           0.385779       \n",
            "\n",
            "[86 rows x 10 columns]\n",
            "Kolom:  PREDICT_original_sf_area_min_2.5D\n",
            "Kolom:  PREDICT_original_tf_LBP_quartile_range_R8_P24\n",
            "Kolom:  PREDICT_original_vf_Frangi_full_quartile_range_SR(1.0, 10.0)_SS2.0\n",
            "Kolom:  PREDICT_original_vf_Frangi_edge_quartile_range_SR(1.0, 10.0)_SS2.0\n",
            "Kolom:  PREDICT_original_vf_Frangi_inner_quartile_range_SR(1.0, 10.0)_SS2.0\n",
            "Kolom:  PREDICT_original_phasef_monogenic_min_WL3_N5\n",
            "Kolom:  PREDICT_original_phasef_monogenic_peak_WL3_N5\n",
            "Kolom:  PREDICT_original_phasef_monogenic_peak_position_WL3_N5\n",
            "Kolom:  PREDICT_original_phasef_phasecong_quartile_range_WL3_N5\n",
            "Kolom:  PREDICT_original_phasef_phasesym_quartile_range_WL3_N5\n"
          ]
        }
      ]
    },
    {
      "cell_type": "markdown",
      "source": [
        "## Outliers eruit halen\n"
      ],
      "metadata": {
        "id": "Fui0tjwlW_9C"
      }
    },
    {
      "cell_type": "code",
      "source": [
        "outliers_total = 0\n",
        "\n",
        "for column in X_train.columns:\n",
        "    q1 = X_train[column].quantile(0.25)\n",
        "    q3 = X_train[column].quantile(0.75)\n",
        "    iqr = q3 - q1\n",
        "    lower_bound = q1 - (1.5 * iqr)\n",
        "    upper_bound = q3 + (1.5 * iqr)\n",
        "\n",
        "    outliers_column = (X_train[column] < lower_bound).sum() + (X_train[column] > upper_bound).sum()\n",
        "    outliers_total += outliers_column\n",
        "\n",
        "    X_train.loc[X_train[column] < lower_bound, column] = lower_bound\n",
        "    X_train.loc[X_train[column] > upper_bound, column] = upper_bound\n",
        "\n",
        "print(f\"Er zijn {outliers_total} outliers vervangen\")\n",
        "print(data_punten)\n",
        "print(f\"Dit was {outliers_total / data_punten *100}% van het totale aantal datapunten\")"
      ],
      "metadata": {
        "colab": {
          "base_uri": "https://localhost:8080/"
        },
        "id": "ik_99Td7XECw",
        "outputId": "d07f5505-501b-4adc-9511-eb07fe0f3e52"
      },
      "execution_count": 312,
      "outputs": [
        {
          "output_type": "stream",
          "name": "stdout",
          "text": [
            "Er zijn 2037 outliers vervangen\n",
            "56810\n",
            "Dit was 3.585636331631755% van het totale aantal datapunten\n"
          ]
        }
      ]
    },
    {
      "cell_type": "markdown",
      "source": [
        "## Scaling"
      ],
      "metadata": {
        "id": "YQtVjjF2dX77"
      }
    },
    {
      "cell_type": "code",
      "source": [
        "scaler = preprocessing.StandardScaler().fit(X_train_median)\n",
        "X_train_scaled = scaler.transform(X_train_median)\n",
        "X_train_scaled_df = pd.DataFrame(X_train_scaled, columns=X_train_median.columns)"
      ],
      "metadata": {
        "id": "iXgA9qGcc2eH"
      },
      "execution_count": 313,
      "outputs": []
    },
    {
      "cell_type": "markdown",
      "source": [
        "## idk"
      ],
      "metadata": {
        "id": "ezzBM5civZcX"
      }
    },
    {
      "cell_type": "code",
      "source": [
        "# ANOVA feature selection for numeric input and categorical output\n",
        "from sklearn.datasets import make_classification\n",
        "from sklearn.feature_selection import SelectKBest\n",
        "from sklearn.feature_selection import f_classif\n",
        "\n",
        "# get anova p-values\n",
        "fs = SelectKBest(score_func=f_classif, k='all')\n",
        "fit = fs.fit(X_train_scaled_df, y_train)\n",
        "waardes = fit.pvalues_\n",
        "# print(fit)\n",
        "waardes_df = pd.DataFrame(waardes, columns=['P-value'], index=X_train.columns)\n",
        "\n",
        "waardes_df= waardes_df.sort_values(by=['P-value'])\n",
        "pd.set_option('display.max_rows', None)\n",
        "# print((waardes_df<=0.05))\n",
        "# print(waardes_df[(waardes_df<=0.05)])\n",
        "print(waardes_df[(waardes_df>=0.05)].index.tolist())\n",
        "print(len(waardes_df[(waardes_df>=0.05)].index.tolist()))\n",
        "pd.set_option('display.max_rows', 10)\n",
        "#  df[df['A'] > 0].index.tolist()\n",
        "\n",
        "\n",
        "# X_train_idk = X_train_scaled_df.drop(waardes_df[(waardes_df>=0.05)].index, axis=1)\n",
        "# X_train_idk = X_train_scaled_df.iloc(:,waardes_df<=0.05)\n",
        "\n",
        "\n",
        "# print(waardes_df[(waardes_df<=0.05)].index)\n",
        "# X_train_idk = X_train_scaled_df[waardes_df[(waardes_df<=0.05)].index]\n",
        "print(X_train_idk)"
      ],
      "metadata": {
        "id": "09R4Nb3Mvaxj",
        "outputId": "15a8cad2-8fff-439a-a86c-17ca594f49e8",
        "colab": {
          "base_uri": "https://localhost:8080/"
        }
      },
      "execution_count": 314,
      "outputs": [
        {
          "output_type": "stream",
          "name": "stdout",
          "text": [
            "['PREDICT_original_sf_volume_2.5D', 'PREDICT_original_sf_area_std_2.5D', 'PREDICT_original_sf_area_max_2.5D', 'PREDICT_original_sf_area_avg_2.5D', 'PREDICT_original_tf_Gabor_mean_F0.2_A0.0', 'PREDICT_original_tf_Gabor_mean_F0.2_A0.79', 'PREDICT_original_tf_Gabor_mean_F0.5_A0.0', 'PREDICT_original_sf_compactness_std_2.5D', 'PREDICT_original_tf_Gabor_median_F0.2_A1.57', 'PREDICT_original_tf_Gabor_mean_F0.05_A0.79', 'PREDICT_original_tf_GLCMMS_homogeneityd3.0A2.36mean', 'PREDICT_original_tf_Gabor_kurtosis_F0.05_A0.79', 'PREDICT_original_tf_GLCMMS_homogeneityd3.0A0.79std', 'PREDICT_original_tf_Gabor_mean_F0.05_A0.0', 'PREDICT_original_tf_GLCMMS_homogeneityd3.0A0.79mean', 'PREDICT_original_tf_GLCMMS_homogeneityd3.0A2.36std', 'PREDICT_original_tf_Gabor_energy_F0.2_A0.79', 'PREDICT_original_logf_energy_sigma1', 'PREDICT_original_tf_Gabor_energy_F0.2_A0.0', 'PREDICT_original_tf_Gabor_mean_F0.5_A0.79', 'PREDICT_original_phasef_phasecong_entropy_WL3_N5', 'PREDICT_original_tf_GLCMMS_dissimilarityd3.0A2.36mean', 'PREDICT_original_tf_Gabor_median_F0.05_A0.79', 'PREDICT_original_hf_min', 'PREDICT_original_tf_Gabor_energy_F0.05_A0.79', 'PREDICT_original_sf_prax_std_2.5D', 'PREDICT_original_sf_convexity_std_2.5D', 'PREDICT_original_tf_Gabor_peak_position_F0.05_A0.0', 'PREDICT_original_tf_GLCMMS_dissimilarityd3.0A2.36std', 'PREDICT_original_tf_LBP_energy_R15_P36', 'PREDICT_original_tf_GLCMMS_dissimilarityd3.0A0.79mean', 'PREDICT_original_phasef_monogenic_entropy_WL3_N5', 'PREDICT_original_tf_GLCMMS_contrastd3.0A0.79mean', 'PREDICT_original_tf_GLCMMS_dissimilarityd3.0A0.79std', 'PREDICT_original_tf_Gabor_entropy_F0.05_A0.79', 'PREDICT_original_tf_LBP_entropy_R15_P36', 'PREDICT_original_tf_Gabor_entropy_F0.05_A0.0', 'PREDICT_original_tf_Gabor_entropy_F0.05_A1.57', 'PREDICT_original_tf_Gabor_entropy_F0.2_A0.0', 'PREDICT_original_tf_Gabor_entropy_F0.2_A0.79', 'PREDICT_original_tf_Gabor_entropy_F0.2_A1.57', 'PREDICT_original_tf_Gabor_entropy_F0.5_A0.0', 'PREDICT_original_tf_LBP_entropy_R3_P12', 'PREDICT_original_tf_Gabor_entropy_F0.5_A1.57', 'PREDICT_original_tf_Gabor_entropy_F0.5_A2.36', 'PREDICT_original_tf_Gabor_entropy_F0.5_A0.79', 'PREDICT_original_logf_entropy_sigma1', 'PREDICT_original_logf_entropy_sigma10', 'PREDICT_original_logf_entropy_sigma5', 'PREDICT_original_tf_Gabor_entropy_F0.05_A2.36', 'PREDICT_original_tf_GLCMMS_contrastd3.0A2.36mean', 'PREDICT_original_tf_Gabor_entropy_F0.2_A2.36', 'PREDICT_original_tf_Gabor_kurtosis_F0.05_A0.0', 'PREDICT_original_tf_LBP_entropy_R8_P24', 'PREDICT_original_phasef_phasecong_energy_WL3_N5', 'PREDICT_original_logf_energy_sigma10', 'PREDICT_original_hf_entropy', 'PREDICT_original_tf_Gabor_peak_F0.5_A0.0', 'PREDICT_original_tf_Gabor_median_F0.5_A0.0', 'PREDICT_original_tf_GLCMMS_homogeneityd3.0A0.0std', 'PREDICT_original_tf_Gabor_median_F0.05_A0.0', 'PREDICT_original_tf_Gabor_peak_F0.05_A1.57', 'PREDICT_original_tf_Gabor_energy_F0.05_A0.0', 'PREDICT_original_tf_LBP_energy_R8_P24', 'PREDICT_original_tf_GLCMMS_homogeneityd3.0A0.0mean', 'PREDICT_original_tf_Gabor_energy_F0.2_A2.36', 'PREDICT_original_tf_GLCMMS_homogeneityd3.0A1.57std', 'PREDICT_original_phasef_phasesym_skewness_WL3_N5', 'PREDICT_original_tf_GLCMMS_contrastd3.0A0.79std', 'PREDICT_original_tf_Gabor_energy_F0.5_A0.0', 'PREDICT_original_tf_LBP_energy_R3_P12', 'PREDICT_original_tf_Gabor_kurtosis_F0.5_A0.0', 'PREDICT_original_tf_Gabor_energy_F0.2_A1.57', 'PREDICT_original_hf_median', 'PREDICT_original_tf_GLCMMS_contrastd3.0A2.36std', 'PREDICT_original_tf_Gabor_kurtosis_F0.2_A0.79', 'PREDICT_original_tf_Gabor_kurtosis_F0.2_A0.0', 'PREDICT_original_phasef_phasesym_quartile_range_WL3_N5', 'PREDICT_original_logf_mean_sigma1', 'PREDICT_original_tf_Gabor_median_F0.2_A0.0', 'PREDICT_original_tf_Gabor_peak_F0.2_A1.57', 'PREDICT_original_phasef_phasesym_kurtosis_WL3_N5', 'PREDICT_original_hf_mean', 'PREDICT_original_phasef_phasesym_mean_WL3_N5', 'PREDICT_original_tf_Gabor_quartile_range_F0.05_A0.79', 'PREDICT_original_tf_Gabor_kurtosis_F0.5_A0.79', 'PREDICT_original_tf_Gabor_energy_F0.05_A1.57', 'PREDICT_original_tf_Gabor_skewness_F0.05_A0.0', 'PREDICT_original_tf_Gabor_mean_F0.5_A2.36', 'PREDICT_original_logf_energy_sigma5', 'PREDICT_original_tf_Gabor_max_F0.5_A0.0', 'PREDICT_original_tf_Gabor_max_F0.05_A0.0', 'PREDICT_original_tf_Gabor_range_F0.5_A0.0', 'PREDICT_original_hf_peak', 'PREDICT_original_tf_Gabor_peak_position_F0.2_A0.0', 'PREDICT_original_tf_GLCMMS_homogeneityd3.0A1.57mean', 'PREDICT_original_logf_median_sigma10', 'PREDICT_original_phasef_phasesym_entropy_WL3_N5', 'PREDICT_original_tf_Gabor_max_F0.2_A0.0', 'PREDICT_original_phasef_phasesym_energy_WL3_N5', 'PREDICT_original_sf_prax_avg_2.5D', 'PREDICT_original_tf_Gabor_min_F0.5_A0.0', 'PREDICT_original_of_theta_y', 'PREDICT_original_tf_Gabor_energy_F0.5_A2.36', 'PREDICT_original_tf_Gabor_max_F0.2_A0.79', 'PREDICT_original_tf_Gabor_energy_F0.5_A0.79', 'PREDICT_original_of_theta_x', 'PREDICT_original_tf_Gabor_mean_F0.2_A1.57', 'PREDICT_original_phasef_phasesym_std_WL3_N5', 'PREDICT_original_tf_Gabor_peak_position_F0.2_A1.57', 'PREDICT_original_tf_Gabor_peak_F0.2_A0.79', 'PREDICT_original_hf_skewness', 'PREDICT_original_tf_Gabor_peak_F0.05_A0.79', 'PREDICT_original_tf_Gabor_range_F0.2_A0.0', 'PREDICT_original_tf_Gabor_max_F0.5_A0.79', 'PREDICT_original_logf_peak_sigma10', 'PREDICT_original_tf_Gabor_kurtosis_F0.5_A2.36', 'PREDICT_original_tf_Gabor_std_F0.5_A0.79', 'PREDICT_original_tf_Gabor_quartile_range_F0.2_A0.0', 'PREDICT_original_tf_Gabor_quartile_range_F0.2_A0.79', 'PREDICT_original_tf_Gabor_max_F0.05_A0.79', 'PREDICT_original_tf_LBP_mean_R15_P36', 'PREDICT_original_tf_GLCMMS_dissimilarityd3.0A0.0std', 'PREDICT_original_tf_Gabor_quartile_range_F0.05_A0.0', 'PREDICT_original_tf_GLCM_ASMd1.0A1.57', 'PREDICT_original_tf_Gabor_std_F0.05_A0.79', 'PREDICT_original_tf_Gabor_peak_F0.2_A0.0', 'PREDICT_original_tf_Gabor_range_F0.2_A0.79', 'PREDICT_original_tf_GLCMMS_energyd3.0A1.57std', 'PREDICT_original_tf_GLCM_ASMd3.0A1.57', 'PREDICT_original_tf_GLCMMS_correlationd3.0A2.36mean', 'PREDICT_original_hf_peak_position', 'PREDICT_original_tf_Gabor_std_F0.5_A0.0', 'PREDICT_original_tf_GLCMMS_energyd3.0A2.36std', 'PREDICT_original_tf_GLCMMS_dissimilarityd3.0A0.0mean', 'PREDICT_original_tf_Gabor_range_F0.5_A0.79', 'PREDICT_original_tf_LBP_std_R15_P36', 'PREDICT_original_tf_GLCMMS_contrastd1.0A0.79mean', 'PREDICT_original_tf_GLCM_contrastd1.0A1.57', 'PREDICT_original_hf_kurtosis', 'PREDICT_original_tf_GLCMMS_contrastd3.0A0.0std', 'PREDICT_original_tf_GLCM_energyd1.0A1.57', 'PREDICT_original_tf_Gabor_skewness_F0.05_A0.79', 'PREDICT_original_tf_LBP_kurtosis_R15_P36', 'PREDICT_original_tf_GLCMMS_energyd3.0A2.36mean', 'PREDICT_original_tf_Gabor_median_F0.2_A0.79', 'PREDICT_original_logf_kurtosis_sigma1', 'PREDICT_original_tf_GLCM_ASMd1.0A0.0', 'PREDICT_original_tf_GLCMMS_energyd3.0A0.0std', 'PREDICT_original_tf_Gabor_max_F0.5_A1.57', 'PREDICT_original_of_theta_z', 'PREDICT_original_tf_Gabor_max_F0.5_A2.36', 'PREDICT_original_phasef_phasesym_max_WL3_N5', 'PREDICT_original_phasef_phasesym_range_WL3_N5', 'PREDICT_original_tf_GLCMMS_energyd3.0A0.79mean', 'PREDICT_original_tf_Gabor_std_F0.2_A0.79', 'PREDICT_original_tf_GLCM_energyd3.0A1.57', 'PREDICT_original_tf_GLCM_ASMd1.0A2.36', 'PREDICT_original_tf_GLCMMS_ASMd3.0A1.57std', 'PREDICT_original_tf_GLCM_ASMd1.0A0.79', 'PREDICT_original_tf_Gabor_energy_F0.05_A2.36', 'PREDICT_original_tf_Gabor_mean_F0.5_A1.57', 'PREDICT_original_tf_Gabor_std_F0.5_A2.36', 'PREDICT_original_tf_GLCM_energyd1.0A2.36', 'PREDICT_original_tf_Gabor_range_F0.05_A0.79', 'PREDICT_original_tf_GLCMMS_correlationd3.0A0.79std', 'PREDICT_original_tf_GLCM_correlationd1.0A1.57', 'PREDICT_original_tf_Gabor_range_F0.5_A2.36', 'PREDICT_original_tf_GLCMMS_energyd3.0A1.57mean', 'PREDICT_original_tf_GLCMMS_energyd3.0A0.0mean', 'PREDICT_original_tf_GLCM_energyd1.0A0.0', 'PREDICT_original_tf_Gabor_std_F0.2_A0.0', 'PREDICT_original_phasef_phasecong_std_WL3_N5', 'PREDICT_original_phasef_phasecong_range_WL3_N5', 'PREDICT_original_phasef_phasecong_max_WL3_N5', 'PREDICT_original_phasef_monogenic_energy_WL3_N5', 'PREDICT_original_phasef_monogenic_max_WL3_N5', 'PREDICT_original_tf_LBP_skewness_R15_P36', 'PREDICT_original_tf_Gabor_kurtosis_F0.05_A2.36', 'PREDICT_original_tf_GLCMMS_energyd3.0A0.79std', 'PREDICT_original_tf_Gabor_min_F0.2_A0.0', 'PREDICT_original_phasef_monogenic_range_WL3_N5', 'PREDICT_original_tf_Gabor_skewness_F0.5_A0.79', 'PREDICT_original_tf_Gabor_peak_position_F0.05_A2.36', 'PREDICT_original_tf_GLCMMS_correlationd3.0A0.79mean', 'PREDICT_original_tf_Gabor_range_F0.5_A1.57', 'PREDICT_original_logf_skewness_sigma10', 'PREDICT_original_tf_GLCMMS_correlationd1.0A0.79mean', 'PREDICT_original_logf_max_sigma10', 'PREDICT_original_tf_GLCM_energyd1.0A0.79', 'PREDICT_original_tf_Gabor_kurtosis_F0.5_A1.57', 'PREDICT_original_tf_GLCMMS_contrastd3.0A0.0mean', 'PREDICT_original_tf_Gabor_std_F0.5_A1.57', 'PREDICT_original_tf_Gabor_peak_F0.05_A0.0', 'PREDICT_original_tf_GLCMMS_ASMd3.0A1.57mean', 'PREDICT_original_tf_GLCMMS_ASMd3.0A0.0std', 'PREDICT_original_tf_Gabor_kurtosis_F0.2_A2.36', 'PREDICT_original_tf_Gabor_std_F0.05_A0.0', 'PREDICT_original_tf_GLCMMS_ASMd3.0A2.36std', 'PREDICT_original_tf_GLCM_ASMd3.0A2.36', 'PREDICT_original_phasef_monogenic_mean_WL3_N5', 'PREDICT_original_sf_rad_dist_avg_2.5D', 'PREDICT_original_tf_Gabor_energy_F0.5_A1.57', 'PREDICT_original_vf_Frangi_full_kurtosis_SR(1.0, 10.0)_SS2.0', 'PREDICT_original_vf_Frangi_edge_kurtosis_SR(1.0, 10.0)_SS2.0', 'PREDICT_original_phasef_monogenic_peak_WL3_N5', 'PREDICT_original_phasef_monogenic_peak_position_WL3_N5', 'PREDICT_original_tf_GLCM_ASMd3.0A0.79', 'PREDICT_original_tf_GLCM_energyd3.0A2.36', 'PREDICT_original_logf_peak_position_sigma1', 'PREDICT_original_phasef_monogenic_skewness_WL3_N5', 'PREDICT_original_tf_GLCMMS_dissimilarityd3.0A1.57std', 'PREDICT_original_tf_LBP_kurtosis_R3_P12', 'PREDICT_original_tf_Gabor_min_F0.5_A1.57', 'PREDICT_original_tf_GLCMMS_ASMd3.0A0.0mean', 'PREDICT_original_vf_Frangi_inner_quartile_range_SR(1.0, 10.0)_SS2.0', 'PREDICT_original_tf_GLCMMS_ASMd3.0A0.79mean', 'PREDICT_original_tf_Gabor_skewness_F0.2_A1.57', 'PREDICT_original_tf_GLCM_contrastd3.0A1.57', 'PREDICT_original_tf_GLCMMS_contrastd1.0A2.36mean', 'PREDICT_original_phasef_monogenic_min_WL3_N5', 'PREDICT_original_tf_GLCMMS_correlationd1.0A2.36mean', 'PREDICT_original_tf_GLCMMS_correlationd3.0A2.36std', 'PREDICT_original_vf_Frangi_inner_entropy_SR(1.0, 10.0)_SS2.0', 'PREDICT_original_tf_Gabor_mean_F0.2_A2.36', 'PREDICT_original_tf_GLCMMS_ASMd3.0A2.36mean', 'PREDICT_original_tf_Gabor_range_F0.05_A0.0', 'PREDICT_original_tf_Gabor_quartile_range_F0.2_A2.36', 'PREDICT_original_sf_area_min_2.5D', 'PREDICT_original_vf_Frangi_inner_kurtosis_SR(1.0, 10.0)_SS2.0', 'PREDICT_original_logf_quartile_range_sigma1', 'PREDICT_original_tf_Gabor_skewness_F0.5_A0.0', 'PREDICT_original_phasef_monogenic_median_WL3_N5', 'PREDICT_original_logf_skewness_sigma5', 'PREDICT_original_sf_cvar_std_2.5D', 'PREDICT_original_tf_GLCM_energyd3.0A0.79', 'PREDICT_original_tf_Gabor_skewness_F0.2_A0.0', 'PREDICT_original_tf_Gabor_min_F0.2_A0.79', 'PREDICT_original_tf_Gabor_min_F0.5_A2.36', 'PREDICT_original_tf_GLCMMS_homogeneityd1.0A1.57mean', 'PREDICT_original_tf_GLCMMS_ASMd3.0A0.79std', 'PREDICT_original_tf_Gabor_min_F0.05_A1.57', 'PREDICT_original_tf_Gabor_peak_position_F0.5_A0.0', 'PREDICT_original_tf_Gabor_peak_position_F0.05_A0.79', 'PREDICT_original_vf_Frangi_full_entropy_SR(1.0, 10.0)_SS2.0', 'PREDICT_original_vf_Frangi_edge_entropy_SR(1.0, 10.0)_SS2.0', 'PREDICT_original_tf_GLCM_homogeneityd3.0A0.0', 'PREDICT_original_logf_kurtosis_sigma10', 'PREDICT_original_phasef_phasecong_mean_WL3_N5', 'PREDICT_original_tf_GLCM_ASMd3.0A0.0', 'PREDICT_original_vf_Frangi_edge_skewness_SR(1.0, 10.0)_SS2.0', 'PREDICT_original_vf_Frangi_full_skewness_SR(1.0, 10.0)_SS2.0', 'PREDICT_original_tf_GLCM_correlationd3.0A1.57', 'PREDICT_original_tf_GLCMMS_dissimilarityd3.0A1.57mean', 'PREDICT_original_vf_Frangi_inner_mean_SR(1.0, 10.0)_SS2.0', 'PREDICT_original_tf_Gabor_peak_position_F0.5_A0.79', 'PREDICT_original_tf_GLCM_contrastd1.0A2.36', 'PREDICT_original_tf_GLCMMS_contrastd1.0A0.79std', 'PREDICT_original_tf_Gabor_quartile_range_F0.5_A1.57', 'PREDICT_original_tf_Gabor_mean_F0.05_A1.57', 'PREDICT_original_tf_GLCM_correlationd1.0A2.36', 'PREDICT_original_tf_Gabor_range_F0.05_A1.57', 'PREDICT_original_tf_GLCMMS_correlationd1.0A0.79std', 'PREDICT_original_vf_Frangi_edge_range_SR(1.0, 10.0)_SS2.0', 'PREDICT_original_vf_Frangi_full_range_SR(1.0, 10.0)_SS2.0', 'PREDICT_original_vf_Frangi_full_max_SR(1.0, 10.0)_SS2.0', 'PREDICT_original_vf_Frangi_edge_max_SR(1.0, 10.0)_SS2.0', 'PREDICT_original_vf_Frangi_inner_skewness_SR(1.0, 10.0)_SS2.0', 'PREDICT_original_tf_LBP_mean_R8_P24', 'PREDICT_original_hf_max', 'PREDICT_original_tf_Gabor_std_F0.05_A1.57', 'PREDICT_original_tf_GLCM_energyd3.0A0.0', 'PREDICT_original_sf_cvar_avg_2.5D', 'PREDICT_original_tf_Gabor_skewness_F0.2_A2.36', 'PREDICT_original_tf_Gabor_median_F0.5_A2.36', 'PREDICT_original_tf_Gabor_peak_F0.5_A2.36', 'PREDICT_original_tf_GLCM_dissimilarityd3.0A0.0', 'PREDICT_original_tf_Gabor_skewness_F0.5_A2.36', 'PREDICT_original_tf_Gabor_min_F0.5_A0.79', 'PREDICT_original_tf_Gabor_peak_position_F0.2_A0.79', 'PREDICT_original_logf_quartile_range_sigma5', 'PREDICT_original_tf_GLCMMS_homogeneityd1.0A1.57std', 'PREDICT_original_tf_GLCMMS_dissimilarityd1.0A1.57mean', 'PREDICT_original_tf_GLCM_dissimilarityd3.0A0.79', 'PREDICT_original_tf_Gabor_mean_F0.05_A2.36', 'PREDICT_original_tf_GLCMMS_dissimilarityd1.0A0.79mean', 'PREDICT_original_tf_GLCM_dissimilarityd1.0A1.57', 'PREDICT_original_tf_Gabor_peak_F0.5_A0.79', 'PREDICT_original_tf_Gabor_median_F0.5_A0.79', 'PREDICT_original_tf_GLCMMS_dissimilarityd1.0A1.57std', 'PREDICT_original_tf_GLCM_homogeneityd3.0A0.79', 'PREDICT_original_logf_mean_sigma5', 'PREDICT_original_tf_LBP_range_R15_P36', 'PREDICT_original_phasef_monogenic_std_WL3_N5', 'PREDICT_original_tf_GLCMMS_dissimilarityd1.0A2.36mean', 'PREDICT_original_tf_GLCM_dissimilarityd3.0A1.57', 'PREDICT_original_sf_convexity_avg_2.5D', 'PREDICT_original_tf_LBP_quartile_range_R3_P12', 'PREDICT_original_tf_LBP_skewness_R8_P24', 'PREDICT_original_tf_GLCMMS_contrastd3.0A1.57std', 'PREDICT_original_tf_GLCM_correlationd3.0A0.0', 'PREDICT_original_tf_GLCM_homogeneityd1.0A0.79', 'PREDICT_original_tf_GLCMMS_homogeneityd1.0A0.0std', 'PREDICT_original_tf_GLCM_contrastd3.0A0.0', 'PREDICT_original_tf_Gabor_quartile_range_F0.5_A0.79', 'PREDICT_original_tf_GLCMMS_contrastd1.0A2.36std', 'PREDICT_original_logf_std_sigma10', 'PREDICT_original_tf_Gabor_skewness_F0.05_A2.36', 'PREDICT_original_tf_GLCMMS_contrastd1.0A1.57mean', 'PREDICT_original_hf_quartile_range', 'PREDICT_original_tf_Gabor_peak_position_F0.5_A1.57', 'PREDICT_original_logf_quartile_range_sigma10', 'PREDICT_original_tf_GLCM_contrastd3.0A2.36', 'PREDICT_original_tf_GLCMMS_contrastd3.0A1.57mean', 'PREDICT_original_logf_kurtosis_sigma5', 'PREDICT_original_tf_GLCMMS_energyd1.0A1.57mean', 'PREDICT_original_sf_evar_std_2.5D', 'PREDICT_original_logf_peak_sigma1', 'PREDICT_original_logf_median_sigma1', 'PREDICT_original_tf_Gabor_max_F0.05_A1.57', 'PREDICT_original_sf_compactness_avg_2.5D', 'PREDICT_original_vf_Frangi_edge_energy_SR(1.0, 10.0)_SS2.0', 'PREDICT_original_vf_Frangi_full_energy_SR(1.0, 10.0)_SS2.0', 'PREDICT_original_tf_Gabor_std_F0.2_A2.36', 'PREDICT_original_tf_Gabor_skewness_F0.5_A1.57', 'PREDICT_original_tf_Gabor_peak_position_F0.05_A1.57', 'PREDICT_original_tf_GLCM_homogeneityd1.0A0.0', 'PREDICT_original_tf_GLCMMS_homogeneityd1.0A0.0mean', 'PREDICT_original_tf_GLCMMS_correlationd3.0A0.0mean', 'PREDICT_original_tf_Gabor_max_F0.05_A2.36', 'PREDICT_original_tf_LBP_quartile_range_R8_P24', 'PREDICT_original_tf_Gabor_peak_F0.5_A1.57', 'PREDICT_original_tf_Gabor_kurtosis_F0.05_A1.57', 'PREDICT_original_tf_LBP_std_R8_P24', 'PREDICT_original_tf_Gabor_kurtosis_F0.2_A1.57', 'PREDICT_original_tf_GLCMMS_energyd1.0A1.57std', 'PREDICT_original_tf_GLCMMS_correlationd1.0A2.36std', 'PREDICT_original_tf_Gabor_skewness_F0.05_A1.57', 'PREDICT_original_tf_GLCMMS_correlationd3.0A0.0std', 'PREDICT_original_logf_range_sigma10', 'PREDICT_original_tf_LBP_kurtosis_R8_P24', 'PREDICT_original_tf_Gabor_min_F0.05_A0.79', 'PREDICT_original_tf_Gabor_range_F0.2_A2.36', 'PREDICT_original_tf_Gabor_quartile_range_F0.05_A1.57', 'PREDICT_original_hf_range', 'PREDICT_original_phasef_monogenic_kurtosis_WL3_N5', 'PREDICT_original_tf_GLCM_correlationd3.0A2.36', 'PREDICT_original_tf_Gabor_range_F0.05_A2.36', 'PREDICT_original_tf_Gabor_quartile_range_F0.5_A2.36', 'PREDICT_original_tf_Gabor_min_F0.2_A2.36', 'PREDICT_original_tf_GLCM_dissimilarityd1.0A0.79', 'PREDICT_original_tf_GLCMMS_dissimilarityd1.0A0.0std', 'PREDICT_original_sf_solidity_std_2.5D', 'PREDICT_original_hf_std', 'PREDICT_original_tf_Gabor_median_F0.2_A2.36', 'PREDICT_original_sf_roughness_avg_2.5D', 'PREDICT_original_tf_Gabor_max_F0.2_A2.36', 'PREDICT_original_tf_GLCM_contrastd3.0A0.79', 'PREDICT_original_tf_GLCMMS_correlationd1.0A1.57mean', 'PREDICT_original_tf_GLCMMS_correlationd1.0A0.0std', 'PREDICT_original_tf_GLCMMS_contrastd1.0A1.57std', 'PREDICT_original_tf_Gabor_quartile_range_F0.5_A0.0', 'PREDICT_original_tf_GLCM_correlationd1.0A0.0', 'PREDICT_original_tf_Gabor_peak_F0.05_A2.36', 'PREDICT_original_tf_GLCMMS_ASMd1.0A1.57mean', 'PREDICT_original_tf_Gabor_skewness_F0.2_A0.79', 'PREDICT_original_phasef_phasecong_skewness_WL3_N5', 'PREDICT_original_tf_Gabor_median_F0.05_A1.57', 'PREDICT_original_tf_GLCMMS_ASMd1.0A1.57std', 'PREDICT_original_logf_min_sigma5', 'PREDICT_original_tf_GLCMMS_contrastd1.0A0.0std', 'PREDICT_original_tf_GLCM_contrastd1.0A0.79', 'PREDICT_original_tf_GLCMMS_correlationd1.0A0.0mean', 'PREDICT_original_tf_GLCMMS_dissimilarityd1.0A0.79std', 'PREDICT_original_tf_GLCM_dissimilarityd1.0A2.36', 'PREDICT_original_tf_Gabor_median_F0.05_A2.36', 'PREDICT_original_tf_GLCM_correlationd3.0A0.79', 'PREDICT_original_tf_Gabor_std_F0.05_A2.36', 'PREDICT_original_tf_GLCMMS_correlationd3.0A1.57mean', 'PREDICT_original_tf_GLCMMS_homogeneityd1.0A2.36mean', 'PREDICT_original_tf_GLCM_homogeneityd3.0A1.57', 'PREDICT_original_tf_Gabor_min_F0.2_A1.57', 'PREDICT_original_tf_LBP_std_R3_P12', 'PREDICT_original_tf_GLCM_dissimilarityd1.0A0.0', 'PREDICT_original_tf_GLCMMS_dissimilarityd1.0A0.0mean', 'PREDICT_original_tf_LBP_mean_R3_P12', 'PREDICT_original_tf_GLCMMS_energyd1.0A0.0std', 'PREDICT_original_logf_max_sigma1', 'PREDICT_original_vf_Frangi_full_quartile_range_SR(1.0, 10.0)_SS2.0', 'PREDICT_original_vf_Frangi_edge_quartile_range_SR(1.0, 10.0)_SS2.0', 'PREDICT_original_logf_range_sigma1', 'PREDICT_original_tf_GLCM_correlationd1.0A0.79', 'PREDICT_original_tf_GLCMMS_dissimilarityd1.0A2.36std', 'PREDICT_original_tf_Gabor_median_F0.5_A1.57', 'PREDICT_original_logf_mean_sigma10', 'PREDICT_original_logf_min_sigma1', 'PREDICT_original_tf_Gabor_peak_position_F0.5_A2.36', 'PREDICT_original_hf_energy', 'PREDICT_original_sf_solidity_avg_2.5D', 'PREDICT_original_tf_GLCMMS_energyd1.0A0.0mean', 'PREDICT_original_logf_peak_position_sigma10', 'PREDICT_original_phasef_phasecong_kurtosis_WL3_N5', 'PREDICT_original_tf_GLCM_dissimilarityd3.0A2.36', 'PREDICT_original_tf_GLCM_homogeneityd1.0A1.57', 'PREDICT_original_tf_GLCMMS_homogeneityd1.0A0.79mean', 'PREDICT_original_vf_Frangi_inner_range_SR(1.0, 10.0)_SS2.0', 'PREDICT_original_vf_Frangi_inner_max_SR(1.0, 10.0)_SS2.0', 'PREDICT_original_sf_evar_avg_2.5D', 'PREDICT_original_logf_max_sigma5', 'PREDICT_original_tf_GLCM_contrastd1.0A0.0', 'PREDICT_original_tf_GLCMMS_contrastd1.0A0.0mean', 'PREDICT_original_tf_Gabor_min_F0.05_A0.0', 'PREDICT_original_tf_Gabor_peak_position_F0.2_A2.36', 'PREDICT_original_tf_GLCMMS_homogeneityd1.0A2.36std', 'PREDICT_original_tf_GLCMMS_ASMd1.0A0.0std', 'PREDICT_original_tf_Gabor_max_F0.2_A1.57', 'PREDICT_original_tf_Gabor_quartile_range_F0.2_A1.57', 'PREDICT_original_vf_Frangi_inner_energy_SR(1.0, 10.0)_SS2.0', 'PREDICT_original_tf_Gabor_min_F0.05_A2.36', 'PREDICT_original_tf_LBP_skewness_R3_P12', 'PREDICT_original_logf_range_sigma5', 'PREDICT_original_logf_peak_sigma5', 'PREDICT_original_tf_GLCMMS_energyd1.0A2.36std', 'PREDICT_original_tf_GLCM_homogeneityd3.0A2.36', 'PREDICT_original_logf_peak_position_sigma5', 'PREDICT_original_vf_Frangi_inner_std_SR(1.0, 10.0)_SS2.0', 'PREDICT_original_tf_LBP_median_R3_P12', 'PREDICT_original_tf_Gabor_quartile_range_F0.05_A2.36', 'PREDICT_original_tf_GLCMMS_ASMd1.0A2.36mean', 'PREDICT_original_tf_GLCMMS_ASMd1.0A0.0mean', 'PREDICT_original_tf_GLCMMS_energyd1.0A0.79std', 'PREDICT_original_tf_GLCM_homogeneityd1.0A2.36', 'PREDICT_original_tf_GLCMMS_homogeneityd1.0A0.79std', 'PREDICT_original_tf_Gabor_std_F0.2_A1.57', 'PREDICT_original_tf_GLCMMS_energyd1.0A2.36mean', 'PREDICT_original_logf_median_sigma5', 'PREDICT_original_tf_Gabor_peak_F0.2_A2.36', 'PREDICT_original_logf_skewness_sigma1', 'PREDICT_original_tf_GLCMMS_correlationd1.0A1.57std', 'PREDICT_original_phasef_monogenic_quartile_range_WL3_N5', 'PREDICT_original_sf_rad_dist_std_2.5D', 'PREDICT_original_tf_GLCMMS_ASMd1.0A0.79mean', 'PREDICT_original_tf_GLCMMS_correlationd3.0A1.57std', 'PREDICT_original_vf_Frangi_edge_mean_SR(1.0, 10.0)_SS2.0', 'PREDICT_original_vf_Frangi_full_mean_SR(1.0, 10.0)_SS2.0', 'PREDICT_original_phasef_phasecong_quartile_range_WL3_N5', 'PREDICT_original_logf_std_sigma1', 'PREDICT_original_vf_Frangi_full_std_SR(1.0, 10.0)_SS2.0', 'PREDICT_original_vf_Frangi_edge_std_SR(1.0, 10.0)_SS2.0', 'PREDICT_original_tf_Gabor_range_F0.2_A1.57', 'PREDICT_original_logf_min_sigma10', 'PREDICT_original_sf_roughness_std_2.5D', 'PREDICT_original_tf_GLCMMS_ASMd1.0A0.79std', 'PREDICT_original_tf_GLCMMS_energyd1.0A0.79mean', 'PREDICT_original_logf_std_sigma5', 'PREDICT_original_tf_GLCMMS_ASMd1.0A2.36std', 'PREDICT_original_tf_LBP_peak_R3_P12', 'PREDICT_original_tf_LBP_peak_position_R3_P12', 'PREDICT_original_tf_LBP_median_R8_P24', 'PREDICT_original_tf_LBP_range_R8_P24', 'PREDICT_original_tf_LBP_median_R15_P36', 'PREDICT_original_tf_LBP_peak_R15_P36']\n",
            "462\n",
            "Empty DataFrame\n",
            "Columns: []\n",
            "Index: [0, 1, 2, 3, 4, 5, 6, 7, 8, 9, 10, 11, 12, 13, 14, 15, 16, 17, 18, 19, 20, 21, 22, 23, 24, 25, 26, 27, 28, 29, 30, 31, 32, 33, 34, 35, 36, 37, 38, 39, 40, 41, 42, 43, 44, 45, 46, 47, 48, 49, 50, 51, 52, 53, 54, 55, 56, 57, 58, 59, 60, 61, 62, 63, 64, 65, 66, 67, 68, 69, 70, 71, 72, 73, 74, 75, 76, 77, 78, 79, 80, 81, 82, 83, 84, 85]\n",
            "\n",
            "[86 rows x 0 columns]\n"
          ]
        },
        {
          "output_type": "stream",
          "name": "stderr",
          "text": [
            "/usr/local/lib/python3.9/dist-packages/sklearn/feature_selection/_univariate_selection.py:112: UserWarning: Features [ 81  82  87  91  96 100] are constant.\n",
            "  warnings.warn(\"Features %s are constant.\" % constant_features_idx, UserWarning)\n",
            "/usr/local/lib/python3.9/dist-packages/sklearn/feature_selection/_univariate_selection.py:113: RuntimeWarning: invalid value encountered in true_divide\n",
            "  f = msb / msw\n"
          ]
        }
      ]
    },
    {
      "cell_type": "markdown",
      "source": [
        "## PCA"
      ],
      "metadata": {
        "id": "xOOLNJnlfLbj"
      }
    },
    {
      "cell_type": "code",
      "source": [
        "pca = decomposition.PCA()\n",
        "pca.fit(X_train_scaled_df)\n",
        "X_pca = pca.transform(X_train_scaled_df)\n",
        "\n",
        "component=0\n",
        "total_ratio = 0\n",
        "while total_ratio < 0.95:\n",
        "    total_ratio += pca.explained_variance_ratio_[component]\n",
        "    component+=1\n",
        "\n",
        "component2=0\n",
        "while pca.explained_variance_ratio_[component2] > 0.001:\n",
        "    component2+=1\n",
        "\n",
        "print(component)\n",
        "print(component2)\n",
        "X_pca = X_pca[:,0:component]"
      ],
      "metadata": {
        "id": "dU9UMzbtfNTE",
        "colab": {
          "base_uri": "https://localhost:8080/"
        },
        "outputId": "009bf425-c95b-496d-8fb8-17647f614607"
      },
      "execution_count": 315,
      "outputs": [
        {
          "output_type": "stream",
          "name": "stdout",
          "text": [
            "40\n",
            "62\n"
          ]
        }
      ]
    },
    {
      "cell_type": "markdown",
      "source": [
        "## Initiatie classifiers"
      ],
      "metadata": {
        "id": "HxaOPXkpeOE9"
      }
    },
    {
      "cell_type": "code",
      "source": [
        "clsfs = list()\n",
        "scoring = make_scorer(custom_score)"
      ],
      "metadata": {
        "id": "tuwH6BJ7eNf2"
      },
      "execution_count": 316,
      "outputs": []
    },
    {
      "cell_type": "markdown",
      "source": [
        "## Linear Classification"
      ],
      "metadata": {
        "id": "i0cKvUmo2Uzj"
      }
    },
    {
      "cell_type": "code",
      "source": [
        "# Extract the best hyperparameters and fit\n",
        "LDA_classifier = LinearDiscriminantAnalysis()\n",
        "LDA_classifier.fit(X_pca, y_train)\n",
        "clsfs.append(LDA_classifier)"
      ],
      "metadata": {
        "id": "rjbhcmWJcG0L"
      },
      "execution_count": 317,
      "outputs": []
    },
    {
      "cell_type": "markdown",
      "source": [
        "## Quadratic Discriminant Analysis"
      ],
      "metadata": {
        "id": "5pFcjNm_2ww9"
      }
    },
    {
      "cell_type": "code",
      "source": [
        "# set parameters\n",
        "parameters = {'reg_param': np.arange(0, 1, 0.1)}\n",
        "\n",
        "# Specify the cross validation method to use, we use 10-fold stratified cross-validation\n",
        "cv_10fold = model_selection.StratifiedKFold(n_splits=10)\n",
        "\n",
        "# Create QDA object\n",
        "qda = model_selection.RandomizedSearchCV(QuadraticDiscriminantAnalysis(), parameters, n_iter=11,\n",
        "                                   cv=cv_10fold, scoring=scoring)\n",
        "\n",
        "# Do the search\n",
        "qda.fit(X_pca, y_train)\n",
        "\n",
        "# Show the complete results of the cross validation\n",
        "qda_df = pd.DataFrame(qda.cv_results_)\n",
        "display(qda_df)\n",
        "\n",
        "# Extract the best hyperparameters and fit\n",
        "QDA_classifier = qda.best_estimator_\n",
        "QDA_classifier.fit(X_pca, y_train)\n",
        "clsfs.append(QDA_classifier)\n",
        "\n",
        "# Whole search\n",
        "# y_pred  = qda.predict(X_pca)\n",
        "\n"
      ],
      "metadata": {
        "id": "K9MLj58j2zkJ",
        "outputId": "60a88dd6-c163-4ae5-e230-2d8fc37113ef",
        "colab": {
          "base_uri": "https://localhost:8080/",
          "height": 1000
        }
      },
      "execution_count": 318,
      "outputs": [
        {
          "output_type": "stream",
          "name": "stderr",
          "text": [
            "/usr/local/lib/python3.9/dist-packages/sklearn/model_selection/_search.py:305: UserWarning: The total space of parameters 10 is smaller than n_iter=11. Running 10 iterations. For exhaustive searches, use GridSearchCV.\n",
            "  warnings.warn(\n",
            "/usr/local/lib/python3.9/dist-packages/sklearn/discriminant_analysis.py:926: UserWarning: Variables are collinear\n",
            "  warnings.warn(\"Variables are collinear\")\n",
            "/usr/local/lib/python3.9/dist-packages/sklearn/discriminant_analysis.py:926: UserWarning: Variables are collinear\n",
            "  warnings.warn(\"Variables are collinear\")\n",
            "/usr/local/lib/python3.9/dist-packages/sklearn/discriminant_analysis.py:926: UserWarning: Variables are collinear\n",
            "  warnings.warn(\"Variables are collinear\")\n",
            "/usr/local/lib/python3.9/dist-packages/sklearn/discriminant_analysis.py:926: UserWarning: Variables are collinear\n",
            "  warnings.warn(\"Variables are collinear\")\n",
            "/usr/local/lib/python3.9/dist-packages/sklearn/discriminant_analysis.py:926: UserWarning: Variables are collinear\n",
            "  warnings.warn(\"Variables are collinear\")\n",
            "/usr/local/lib/python3.9/dist-packages/sklearn/discriminant_analysis.py:926: UserWarning: Variables are collinear\n",
            "  warnings.warn(\"Variables are collinear\")\n",
            "/usr/local/lib/python3.9/dist-packages/sklearn/discriminant_analysis.py:926: UserWarning: Variables are collinear\n",
            "  warnings.warn(\"Variables are collinear\")\n",
            "/usr/local/lib/python3.9/dist-packages/sklearn/discriminant_analysis.py:926: UserWarning: Variables are collinear\n",
            "  warnings.warn(\"Variables are collinear\")\n",
            "/usr/local/lib/python3.9/dist-packages/sklearn/discriminant_analysis.py:926: UserWarning: Variables are collinear\n",
            "  warnings.warn(\"Variables are collinear\")\n",
            "/usr/local/lib/python3.9/dist-packages/sklearn/discriminant_analysis.py:926: UserWarning: Variables are collinear\n",
            "  warnings.warn(\"Variables are collinear\")\n",
            "/usr/local/lib/python3.9/dist-packages/sklearn/discriminant_analysis.py:926: UserWarning: Variables are collinear\n",
            "  warnings.warn(\"Variables are collinear\")\n",
            "/usr/local/lib/python3.9/dist-packages/sklearn/discriminant_analysis.py:926: UserWarning: Variables are collinear\n",
            "  warnings.warn(\"Variables are collinear\")\n",
            "/usr/local/lib/python3.9/dist-packages/sklearn/discriminant_analysis.py:926: UserWarning: Variables are collinear\n",
            "  warnings.warn(\"Variables are collinear\")\n",
            "/usr/local/lib/python3.9/dist-packages/sklearn/discriminant_analysis.py:926: UserWarning: Variables are collinear\n",
            "  warnings.warn(\"Variables are collinear\")\n",
            "/usr/local/lib/python3.9/dist-packages/sklearn/discriminant_analysis.py:926: UserWarning: Variables are collinear\n",
            "  warnings.warn(\"Variables are collinear\")\n",
            "/usr/local/lib/python3.9/dist-packages/sklearn/discriminant_analysis.py:926: UserWarning: Variables are collinear\n",
            "  warnings.warn(\"Variables are collinear\")\n",
            "/usr/local/lib/python3.9/dist-packages/sklearn/discriminant_analysis.py:926: UserWarning: Variables are collinear\n",
            "  warnings.warn(\"Variables are collinear\")\n",
            "/usr/local/lib/python3.9/dist-packages/sklearn/discriminant_analysis.py:926: UserWarning: Variables are collinear\n",
            "  warnings.warn(\"Variables are collinear\")\n",
            "/usr/local/lib/python3.9/dist-packages/sklearn/discriminant_analysis.py:926: UserWarning: Variables are collinear\n",
            "  warnings.warn(\"Variables are collinear\")\n",
            "/usr/local/lib/python3.9/dist-packages/sklearn/discriminant_analysis.py:926: UserWarning: Variables are collinear\n",
            "  warnings.warn(\"Variables are collinear\")\n",
            "/usr/local/lib/python3.9/dist-packages/sklearn/discriminant_analysis.py:926: UserWarning: Variables are collinear\n",
            "  warnings.warn(\"Variables are collinear\")\n",
            "/usr/local/lib/python3.9/dist-packages/sklearn/discriminant_analysis.py:926: UserWarning: Variables are collinear\n",
            "  warnings.warn(\"Variables are collinear\")\n",
            "/usr/local/lib/python3.9/dist-packages/sklearn/discriminant_analysis.py:926: UserWarning: Variables are collinear\n",
            "  warnings.warn(\"Variables are collinear\")\n",
            "/usr/local/lib/python3.9/dist-packages/sklearn/discriminant_analysis.py:926: UserWarning: Variables are collinear\n",
            "  warnings.warn(\"Variables are collinear\")\n",
            "/usr/local/lib/python3.9/dist-packages/sklearn/discriminant_analysis.py:926: UserWarning: Variables are collinear\n",
            "  warnings.warn(\"Variables are collinear\")\n",
            "/usr/local/lib/python3.9/dist-packages/sklearn/discriminant_analysis.py:926: UserWarning: Variables are collinear\n",
            "  warnings.warn(\"Variables are collinear\")\n",
            "/usr/local/lib/python3.9/dist-packages/sklearn/discriminant_analysis.py:926: UserWarning: Variables are collinear\n",
            "  warnings.warn(\"Variables are collinear\")\n",
            "/usr/local/lib/python3.9/dist-packages/sklearn/discriminant_analysis.py:926: UserWarning: Variables are collinear\n",
            "  warnings.warn(\"Variables are collinear\")\n",
            "/usr/local/lib/python3.9/dist-packages/sklearn/discriminant_analysis.py:926: UserWarning: Variables are collinear\n",
            "  warnings.warn(\"Variables are collinear\")\n",
            "/usr/local/lib/python3.9/dist-packages/sklearn/discriminant_analysis.py:926: UserWarning: Variables are collinear\n",
            "  warnings.warn(\"Variables are collinear\")\n",
            "/usr/local/lib/python3.9/dist-packages/sklearn/discriminant_analysis.py:926: UserWarning: Variables are collinear\n",
            "  warnings.warn(\"Variables are collinear\")\n",
            "/usr/local/lib/python3.9/dist-packages/sklearn/discriminant_analysis.py:926: UserWarning: Variables are collinear\n",
            "  warnings.warn(\"Variables are collinear\")\n",
            "/usr/local/lib/python3.9/dist-packages/sklearn/discriminant_analysis.py:926: UserWarning: Variables are collinear\n",
            "  warnings.warn(\"Variables are collinear\")\n",
            "/usr/local/lib/python3.9/dist-packages/sklearn/discriminant_analysis.py:926: UserWarning: Variables are collinear\n",
            "  warnings.warn(\"Variables are collinear\")\n",
            "/usr/local/lib/python3.9/dist-packages/sklearn/discriminant_analysis.py:926: UserWarning: Variables are collinear\n",
            "  warnings.warn(\"Variables are collinear\")\n",
            "/usr/local/lib/python3.9/dist-packages/sklearn/discriminant_analysis.py:926: UserWarning: Variables are collinear\n",
            "  warnings.warn(\"Variables are collinear\")\n",
            "/usr/local/lib/python3.9/dist-packages/sklearn/discriminant_analysis.py:926: UserWarning: Variables are collinear\n",
            "  warnings.warn(\"Variables are collinear\")\n",
            "/usr/local/lib/python3.9/dist-packages/sklearn/discriminant_analysis.py:926: UserWarning: Variables are collinear\n",
            "  warnings.warn(\"Variables are collinear\")\n",
            "/usr/local/lib/python3.9/dist-packages/sklearn/discriminant_analysis.py:926: UserWarning: Variables are collinear\n",
            "  warnings.warn(\"Variables are collinear\")\n",
            "/usr/local/lib/python3.9/dist-packages/sklearn/discriminant_analysis.py:926: UserWarning: Variables are collinear\n",
            "  warnings.warn(\"Variables are collinear\")\n",
            "/usr/local/lib/python3.9/dist-packages/sklearn/discriminant_analysis.py:926: UserWarning: Variables are collinear\n",
            "  warnings.warn(\"Variables are collinear\")\n",
            "/usr/local/lib/python3.9/dist-packages/sklearn/discriminant_analysis.py:926: UserWarning: Variables are collinear\n",
            "  warnings.warn(\"Variables are collinear\")\n",
            "/usr/local/lib/python3.9/dist-packages/sklearn/discriminant_analysis.py:926: UserWarning: Variables are collinear\n",
            "  warnings.warn(\"Variables are collinear\")\n",
            "/usr/local/lib/python3.9/dist-packages/sklearn/discriminant_analysis.py:926: UserWarning: Variables are collinear\n",
            "  warnings.warn(\"Variables are collinear\")\n",
            "/usr/local/lib/python3.9/dist-packages/sklearn/discriminant_analysis.py:926: UserWarning: Variables are collinear\n",
            "  warnings.warn(\"Variables are collinear\")\n",
            "/usr/local/lib/python3.9/dist-packages/sklearn/discriminant_analysis.py:926: UserWarning: Variables are collinear\n",
            "  warnings.warn(\"Variables are collinear\")\n",
            "/usr/local/lib/python3.9/dist-packages/sklearn/discriminant_analysis.py:926: UserWarning: Variables are collinear\n",
            "  warnings.warn(\"Variables are collinear\")\n",
            "/usr/local/lib/python3.9/dist-packages/sklearn/discriminant_analysis.py:926: UserWarning: Variables are collinear\n",
            "  warnings.warn(\"Variables are collinear\")\n",
            "/usr/local/lib/python3.9/dist-packages/sklearn/discriminant_analysis.py:926: UserWarning: Variables are collinear\n",
            "  warnings.warn(\"Variables are collinear\")\n",
            "/usr/local/lib/python3.9/dist-packages/sklearn/discriminant_analysis.py:926: UserWarning: Variables are collinear\n",
            "  warnings.warn(\"Variables are collinear\")\n",
            "/usr/local/lib/python3.9/dist-packages/sklearn/discriminant_analysis.py:926: UserWarning: Variables are collinear\n",
            "  warnings.warn(\"Variables are collinear\")\n",
            "/usr/local/lib/python3.9/dist-packages/sklearn/discriminant_analysis.py:926: UserWarning: Variables are collinear\n",
            "  warnings.warn(\"Variables are collinear\")\n",
            "/usr/local/lib/python3.9/dist-packages/sklearn/discriminant_analysis.py:926: UserWarning: Variables are collinear\n",
            "  warnings.warn(\"Variables are collinear\")\n",
            "/usr/local/lib/python3.9/dist-packages/sklearn/discriminant_analysis.py:926: UserWarning: Variables are collinear\n",
            "  warnings.warn(\"Variables are collinear\")\n",
            "/usr/local/lib/python3.9/dist-packages/sklearn/discriminant_analysis.py:926: UserWarning: Variables are collinear\n",
            "  warnings.warn(\"Variables are collinear\")\n",
            "/usr/local/lib/python3.9/dist-packages/sklearn/discriminant_analysis.py:926: UserWarning: Variables are collinear\n",
            "  warnings.warn(\"Variables are collinear\")\n",
            "/usr/local/lib/python3.9/dist-packages/sklearn/discriminant_analysis.py:926: UserWarning: Variables are collinear\n",
            "  warnings.warn(\"Variables are collinear\")\n",
            "/usr/local/lib/python3.9/dist-packages/sklearn/discriminant_analysis.py:926: UserWarning: Variables are collinear\n",
            "  warnings.warn(\"Variables are collinear\")\n",
            "/usr/local/lib/python3.9/dist-packages/sklearn/discriminant_analysis.py:926: UserWarning: Variables are collinear\n",
            "  warnings.warn(\"Variables are collinear\")\n",
            "/usr/local/lib/python3.9/dist-packages/sklearn/discriminant_analysis.py:926: UserWarning: Variables are collinear\n",
            "  warnings.warn(\"Variables are collinear\")\n",
            "/usr/local/lib/python3.9/dist-packages/sklearn/discriminant_analysis.py:926: UserWarning: Variables are collinear\n",
            "  warnings.warn(\"Variables are collinear\")\n",
            "/usr/local/lib/python3.9/dist-packages/sklearn/discriminant_analysis.py:926: UserWarning: Variables are collinear\n",
            "  warnings.warn(\"Variables are collinear\")\n",
            "/usr/local/lib/python3.9/dist-packages/sklearn/discriminant_analysis.py:926: UserWarning: Variables are collinear\n",
            "  warnings.warn(\"Variables are collinear\")\n",
            "/usr/local/lib/python3.9/dist-packages/sklearn/discriminant_analysis.py:926: UserWarning: Variables are collinear\n",
            "  warnings.warn(\"Variables are collinear\")\n",
            "/usr/local/lib/python3.9/dist-packages/sklearn/discriminant_analysis.py:926: UserWarning: Variables are collinear\n",
            "  warnings.warn(\"Variables are collinear\")\n",
            "/usr/local/lib/python3.9/dist-packages/sklearn/discriminant_analysis.py:926: UserWarning: Variables are collinear\n",
            "  warnings.warn(\"Variables are collinear\")\n",
            "/usr/local/lib/python3.9/dist-packages/sklearn/discriminant_analysis.py:926: UserWarning: Variables are collinear\n",
            "  warnings.warn(\"Variables are collinear\")\n",
            "/usr/local/lib/python3.9/dist-packages/sklearn/discriminant_analysis.py:926: UserWarning: Variables are collinear\n",
            "  warnings.warn(\"Variables are collinear\")\n",
            "/usr/local/lib/python3.9/dist-packages/sklearn/discriminant_analysis.py:926: UserWarning: Variables are collinear\n",
            "  warnings.warn(\"Variables are collinear\")\n",
            "/usr/local/lib/python3.9/dist-packages/sklearn/discriminant_analysis.py:926: UserWarning: Variables are collinear\n",
            "  warnings.warn(\"Variables are collinear\")\n",
            "/usr/local/lib/python3.9/dist-packages/sklearn/discriminant_analysis.py:926: UserWarning: Variables are collinear\n",
            "  warnings.warn(\"Variables are collinear\")\n",
            "/usr/local/lib/python3.9/dist-packages/sklearn/discriminant_analysis.py:926: UserWarning: Variables are collinear\n",
            "  warnings.warn(\"Variables are collinear\")\n",
            "/usr/local/lib/python3.9/dist-packages/sklearn/discriminant_analysis.py:926: UserWarning: Variables are collinear\n",
            "  warnings.warn(\"Variables are collinear\")\n",
            "/usr/local/lib/python3.9/dist-packages/sklearn/discriminant_analysis.py:926: UserWarning: Variables are collinear\n",
            "  warnings.warn(\"Variables are collinear\")\n",
            "/usr/local/lib/python3.9/dist-packages/sklearn/discriminant_analysis.py:926: UserWarning: Variables are collinear\n",
            "  warnings.warn(\"Variables are collinear\")\n",
            "/usr/local/lib/python3.9/dist-packages/sklearn/discriminant_analysis.py:926: UserWarning: Variables are collinear\n",
            "  warnings.warn(\"Variables are collinear\")\n",
            "/usr/local/lib/python3.9/dist-packages/sklearn/discriminant_analysis.py:926: UserWarning: Variables are collinear\n",
            "  warnings.warn(\"Variables are collinear\")\n",
            "/usr/local/lib/python3.9/dist-packages/sklearn/discriminant_analysis.py:926: UserWarning: Variables are collinear\n",
            "  warnings.warn(\"Variables are collinear\")\n",
            "/usr/local/lib/python3.9/dist-packages/sklearn/discriminant_analysis.py:926: UserWarning: Variables are collinear\n",
            "  warnings.warn(\"Variables are collinear\")\n",
            "/usr/local/lib/python3.9/dist-packages/sklearn/discriminant_analysis.py:926: UserWarning: Variables are collinear\n",
            "  warnings.warn(\"Variables are collinear\")\n",
            "/usr/local/lib/python3.9/dist-packages/sklearn/discriminant_analysis.py:926: UserWarning: Variables are collinear\n",
            "  warnings.warn(\"Variables are collinear\")\n",
            "/usr/local/lib/python3.9/dist-packages/sklearn/discriminant_analysis.py:926: UserWarning: Variables are collinear\n",
            "  warnings.warn(\"Variables are collinear\")\n",
            "/usr/local/lib/python3.9/dist-packages/sklearn/discriminant_analysis.py:926: UserWarning: Variables are collinear\n",
            "  warnings.warn(\"Variables are collinear\")\n",
            "/usr/local/lib/python3.9/dist-packages/sklearn/discriminant_analysis.py:926: UserWarning: Variables are collinear\n",
            "  warnings.warn(\"Variables are collinear\")\n",
            "/usr/local/lib/python3.9/dist-packages/sklearn/discriminant_analysis.py:926: UserWarning: Variables are collinear\n",
            "  warnings.warn(\"Variables are collinear\")\n",
            "/usr/local/lib/python3.9/dist-packages/sklearn/discriminant_analysis.py:926: UserWarning: Variables are collinear\n",
            "  warnings.warn(\"Variables are collinear\")\n",
            "/usr/local/lib/python3.9/dist-packages/sklearn/discriminant_analysis.py:926: UserWarning: Variables are collinear\n",
            "  warnings.warn(\"Variables are collinear\")\n",
            "/usr/local/lib/python3.9/dist-packages/sklearn/discriminant_analysis.py:926: UserWarning: Variables are collinear\n",
            "  warnings.warn(\"Variables are collinear\")\n",
            "/usr/local/lib/python3.9/dist-packages/sklearn/discriminant_analysis.py:926: UserWarning: Variables are collinear\n",
            "  warnings.warn(\"Variables are collinear\")\n",
            "/usr/local/lib/python3.9/dist-packages/sklearn/discriminant_analysis.py:926: UserWarning: Variables are collinear\n",
            "  warnings.warn(\"Variables are collinear\")\n",
            "/usr/local/lib/python3.9/dist-packages/sklearn/discriminant_analysis.py:926: UserWarning: Variables are collinear\n",
            "  warnings.warn(\"Variables are collinear\")\n",
            "/usr/local/lib/python3.9/dist-packages/sklearn/discriminant_analysis.py:926: UserWarning: Variables are collinear\n",
            "  warnings.warn(\"Variables are collinear\")\n",
            "/usr/local/lib/python3.9/dist-packages/sklearn/discriminant_analysis.py:926: UserWarning: Variables are collinear\n",
            "  warnings.warn(\"Variables are collinear\")\n",
            "/usr/local/lib/python3.9/dist-packages/sklearn/discriminant_analysis.py:926: UserWarning: Variables are collinear\n",
            "  warnings.warn(\"Variables are collinear\")\n",
            "/usr/local/lib/python3.9/dist-packages/sklearn/discriminant_analysis.py:926: UserWarning: Variables are collinear\n",
            "  warnings.warn(\"Variables are collinear\")\n",
            "/usr/local/lib/python3.9/dist-packages/sklearn/discriminant_analysis.py:926: UserWarning: Variables are collinear\n",
            "  warnings.warn(\"Variables are collinear\")\n",
            "/usr/local/lib/python3.9/dist-packages/sklearn/discriminant_analysis.py:926: UserWarning: Variables are collinear\n",
            "  warnings.warn(\"Variables are collinear\")\n",
            "/usr/local/lib/python3.9/dist-packages/sklearn/discriminant_analysis.py:926: UserWarning: Variables are collinear\n",
            "  warnings.warn(\"Variables are collinear\")\n",
            "/usr/local/lib/python3.9/dist-packages/sklearn/discriminant_analysis.py:926: UserWarning: Variables are collinear\n",
            "  warnings.warn(\"Variables are collinear\")\n",
            "/usr/local/lib/python3.9/dist-packages/sklearn/discriminant_analysis.py:926: UserWarning: Variables are collinear\n",
            "  warnings.warn(\"Variables are collinear\")\n"
          ]
        },
        {
          "output_type": "display_data",
          "data": {
            "text/plain": [
              "   mean_fit_time  std_fit_time  mean_score_time  std_score_time  \\\n",
              "0       0.006279      0.003601         0.004471        0.002763   \n",
              "1       0.003916      0.001269         0.003362        0.001140   \n",
              "2       0.003061      0.000811         0.003922        0.002649   \n",
              "3       0.003478      0.001294         0.003334        0.001735   \n",
              "4       0.002856      0.000571         0.002302        0.000419   \n",
              "5       0.002814      0.000567         0.003097        0.001722   \n",
              "6       0.004053      0.003095         0.002487        0.000573   \n",
              "7       0.003920      0.001110         0.003903        0.002553   \n",
              "8       0.003774      0.001282         0.002688        0.000548   \n",
              "9       0.004387      0.002239         0.003475        0.001472   \n",
              "\n",
              "  param_reg_param                              params  split0_test_score  \\\n",
              "0             0.0                  {'reg_param': 0.0}           0.447205   \n",
              "1             0.1                  {'reg_param': 0.1}           0.539846   \n",
              "2             0.2                  {'reg_param': 0.2}           0.539846   \n",
              "3             0.3  {'reg_param': 0.30000000000000004}           0.658228   \n",
              "4             0.4                  {'reg_param': 0.4}           0.658228   \n",
              "5             0.5                  {'reg_param': 0.5}           0.776386   \n",
              "6             0.6   {'reg_param': 0.6000000000000001}           0.776386   \n",
              "7             0.7   {'reg_param': 0.7000000000000001}           0.776386   \n",
              "8             0.8                  {'reg_param': 0.8}           0.881890   \n",
              "9             0.9                  {'reg_param': 0.9}           0.776386   \n",
              "\n",
              "   split1_test_score  split2_test_score  split3_test_score  split4_test_score  \\\n",
              "0           0.447205           0.447205           0.447205           0.658228   \n",
              "1           0.658228           0.539846           0.682927           0.658228   \n",
              "2           0.658228           0.539846           0.682927           0.658228   \n",
              "3           0.658228           0.539846           0.894410           0.552764   \n",
              "4           0.658228           0.539846           0.776386           0.670807   \n",
              "5           0.658228           0.421053           0.776386           0.565111   \n",
              "6           0.552764           0.658228           0.776386           0.565111   \n",
              "7           0.658228           0.763636           0.776386           0.565111   \n",
              "8           0.552764           0.763636           0.776386           0.670807   \n",
              "9           0.447205           0.539846           0.776386           0.552764   \n",
              "\n",
              "   split5_test_score  split6_test_score  split7_test_score  split8_test_score  \\\n",
              "0           0.341463              0.625              0.625              0.500   \n",
              "1           0.670807              0.750              0.375              0.500   \n",
              "2           0.670807              0.750              0.375              0.500   \n",
              "3           0.670807              0.750              0.375              0.500   \n",
              "4           0.670807              0.750              0.500              0.500   \n",
              "5           0.776386              0.750              0.500              0.500   \n",
              "6           0.776386              0.750              0.500              0.500   \n",
              "7           0.776386              0.875              0.500              0.500   \n",
              "8           0.670807              0.750              0.500              0.375   \n",
              "9           0.670807              0.750              0.500              0.500   \n",
              "\n",
              "   split9_test_score  mean_test_score  std_test_score  rank_test_score  \n",
              "0              0.625         0.516351        0.102723               10  \n",
              "1              0.750         0.612488        0.114006                7  \n",
              "2              0.750         0.612488        0.114006                7  \n",
              "3              0.750         0.634928        0.140622                6  \n",
              "4              0.750         0.647430        0.096976                3  \n",
              "5              0.750         0.647355        0.131355                4  \n",
              "6              0.750         0.660526        0.113376                2  \n",
              "7              0.750         0.694113        0.124207                1  \n",
              "8              0.500         0.644129        0.149419                5  \n",
              "9              0.500         0.601339        0.122031                9  "
            ],
            "text/html": [
              "\n",
              "  <div id=\"df-21e60782-09d3-4722-83c0-ecbe3cf311a5\">\n",
              "    <div class=\"colab-df-container\">\n",
              "      <div>\n",
              "<style scoped>\n",
              "    .dataframe tbody tr th:only-of-type {\n",
              "        vertical-align: middle;\n",
              "    }\n",
              "\n",
              "    .dataframe tbody tr th {\n",
              "        vertical-align: top;\n",
              "    }\n",
              "\n",
              "    .dataframe thead th {\n",
              "        text-align: right;\n",
              "    }\n",
              "</style>\n",
              "<table border=\"1\" class=\"dataframe\">\n",
              "  <thead>\n",
              "    <tr style=\"text-align: right;\">\n",
              "      <th></th>\n",
              "      <th>mean_fit_time</th>\n",
              "      <th>std_fit_time</th>\n",
              "      <th>mean_score_time</th>\n",
              "      <th>std_score_time</th>\n",
              "      <th>param_reg_param</th>\n",
              "      <th>params</th>\n",
              "      <th>split0_test_score</th>\n",
              "      <th>split1_test_score</th>\n",
              "      <th>split2_test_score</th>\n",
              "      <th>split3_test_score</th>\n",
              "      <th>split4_test_score</th>\n",
              "      <th>split5_test_score</th>\n",
              "      <th>split6_test_score</th>\n",
              "      <th>split7_test_score</th>\n",
              "      <th>split8_test_score</th>\n",
              "      <th>split9_test_score</th>\n",
              "      <th>mean_test_score</th>\n",
              "      <th>std_test_score</th>\n",
              "      <th>rank_test_score</th>\n",
              "    </tr>\n",
              "  </thead>\n",
              "  <tbody>\n",
              "    <tr>\n",
              "      <th>0</th>\n",
              "      <td>0.006279</td>\n",
              "      <td>0.003601</td>\n",
              "      <td>0.004471</td>\n",
              "      <td>0.002763</td>\n",
              "      <td>0.0</td>\n",
              "      <td>{'reg_param': 0.0}</td>\n",
              "      <td>0.447205</td>\n",
              "      <td>0.447205</td>\n",
              "      <td>0.447205</td>\n",
              "      <td>0.447205</td>\n",
              "      <td>0.658228</td>\n",
              "      <td>0.341463</td>\n",
              "      <td>0.625</td>\n",
              "      <td>0.625</td>\n",
              "      <td>0.500</td>\n",
              "      <td>0.625</td>\n",
              "      <td>0.516351</td>\n",
              "      <td>0.102723</td>\n",
              "      <td>10</td>\n",
              "    </tr>\n",
              "    <tr>\n",
              "      <th>1</th>\n",
              "      <td>0.003916</td>\n",
              "      <td>0.001269</td>\n",
              "      <td>0.003362</td>\n",
              "      <td>0.001140</td>\n",
              "      <td>0.1</td>\n",
              "      <td>{'reg_param': 0.1}</td>\n",
              "      <td>0.539846</td>\n",
              "      <td>0.658228</td>\n",
              "      <td>0.539846</td>\n",
              "      <td>0.682927</td>\n",
              "      <td>0.658228</td>\n",
              "      <td>0.670807</td>\n",
              "      <td>0.750</td>\n",
              "      <td>0.375</td>\n",
              "      <td>0.500</td>\n",
              "      <td>0.750</td>\n",
              "      <td>0.612488</td>\n",
              "      <td>0.114006</td>\n",
              "      <td>7</td>\n",
              "    </tr>\n",
              "    <tr>\n",
              "      <th>2</th>\n",
              "      <td>0.003061</td>\n",
              "      <td>0.000811</td>\n",
              "      <td>0.003922</td>\n",
              "      <td>0.002649</td>\n",
              "      <td>0.2</td>\n",
              "      <td>{'reg_param': 0.2}</td>\n",
              "      <td>0.539846</td>\n",
              "      <td>0.658228</td>\n",
              "      <td>0.539846</td>\n",
              "      <td>0.682927</td>\n",
              "      <td>0.658228</td>\n",
              "      <td>0.670807</td>\n",
              "      <td>0.750</td>\n",
              "      <td>0.375</td>\n",
              "      <td>0.500</td>\n",
              "      <td>0.750</td>\n",
              "      <td>0.612488</td>\n",
              "      <td>0.114006</td>\n",
              "      <td>7</td>\n",
              "    </tr>\n",
              "    <tr>\n",
              "      <th>3</th>\n",
              "      <td>0.003478</td>\n",
              "      <td>0.001294</td>\n",
              "      <td>0.003334</td>\n",
              "      <td>0.001735</td>\n",
              "      <td>0.3</td>\n",
              "      <td>{'reg_param': 0.30000000000000004}</td>\n",
              "      <td>0.658228</td>\n",
              "      <td>0.658228</td>\n",
              "      <td>0.539846</td>\n",
              "      <td>0.894410</td>\n",
              "      <td>0.552764</td>\n",
              "      <td>0.670807</td>\n",
              "      <td>0.750</td>\n",
              "      <td>0.375</td>\n",
              "      <td>0.500</td>\n",
              "      <td>0.750</td>\n",
              "      <td>0.634928</td>\n",
              "      <td>0.140622</td>\n",
              "      <td>6</td>\n",
              "    </tr>\n",
              "    <tr>\n",
              "      <th>4</th>\n",
              "      <td>0.002856</td>\n",
              "      <td>0.000571</td>\n",
              "      <td>0.002302</td>\n",
              "      <td>0.000419</td>\n",
              "      <td>0.4</td>\n",
              "      <td>{'reg_param': 0.4}</td>\n",
              "      <td>0.658228</td>\n",
              "      <td>0.658228</td>\n",
              "      <td>0.539846</td>\n",
              "      <td>0.776386</td>\n",
              "      <td>0.670807</td>\n",
              "      <td>0.670807</td>\n",
              "      <td>0.750</td>\n",
              "      <td>0.500</td>\n",
              "      <td>0.500</td>\n",
              "      <td>0.750</td>\n",
              "      <td>0.647430</td>\n",
              "      <td>0.096976</td>\n",
              "      <td>3</td>\n",
              "    </tr>\n",
              "    <tr>\n",
              "      <th>5</th>\n",
              "      <td>0.002814</td>\n",
              "      <td>0.000567</td>\n",
              "      <td>0.003097</td>\n",
              "      <td>0.001722</td>\n",
              "      <td>0.5</td>\n",
              "      <td>{'reg_param': 0.5}</td>\n",
              "      <td>0.776386</td>\n",
              "      <td>0.658228</td>\n",
              "      <td>0.421053</td>\n",
              "      <td>0.776386</td>\n",
              "      <td>0.565111</td>\n",
              "      <td>0.776386</td>\n",
              "      <td>0.750</td>\n",
              "      <td>0.500</td>\n",
              "      <td>0.500</td>\n",
              "      <td>0.750</td>\n",
              "      <td>0.647355</td>\n",
              "      <td>0.131355</td>\n",
              "      <td>4</td>\n",
              "    </tr>\n",
              "    <tr>\n",
              "      <th>6</th>\n",
              "      <td>0.004053</td>\n",
              "      <td>0.003095</td>\n",
              "      <td>0.002487</td>\n",
              "      <td>0.000573</td>\n",
              "      <td>0.6</td>\n",
              "      <td>{'reg_param': 0.6000000000000001}</td>\n",
              "      <td>0.776386</td>\n",
              "      <td>0.552764</td>\n",
              "      <td>0.658228</td>\n",
              "      <td>0.776386</td>\n",
              "      <td>0.565111</td>\n",
              "      <td>0.776386</td>\n",
              "      <td>0.750</td>\n",
              "      <td>0.500</td>\n",
              "      <td>0.500</td>\n",
              "      <td>0.750</td>\n",
              "      <td>0.660526</td>\n",
              "      <td>0.113376</td>\n",
              "      <td>2</td>\n",
              "    </tr>\n",
              "    <tr>\n",
              "      <th>7</th>\n",
              "      <td>0.003920</td>\n",
              "      <td>0.001110</td>\n",
              "      <td>0.003903</td>\n",
              "      <td>0.002553</td>\n",
              "      <td>0.7</td>\n",
              "      <td>{'reg_param': 0.7000000000000001}</td>\n",
              "      <td>0.776386</td>\n",
              "      <td>0.658228</td>\n",
              "      <td>0.763636</td>\n",
              "      <td>0.776386</td>\n",
              "      <td>0.565111</td>\n",
              "      <td>0.776386</td>\n",
              "      <td>0.875</td>\n",
              "      <td>0.500</td>\n",
              "      <td>0.500</td>\n",
              "      <td>0.750</td>\n",
              "      <td>0.694113</td>\n",
              "      <td>0.124207</td>\n",
              "      <td>1</td>\n",
              "    </tr>\n",
              "    <tr>\n",
              "      <th>8</th>\n",
              "      <td>0.003774</td>\n",
              "      <td>0.001282</td>\n",
              "      <td>0.002688</td>\n",
              "      <td>0.000548</td>\n",
              "      <td>0.8</td>\n",
              "      <td>{'reg_param': 0.8}</td>\n",
              "      <td>0.881890</td>\n",
              "      <td>0.552764</td>\n",
              "      <td>0.763636</td>\n",
              "      <td>0.776386</td>\n",
              "      <td>0.670807</td>\n",
              "      <td>0.670807</td>\n",
              "      <td>0.750</td>\n",
              "      <td>0.500</td>\n",
              "      <td>0.375</td>\n",
              "      <td>0.500</td>\n",
              "      <td>0.644129</td>\n",
              "      <td>0.149419</td>\n",
              "      <td>5</td>\n",
              "    </tr>\n",
              "    <tr>\n",
              "      <th>9</th>\n",
              "      <td>0.004387</td>\n",
              "      <td>0.002239</td>\n",
              "      <td>0.003475</td>\n",
              "      <td>0.001472</td>\n",
              "      <td>0.9</td>\n",
              "      <td>{'reg_param': 0.9}</td>\n",
              "      <td>0.776386</td>\n",
              "      <td>0.447205</td>\n",
              "      <td>0.539846</td>\n",
              "      <td>0.776386</td>\n",
              "      <td>0.552764</td>\n",
              "      <td>0.670807</td>\n",
              "      <td>0.750</td>\n",
              "      <td>0.500</td>\n",
              "      <td>0.500</td>\n",
              "      <td>0.500</td>\n",
              "      <td>0.601339</td>\n",
              "      <td>0.122031</td>\n",
              "      <td>9</td>\n",
              "    </tr>\n",
              "  </tbody>\n",
              "</table>\n",
              "</div>\n",
              "      <button class=\"colab-df-convert\" onclick=\"convertToInteractive('df-21e60782-09d3-4722-83c0-ecbe3cf311a5')\"\n",
              "              title=\"Convert this dataframe to an interactive table.\"\n",
              "              style=\"display:none;\">\n",
              "        \n",
              "  <svg xmlns=\"http://www.w3.org/2000/svg\" height=\"24px\"viewBox=\"0 0 24 24\"\n",
              "       width=\"24px\">\n",
              "    <path d=\"M0 0h24v24H0V0z\" fill=\"none\"/>\n",
              "    <path d=\"M18.56 5.44l.94 2.06.94-2.06 2.06-.94-2.06-.94-.94-2.06-.94 2.06-2.06.94zm-11 1L8.5 8.5l.94-2.06 2.06-.94-2.06-.94L8.5 2.5l-.94 2.06-2.06.94zm10 10l.94 2.06.94-2.06 2.06-.94-2.06-.94-.94-2.06-.94 2.06-2.06.94z\"/><path d=\"M17.41 7.96l-1.37-1.37c-.4-.4-.92-.59-1.43-.59-.52 0-1.04.2-1.43.59L10.3 9.45l-7.72 7.72c-.78.78-.78 2.05 0 2.83L4 21.41c.39.39.9.59 1.41.59.51 0 1.02-.2 1.41-.59l7.78-7.78 2.81-2.81c.8-.78.8-2.07 0-2.86zM5.41 20L4 18.59l7.72-7.72 1.47 1.35L5.41 20z\"/>\n",
              "  </svg>\n",
              "      </button>\n",
              "      \n",
              "  <style>\n",
              "    .colab-df-container {\n",
              "      display:flex;\n",
              "      flex-wrap:wrap;\n",
              "      gap: 12px;\n",
              "    }\n",
              "\n",
              "    .colab-df-convert {\n",
              "      background-color: #E8F0FE;\n",
              "      border: none;\n",
              "      border-radius: 50%;\n",
              "      cursor: pointer;\n",
              "      display: none;\n",
              "      fill: #1967D2;\n",
              "      height: 32px;\n",
              "      padding: 0 0 0 0;\n",
              "      width: 32px;\n",
              "    }\n",
              "\n",
              "    .colab-df-convert:hover {\n",
              "      background-color: #E2EBFA;\n",
              "      box-shadow: 0px 1px 2px rgba(60, 64, 67, 0.3), 0px 1px 3px 1px rgba(60, 64, 67, 0.15);\n",
              "      fill: #174EA6;\n",
              "    }\n",
              "\n",
              "    [theme=dark] .colab-df-convert {\n",
              "      background-color: #3B4455;\n",
              "      fill: #D2E3FC;\n",
              "    }\n",
              "\n",
              "    [theme=dark] .colab-df-convert:hover {\n",
              "      background-color: #434B5C;\n",
              "      box-shadow: 0px 1px 3px 1px rgba(0, 0, 0, 0.15);\n",
              "      filter: drop-shadow(0px 1px 2px rgba(0, 0, 0, 0.3));\n",
              "      fill: #FFFFFF;\n",
              "    }\n",
              "  </style>\n",
              "\n",
              "      <script>\n",
              "        const buttonEl =\n",
              "          document.querySelector('#df-21e60782-09d3-4722-83c0-ecbe3cf311a5 button.colab-df-convert');\n",
              "        buttonEl.style.display =\n",
              "          google.colab.kernel.accessAllowed ? 'block' : 'none';\n",
              "\n",
              "        async function convertToInteractive(key) {\n",
              "          const element = document.querySelector('#df-21e60782-09d3-4722-83c0-ecbe3cf311a5');\n",
              "          const dataTable =\n",
              "            await google.colab.kernel.invokeFunction('convertToInteractive',\n",
              "                                                     [key], {});\n",
              "          if (!dataTable) return;\n",
              "\n",
              "          const docLinkHtml = 'Like what you see? Visit the ' +\n",
              "            '<a target=\"_blank\" href=https://colab.research.google.com/notebooks/data_table.ipynb>data table notebook</a>'\n",
              "            + ' to learn more about interactive tables.';\n",
              "          element.innerHTML = '';\n",
              "          dataTable['output_type'] = 'display_data';\n",
              "          await google.colab.output.renderOutput(dataTable, element);\n",
              "          const docLink = document.createElement('div');\n",
              "          docLink.innerHTML = docLinkHtml;\n",
              "          element.appendChild(docLink);\n",
              "        }\n",
              "      </script>\n",
              "    </div>\n",
              "  </div>\n",
              "  "
            ]
          },
          "metadata": {}
        }
      ]
    },
    {
      "cell_type": "markdown",
      "source": [
        "## k-NN"
      ],
      "metadata": {
        "id": "xdjw0bA9zOle"
      }
    },
    {
      "cell_type": "code",
      "source": [
        "from sklearn import neighbors\n",
        "# Specify the search range, this could be multiple parameters for more complex classifiers\n",
        "parameters = {'n_neighbors': randint(1, 6),\n",
        "              'weights': ['uniform', 'distance'],\n",
        "              'p': randint(1, 5),\n",
        "              'algorithm': ['auto', 'ball_tree', 'kd_tree', 'brute']}\n",
        "\n",
        "# Specify the cross validation method to use, we use 10-fold stratified cross-validation\n",
        "cv_10fold = model_selection.StratifiedKFold(n_splits=10)\n",
        "\n",
        "# Create the grid search method, use area under ROC curve as scoring metric\n",
        "# Too learn more about metrics see: https://scikit-learn.org/stable/modules/model_evaluation.html#scoring-parameter\n",
        "clf = model_selection.RandomizedSearchCV(neighbors.KNeighborsClassifier(), parameters, cv=cv_10fold, n_iter=500, scoring=scoring)\n",
        "\n",
        "# Do the entire search\n",
        "clf.fit(X_pca, y_train)\n",
        "print(\"type = \", type(clf))\n",
        "print(clf.best_estimator_)\n",
        "\n",
        "# Show the complete results of the cross validation\n",
        "clf_df = pd.DataFrame(clf.cv_results_)\n",
        "\n",
        "# Extract the best k \n",
        "clf_df = clf_df.sort_values(by=['rank_test_score'])\n",
        "# optimal_k = clf_df['param_n_neighbors'].iloc[0]\n",
        "print(clf.best_params_)\n",
        "print(clf.best_score_)\n",
        "\n",
        "# Extract the best hyperparameters and fit\n",
        "knn_classifier = clf.best_estimator_\n",
        "knn_classifier.fit(X_pca, y_train)\n",
        "clsfs.append(knn_classifier)"
      ],
      "metadata": {
        "id": "F2Mc-n3yzRIP"
      },
      "execution_count": null,
      "outputs": []
    },
    {
      "cell_type": "markdown",
      "source": [
        "## Gedoe"
      ],
      "metadata": {
        "id": "tgHdHwpHUaXf"
      }
    },
    {
      "cell_type": "code",
      "source": [
        "# The scorers can be either one of the predefined metric strings or a scorer\n",
        "# callable, like the one returned by make_scorer\n",
        "scoring = {\"accuracy\": \"accuracy\", \"recall\": \"recall\"}\n",
        "\n",
        "# Setting refit='AUC', refits an estimator on the whole dataset with the\n",
        "# parameter setting that has the best cross-validated AUC score.\n",
        "# That estimator is made available at ``gs.best_estimator_`` along with\n",
        "# parameters like ``gs.best_score_``, ``gs.best_params_`` and\n",
        "# ``gs.best_index_``\n",
        "# gs = model_selection.RandomizedSearchCV(\n",
        "#     neighbors.KNeighborsClassifier(),parameters,\n",
        "#     scoring=[\"accuracy\", \"recall\"],\n",
        "#     refit=\"accuracy\",\n",
        "#     n_jobs=2,\n",
        "#     return_train_score=True,\n",
        "# )\n",
        "\n",
        "gs = model_selection.RandomizedSearchCV(neighbors.KNeighborsClassifier(), parameters, cv=cv_10fold, n_iter=200, scoring=scoring, refit='accuracy')\n",
        "gs.fit(X, y)\n",
        "results = gs.cv_results_"
      ],
      "metadata": {
        "id": "7uWCcpOKUZpP"
      },
      "execution_count": null,
      "outputs": []
    },
    {
      "cell_type": "code",
      "source": [
        "print(results.keys())\n",
        "\n",
        "plt.figure(figsize=(13, 13))\n",
        "plt.title(\"GridSearchCV evaluating using multiple scorers simultaneously\", fontsize=16)\n",
        "\n",
        "plt.xlabel(\"n_neighbors\")\n",
        "plt.ylabel(\"Score\")\n",
        "\n",
        "ax = plt.gca()\n",
        "# ax.set_xlim(0, 402)\n",
        "# ax.set_ylim(0.73, 1)\n",
        "\n",
        "# Get the regular numpy array from the MaskedArray\n",
        "X_axis = np.array(results[\"param_n_neighbors\"].data, dtype=float)\n",
        "\n",
        "for scorer, color in zip(sorted(scoring), [\"g\", \"k\"]):\n",
        "    sample = \"test\"\n",
        "    style = \"-\"\n",
        "    # for sample, style in ((\"test\", \"-\")):\n",
        "    sample_score_mean = results[\"mean_%s_%s\" % (sample, scorer)]\n",
        "    sample_score_std = results[\"std_%s_%s\" % (sample, scorer)]\n",
        "    ax.fill_between(\n",
        "        X_axis,\n",
        "        sample_score_mean - sample_score_std,\n",
        "        sample_score_mean + sample_score_std,\n",
        "        alpha=0.1 if sample == \"test\" else 0,\n",
        "        color=color,\n",
        "    )\n",
        "    ax.plot(\n",
        "        X_axis,\n",
        "        sample_score_mean,\n",
        "        style,\n",
        "        color=color,\n",
        "        alpha=1 if sample == \"test\" else 0.7,\n",
        "        label=\"%s (%s)\" % (scorer, sample),\n",
        "    )\n",
        "\n",
        "    best_index = np.nonzero(results[\"rank_test_%s\" % scorer] == 1)[0][0]\n",
        "    best_score = results[\"mean_test_%s\" % scorer][best_index]\n",
        "\n",
        "    # Plot a dotted vertical line at the best score for that scorer marked by x\n",
        "    ax.plot(\n",
        "        [\n",
        "            X_axis[best_index],\n",
        "        ]\n",
        "        * 2,\n",
        "        [0, best_score],\n",
        "        linestyle=\"-.\",\n",
        "        color=color,\n",
        "        marker=\"x\",\n",
        "        markeredgewidth=3,\n",
        "        ms=8,\n",
        "    )\n",
        "\n",
        "    # Annotate the best score for that scorer\n",
        "    ax.annotate(\"%0.2f\" % best_score, (X_axis[best_index], best_score + 0.005))\n",
        "\n",
        "plt.legend(loc=\"best\")\n",
        "plt.grid(False)\n",
        "plt.show()"
      ],
      "metadata": {
        "id": "Ruk4lEhQV6kg"
      },
      "execution_count": null,
      "outputs": []
    },
    {
      "cell_type": "markdown",
      "source": [
        "## Random Forest"
      ],
      "metadata": {
        "id": "u_79CKvDLR_p"
      }
    },
    {
      "cell_type": "code",
      "source": [
        "parameters = {'n_estimators': np.arange(50, 400, 50),\n",
        "              'max_depth': [5, 10, 15],\n",
        "              'min_samples_leaf': [2, 4]}\n",
        "\n",
        "cv_10fold = model_selection.StratifiedKFold(n_splits=10)\n",
        "\n",
        "clf = model_selection.RandomizedSearchCV(RandomForestRegressor(), parameters, cv=cv_10fold, n_iter=40, scoring=scoring)\n",
        "    \n",
        "# Fit the classifier\n",
        "clf.fit(X_pca, y_train)\n",
        "\n",
        "# Show the complete results of the cross validation\n",
        "clf_df = pd.DataFrame(clf.cv_results_)\n",
        "clf_df = clf_df.sort_values(by=['rank_test_score'])\n",
        "\n",
        "# Extract the best hyperparameters \n",
        "print(clf.best_params_)\n",
        "print(clf.best_score_)\n",
        "\n",
        "# Extract the best hyperparameters and fit\n",
        "RF_classifier = clf.best_estimator_\n",
        "RF_classifier.fit(X_pca, y_train)\n",
        "clsfs.append(RF_classifier)\n"
      ],
      "metadata": {
        "id": "rpwtmKvoLTjD"
      },
      "execution_count": null,
      "outputs": []
    },
    {
      "cell_type": "code",
      "source": [
        "\n"
      ],
      "metadata": {
        "id": "L4WjL4FH1zT8"
      },
      "execution_count": null,
      "outputs": []
    },
    {
      "cell_type": "markdown",
      "source": [
        "## SVM"
      ],
      "metadata": {
        "id": "_O8fWaFjCSl-"
      }
    },
    {
      "cell_type": "code",
      "source": [
        "parameters = {'C': loguniform(0.1, 100),\n",
        "              'kernel': ['rbf', 'linear', 'poly', 'sigmoid'],\n",
        "              'degree': randint(1, 5),\n",
        "              'gamma': loguniform(1e-4, 1),\n",
        "              'class_weight':['balanced', None]}\n",
        " \n",
        "cv_10fold = model_selection.StratifiedKFold(n_splits=10)\n",
        "\n",
        "clf = model_selection.RandomizedSearchCV(SVC(), parameters, cv=cv_10fold, n_iter=500, scoring=scoring)\n",
        "\n",
        "# Do the entire search\n",
        "clf.fit(X_pca, y_train)\n",
        "\n",
        "# Show the complete results of the cross validation\n",
        "clf_df = pd.DataFrame(clf.cv_results_)\n",
        "clf_df = clf_df.sort_values(by=['rank_test_score'])\n",
        "\n",
        "# Extract the best hyperparameters \n",
        "print(clf.best_score_)\n",
        "print(clf.best_params_)\n",
        "\n",
        "# Extract the best hyperparameters and fit\n",
        "svm_classifier = clf.best_estimator_\n",
        "svm_classifier.fit(X_pca, y_train)\n",
        "clsfs.append(svm_classifier)\n"
      ],
      "metadata": {
        "id": "5MwjArCFCZmH"
      },
      "execution_count": null,
      "outputs": []
    },
    {
      "cell_type": "code",
      "source": [
        "print(clf_df)"
      ],
      "metadata": {
        "id": "nZYvaxx6HvgA"
      },
      "execution_count": null,
      "outputs": []
    },
    {
      "cell_type": "markdown",
      "source": [
        "## Learning curves"
      ],
      "metadata": {
        "id": "0L14bXT1R6sI"
      }
    },
    {
      "cell_type": "code",
      "source": [
        "fig = plt.figure(figsize=(24,10))\n",
        "num = 0\n",
        "for clf in clsfs:\n",
        "    num +=1\n",
        "    ax = fig.add_subplot(2, 3, num)\n",
        "    title = str(type(clf))\n",
        "    plot_learning_curve(clf, title, X_pca, y_train, ax, ylim=(0.3, 1.01), cv=10)\n"
      ],
      "metadata": {
        "id": "1nBrCgircqK1"
      },
      "execution_count": null,
      "outputs": []
    }
  ],
  "metadata": {
    "colab": {
      "name": "assignment.ipynb",
      "provenance": []
    },
    "kernelspec": {
      "display_name": "Python 3",
      "language": "python",
      "name": "python3"
    },
    "language_info": {
      "codemirror_mode": {
        "name": "ipython",
        "version": 3
      },
      "file_extension": ".py",
      "mimetype": "text/x-python",
      "name": "python",
      "nbconvert_exporter": "python",
      "pygments_lexer": "ipython3",
      "version": "3.8.5"
    }
  },
  "nbformat": 4,
  "nbformat_minor": 0
}