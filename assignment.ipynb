{
  "cells": [
    {
      "cell_type": "markdown",
      "metadata": {
        "id": "7SXpaKwwGe5x"
      },
      "source": [
        "# TM10007 Assignment template"
      ]
    },
    {
      "cell_type": "code",
      "execution_count": 13,
      "metadata": {
        "colab": {
          "base_uri": "https://localhost:8080/"
        },
        "id": "CiDn2Sk-VWqE",
        "outputId": "b5ea11a0-557e-4cce-b1d2-a17d082de3c5"
      },
      "outputs": [
        {
          "output_type": "stream",
          "name": "stdout",
          "text": [
            "fatal: destination path 'TM10007_ML_g9' already exists and is not an empty directory.\n"
          ]
        }
      ],
      "source": [
        "# Run this to use from colab environment\n",
        "!git clone https://github.com/Doesjka/TM10007_ML_g9.git"
      ]
    },
    {
      "cell_type": "markdown",
      "metadata": {
        "id": "KEUJUe8plrxC"
      },
      "source": [
        "## Data loading and cleaning\n",
        "\n",
        "Below are functions to load the dataset of your choice. After that, it is all up to you to create and evaluate a classification method. Beware, there may be missing values in these datasets. Good luck!"
      ]
    },
    {
      "cell_type": "code",
      "execution_count": 38,
      "metadata": {
        "colab": {
          "base_uri": "https://localhost:8080/"
        },
        "id": "-NE_fTbKGe5z",
        "outputId": "b6e84d46-fed7-4f94-9b4a-848b00895897"
      },
      "outputs": [
        {
          "output_type": "stream",
          "name": "stdout",
          "text": [
            "The number of samples: 115\n",
            "The number of columns: 494\n"
          ]
        }
      ],
      "source": [
        "import os\n",
        "import pandas as pd\n",
        "\n",
        "data = pd.read_csv('/content/TM10007_ML_g9/worclipo/Lipo_radiomicFeatures.csv', index_col=0)\n",
        "print(f'The number of samples: {len(data.index)}')\n",
        "print(f'The number of columns: {len(data.columns)}')\n"
      ]
    },
    {
      "cell_type": "code",
      "source": [
        "zeros = (data == 0).sum()\n",
        "threshold = 0.5 * len(data.index)\n",
        "feature_del = zeros[zeros > 60]\n",
        "\n",
        "new_data = data.drop(columns=feature_del.index)\n",
        "print(f'{len(data.columns)-len(new_data.columns)} features were deleted')\n",
        "\n"
      ],
      "metadata": {
        "id": "vWcI7Y3g7eDk",
        "outputId": "1d553fb9-2196-439f-fdf1-87d49d5af288",
        "colab": {
          "base_uri": "https://localhost:8080/"
        }
      },
      "execution_count": 63,
      "outputs": [
        {
          "output_type": "stream",
          "name": "stdout",
          "text": [
            "23 features were deleted\n"
          ]
        }
      ]
    },
    {
      "cell_type": "code",
      "source": [
        "more_zeros = (new_data == 0).sum()\n",
        "pd.set_option('display.max_rows', None)\n",
        "columns_zeros = more_zeros[more_zeros > 0].index\n",
        "print(f'Of the remaining features, {len(columns_zeros)} features have at least one zero')\n",
        "\n",
        "for column in columns_zeros:\n",
        "  new_data[column] = new_data[column].replace(0, new_data[column].mean())\n"
      ],
      "metadata": {
        "id": "iuoOrHuMAsFY",
        "outputId": "7a43f3a7-70d6-496a-98a8-a903af3e64a8",
        "colab": {
          "base_uri": "https://localhost:8080/"
        }
      },
      "execution_count": 64,
      "outputs": [
        {
          "output_type": "stream",
          "name": "stdout",
          "text": [
            "Of the remaining features, 13 features have at least one zero\n"
          ]
        }
      ]
    }
  ],
  "metadata": {
    "colab": {
      "name": "assignment.ipynb",
      "provenance": []
    },
    "kernelspec": {
      "display_name": "Python 3",
      "language": "python",
      "name": "python3"
    },
    "language_info": {
      "codemirror_mode": {
        "name": "ipython",
        "version": 3
      },
      "file_extension": ".py",
      "mimetype": "text/x-python",
      "name": "python",
      "nbconvert_exporter": "python",
      "pygments_lexer": "ipython3",
      "version": "3.8.5"
    }
  },
  "nbformat": 4,
  "nbformat_minor": 0
}